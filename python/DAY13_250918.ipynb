{
 "cells": [
  {
   "cell_type": "code",
   "execution_count": 5,
   "id": "7eacec7c-6782-4eac-a950-ed07c12e0505",
   "metadata": {},
   "outputs": [
    {
     "name": "stdout",
     "output_type": "stream",
     "text": [
      "Requirement already satisfied: tqdm in c:\\users\\kccistc\\anaconda3\\envs\\robot\\lib\\site-packages (4.67.1)\n",
      "Requirement already satisfied: colorama in c:\\users\\kccistc\\anaconda3\\envs\\robot\\lib\\site-packages (from tqdm) (0.4.6)\n"
     ]
    }
   ],
   "source": [
    "!pip install tqdm"
   ]
  },
  {
   "cell_type": "code",
   "execution_count": 1,
   "id": "7c5b8fca-bec6-480f-89ee-631a218aa644",
   "metadata": {},
   "outputs": [],
   "source": [
    "# 붓꽃 데이터를 tensorflow말고 Pytorch에서 학습해 보자\n",
    "\n",
    "import torch # 텐서 생성, 연산\n",
    "import torch.nn as nn # 신경망(neural network)의 층(layer) 관련 라이브러리\n",
    "import torch.optim as optim # 최적화 알고리즘\n",
    "from torch.utils.data import DataLoader, TensorDataset # TensorDataset -> X, y를 텐서형태로 나누기\n",
    "\n",
    "import pandas as pd\n",
    "from sklearn.preprocessing import LabelEncoder # label 전처리\n",
    "from tqdm.notebook import tqdm # 에포크 상황 확인하기\n",
    "\n"
   ]
  },
  {
   "cell_type": "code",
   "execution_count": 2,
   "id": "167b6d9c-99b2-412d-849d-ea55d11c20ee",
   "metadata": {},
   "outputs": [],
   "source": [
    "df = pd.read_csv(\"robot/data/iris3.csv\")\n",
    "# 0 ~ 4 미만 까지 X, tensor로 변환하기 용이하게 ndarray로 변환\n",
    "# 4번 인덱스 y\n",
    "X = df.iloc[ : , :4].values\n",
    "y = df.iloc[ : , 4].values\n",
    "\n",
    "# 레이블들이 Iris-setosa 형식으로 클래스 이름으로 되어 있음\n",
    "# -> 0, 1, 2 등 숫자형으로 Label을 변환할 필요가 있음\n",
    "# 왜? Pytorch는 정수나 숫자만 연산 가능\n",
    "label_encoder = LabelEncoder()\n",
    "y_encoded = label_encoder.fit_transform(y)\n",
    "\n",
    "# ndarray 형태의 X를 Pytorch에서 사용하기 위해 텐서 형태로 변환\n",
    "\n",
    "X_tensor = torch.tensor(X, dtype=torch.float32)\n",
    "y_tensor = torch.tensor(y_encoded, dtype=torch.long)\n",
    "\n"
   ]
  },
  {
   "cell_type": "code",
   "execution_count": 3,
   "id": "be71bf46-ac17-4678-bebb-0a0a9212ca28",
   "metadata": {},
   "outputs": [],
   "source": [
    "# 모델 정의\n",
    "class IrisModel(nn.Module):\n",
    "    def __init__(self):\n",
    "        super().__init__()\n",
    "        # day11의 iris를 tensorflow로 진행했었던 내용 그대로\n",
    "        self.layer_1 = nn.Linear(4, 12)\n",
    "        self.layer_2 = nn.Linear(12, 8)\n",
    "        self.layer_3 = nn.Linear(8, 3)\n",
    "        \n",
    "    # 순전파\n",
    "    def forward(self, X):\n",
    "        # 1) input 4 -> output 12\n",
    "        # 1-1) 활성화 함수 relu\n",
    "        # 2) input 12 -> output 8\n",
    "        # 2-1) 활성화 함수 relu\n",
    "        # 3) input 8 -> output 3\n",
    "        \n",
    "        X = torch.relu(self.layer_1(X))\n",
    "        X = torch.relu(self.layer_2(X))\n",
    "        X = self.layer_3(X)\n",
    "        return X\n",
    "        "
   ]
  },
  {
   "cell_type": "code",
   "execution_count": 4,
   "id": "d9241b68-dd4c-4cc0-8cdc-cddbd44c683b",
   "metadata": {},
   "outputs": [],
   "source": [
    "# 모델 생성\n",
    "model = IrisModel()\n",
    "\n",
    "# 손실 함수\n",
    "loss_fn = nn.CrossEntropyLoss() # softmax 다중분류\n",
    "# 옵티마이저\n",
    "optimizer = optim.Adam(model.parameters(), lr=0.001)\n",
    "\n",
    "# 데이터셋 -> 텐서 형식으로 변환\n",
    "dataset = TensorDataset(X_tensor, y_tensor)\n",
    "dataloader = DataLoader(dataset,batch_size=5, shuffle=True)"
   ]
  },
  {
   "cell_type": "code",
   "execution_count": 21,
   "id": "6280a02f-b7ca-43b1-8280-4e531e684d90",
   "metadata": {},
   "outputs": [
    {
     "name": "stdout",
     "output_type": "stream",
     "text": [
      "Collecting ipywidgets\n",
      "  Using cached ipywidgets-8.1.7-py3-none-any.whl.metadata (2.4 kB)\n",
      "Requirement already satisfied: comm>=0.1.3 in c:\\users\\kccistc\\anaconda3\\envs\\robot\\lib\\site-packages (from ipywidgets) (0.2.3)\n",
      "Requirement already satisfied: ipython>=6.1.0 in c:\\users\\kccistc\\anaconda3\\envs\\robot\\lib\\site-packages (from ipywidgets) (8.21.0)\n",
      "Requirement already satisfied: traitlets>=4.3.1 in c:\\users\\kccistc\\anaconda3\\envs\\robot\\lib\\site-packages (from ipywidgets) (5.7.1)\n",
      "Collecting widgetsnbextension~=4.0.14 (from ipywidgets)\n",
      "  Using cached widgetsnbextension-4.0.14-py3-none-any.whl.metadata (1.6 kB)\n",
      "Collecting jupyterlab_widgets~=3.0.15 (from ipywidgets)\n",
      "  Using cached jupyterlab_widgets-3.0.15-py3-none-any.whl.metadata (20 kB)\n",
      "Requirement already satisfied: decorator in c:\\users\\kccistc\\anaconda3\\envs\\robot\\lib\\site-packages (from ipython>=6.1.0->ipywidgets) (5.2.1)\n",
      "Requirement already satisfied: jedi>=0.16 in c:\\users\\kccistc\\anaconda3\\envs\\robot\\lib\\site-packages (from ipython>=6.1.0->ipywidgets) (0.19.2)\n",
      "Requirement already satisfied: matplotlib-inline in c:\\users\\kccistc\\anaconda3\\envs\\robot\\lib\\site-packages (from ipython>=6.1.0->ipywidgets) (0.1.7)\n",
      "Requirement already satisfied: prompt-toolkit<3.1.0,>=3.0.41 in c:\\users\\kccistc\\anaconda3\\envs\\robot\\lib\\site-packages (from ipython>=6.1.0->ipywidgets) (3.0.52)\n",
      "Requirement already satisfied: pygments>=2.4.0 in c:\\users\\kccistc\\anaconda3\\envs\\robot\\lib\\site-packages (from ipython>=6.1.0->ipywidgets) (2.19.1)\n",
      "Requirement already satisfied: stack-data in c:\\users\\kccistc\\anaconda3\\envs\\robot\\lib\\site-packages (from ipython>=6.1.0->ipywidgets) (0.6.3)\n",
      "Requirement already satisfied: colorama in c:\\users\\kccistc\\anaconda3\\envs\\robot\\lib\\site-packages (from ipython>=6.1.0->ipywidgets) (0.4.6)\n",
      "Requirement already satisfied: wcwidth in c:\\users\\kccistc\\anaconda3\\envs\\robot\\lib\\site-packages (from prompt-toolkit<3.1.0,>=3.0.41->ipython>=6.1.0->ipywidgets) (0.2.13)\n",
      "Requirement already satisfied: parso<0.9.0,>=0.8.4 in c:\\users\\kccistc\\anaconda3\\envs\\robot\\lib\\site-packages (from jedi>=0.16->ipython>=6.1.0->ipywidgets) (0.8.5)\n",
      "Requirement already satisfied: executing>=1.2.0 in c:\\users\\kccistc\\anaconda3\\envs\\robot\\lib\\site-packages (from stack-data->ipython>=6.1.0->ipywidgets) (2.2.1)\n",
      "Requirement already satisfied: asttokens>=2.1.0 in c:\\users\\kccistc\\anaconda3\\envs\\robot\\lib\\site-packages (from stack-data->ipython>=6.1.0->ipywidgets) (3.0.0)\n",
      "Requirement already satisfied: pure-eval in c:\\users\\kccistc\\anaconda3\\envs\\robot\\lib\\site-packages (from stack-data->ipython>=6.1.0->ipywidgets) (0.2.3)\n",
      "Using cached ipywidgets-8.1.7-py3-none-any.whl (139 kB)\n",
      "Using cached jupyterlab_widgets-3.0.15-py3-none-any.whl (216 kB)\n",
      "Using cached widgetsnbextension-4.0.14-py3-none-any.whl (2.2 MB)\n",
      "Installing collected packages: widgetsnbextension, jupyterlab_widgets, ipywidgets\n",
      "\n",
      "  Attempting uninstall: widgetsnbextension\n",
      "\n",
      "    Found existing installation: widgetsnbextension 3.6.10\n",
      "\n",
      "    Uninstalling widgetsnbextension-3.6.10:\n",
      "\n",
      "      Successfully uninstalled widgetsnbextension-3.6.10\n",
      "\n",
      "   -------------------------- ------------- 2/3 [ipywidgets]\n",
      "   ---------------------------------------- 3/3 [ipywidgets]\n",
      "\n",
      "Successfully installed ipywidgets-8.1.7 jupyterlab_widgets-3.0.15 widgetsnbextension-4.0.14\n",
      "Note: you may need to restart the kernel to use updated packages.\n"
     ]
    }
   ],
   "source": [
    "pip install --upgrade ipywidgets"
   ]
  },
  {
   "cell_type": "code",
   "execution_count": 23,
   "id": "d15afbe0-8458-4032-b452-5edfc612b198",
   "metadata": {},
   "outputs": [],
   "source": [
    "from tqdm.notebook import tqdm"
   ]
  },
  {
   "cell_type": "code",
   "execution_count": 5,
   "id": "3664fe06-9198-4308-9649-ca009802af6e",
   "metadata": {},
   "outputs": [
    {
     "data": {
      "application/vnd.jupyter.widget-view+json": {
       "model_id": "699a539e8cfd4cf9b715ad24072f6863",
       "version_major": 2,
       "version_minor": 0
      },
      "text/plain": [
       "  0%|          | 0/30 [00:00<?, ?it/s]"
      ]
     },
     "metadata": {},
     "output_type": "display_data"
    }
   ],
   "source": [
    "# 모델 학습\n",
    "epochs = 30\n",
    "for epoch in tqdm(range(epochs)):\n",
    "    for input_data, label in dataloader:\n",
    "        # 1) 기울기 0으로 초기화\n",
    "        optimizer.zero_grad()\n",
    "        # 2) 모델에 input 넣어 예측 값 얻기\n",
    "        pred = model(input_data)\n",
    "        # 3) 예측 값을 통해 loss 계산\n",
    "        loss = loss_fn(pred, label)\n",
    "        # 4) loss 통해 최적화 (역전파)\n",
    "        loss.backward()\n",
    "        # 5) 가중치, 바이어스 업데이트\n",
    "        optimizer.step()"
   ]
  },
  {
   "cell_type": "code",
   "execution_count": 7,
   "id": "b81b67a0-39b5-4ec0-83f0-874e4e156f18",
   "metadata": {},
   "outputs": [
    {
     "name": "stdout",
     "output_type": "stream",
     "text": [
      "정확도 : 0.95\n"
     ]
    }
   ],
   "source": [
    "# 모델 평가\n",
    "with torch.no_grad():\n",
    "    pred = model(X_tensor)\n",
    "    # pred.data의 클래스 중 가장 높은 값\n",
    "    _, predicted = torch.max(pred.data, 1)\n",
    "    # 전체 데이터셋의 크기\n",
    "    total = y_tensor.size(0)\n",
    "    # 예측값과 실제값이 같으면 같은 것들을 전부 합산하여 correct에 저장\n",
    "    correct = (predicted == y_tensor).sum().item()\n",
    "    # 정확도\n",
    "    print(f\"정확도 : {correct / total:.2f}\")   "
   ]
  },
  {
   "cell_type": "code",
   "execution_count": 8,
   "id": "c6666ea1-8c4a-4605-9b39-8756881de3ec",
   "metadata": {},
   "outputs": [
    {
     "name": "stderr",
     "output_type": "stream",
     "text": [
      "Cloning into 'yolov5'...\n"
     ]
    }
   ],
   "source": [
    "!git clone https://github.com/ultralytics/yolov5"
   ]
  }
 ],
 "metadata": {
  "kernelspec": {
   "display_name": "Python 3 (ipykernel)",
   "language": "python",
   "name": "python3"
  },
  "language_info": {
   "codemirror_mode": {
    "name": "ipython",
    "version": 3
   },
   "file_extension": ".py",
   "mimetype": "text/x-python",
   "name": "python",
   "nbconvert_exporter": "python",
   "pygments_lexer": "ipython3",
   "version": "3.12.11"
  }
 },
 "nbformat": 4,
 "nbformat_minor": 5
}
