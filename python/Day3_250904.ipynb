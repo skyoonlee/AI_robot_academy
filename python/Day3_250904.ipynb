{
 "cells": [
  {
   "cell_type": "markdown",
   "id": "503a8857-57fd-4ca6-90e2-87f1a40d4dfd",
   "metadata": {},
   "source": [
    "### 3일차_250904"
   ]
  },
  {
   "cell_type": "code",
   "execution_count": 1,
   "id": "4f2bb552-0c97-40b2-b283-ac8ea84383b8",
   "metadata": {},
   "outputs": [
    {
     "name": "stdout",
     "output_type": "stream",
     "text": [
      "짬뽕\n",
      "쌀국수\n",
      "곰탕\n"
     ]
    }
   ],
   "source": [
    "# 반복문\n",
    "# for문\n",
    "menu_list = [\"짬뽕\", \"쌀국수\", \"곰탕\"]\n",
    "\n",
    "for menu in menu_list:\n",
    "    print(menu)"
   ]
  },
  {
   "cell_type": "code",
   "execution_count": 4,
   "id": "40d004f7-ec13-4b19-abd7-54f61fd17551",
   "metadata": {},
   "outputs": [
    {
     "name": "stdout",
     "output_type": "stream",
     "text": [
      "1 2 3 4 5 6 7 8 9 10 "
     ]
    }
   ],
   "source": [
    "tuple_nums = (1,2,3,4,5,6,7,8,9,10)\n",
    "for num in tuple_nums:\n",
    "    print(num, end=\" \")"
   ]
  },
  {
   "cell_type": "code",
   "execution_count": 8,
   "id": "3a1ebcae-8fd7-4ed2-9d60-b870b9001a45",
   "metadata": {},
   "outputs": [
    {
     "name": "stdout",
     "output_type": "stream",
     "text": [
      "M*y* *n*a*m*e* *i*s* *S*K*"
     ]
    }
   ],
   "source": [
    "intro = \"My name is SK\"\n",
    "for letter in intro:\n",
    "    print(letter, end=\"*\")"
   ]
  },
  {
   "cell_type": "code",
   "execution_count": 17,
   "id": "4a672311-1dcb-45d8-9a9f-e795732b9b0c",
   "metadata": {},
   "outputs": [
    {
     "name": "stdout",
     "output_type": "stream",
     "text": [
      "3 6 9 12 15 18 21 24 27 30 33 36 39 42 45 48 51 54 57 60 63 66 69 72 75 78 81 84 87 90 93 96 99 \n",
      "1 2 3 4 5 6 7 8 9 10 \n",
      "1 2 3 4 5 6 7 "
     ]
    }
   ],
   "source": [
    "# 1~100까지 출력\n",
    "# range(시작값, 끝값, 증가량)\n",
    "# i,j,k, ...\n",
    "\n",
    "for i in range(3,101,3):\n",
    "    print(i, end=\" \")\n",
    "print()\n",
    "\n",
    "#range(시작값, 끝값)\n",
    "for i in range(1, 11):\n",
    "    print(i, end =\" \")\n",
    "\n",
    "#range(끝값)\n",
    "print()\n",
    "for i in range(7):\n",
    "    print(i + 1, end =\" \")"
   ]
  },
  {
   "cell_type": "code",
   "execution_count": 30,
   "id": "1928904e-c660-45bf-94c6-1d98aa1e50f3",
   "metadata": {},
   "outputs": [
    {
     "name": "stdout",
     "output_type": "stream",
     "text": [
      "7 14 21 28 35 42 49 56 63 70 77 84 91 98 \n",
      "7 14 21 28 35 42 49 56 63 70 77 84 91 98 \n",
      "7 14 21 28 35 42 49 56 63 70 77 84 91 98 \n",
      "735\n"
     ]
    }
   ],
   "source": [
    "# 1. for문 활용 1~ 100 사이 중 7의 배수 출력\n",
    "\n",
    "for i in range(7,101,7):\n",
    "    print(i, end=\" \")\n",
    "\n",
    "# 1-2\n",
    "print()\n",
    "for i in range(1,101,1):\n",
    "    if i % 7 == 0:\n",
    "        print(i, end=\" \")\n",
    "        \n",
    "# 2. 해당하는 7의 배수의 총합 출력\n",
    "print()\n",
    "total = 0\n",
    "for i in range(1,101,1):\n",
    "    if i % 7 == 0:\n",
    "        print(i, end=\" \")\n",
    "        total += i\n",
    "print()\n",
    "print(total)"
   ]
  },
  {
   "cell_type": "code",
   "execution_count": 53,
   "id": "2b5a115e-9cc8-4419-bc9c-8f593964f23a",
   "metadata": {},
   "outputs": [
    {
     "name": "stdout",
     "output_type": "stream",
     "text": [
      "\n",
      "\n",
      "1683\n",
      "\n",
      "1050\n",
      "\n",
      "315\n"
     ]
    }
   ],
   "source": [
    "# 1 ~ 100사이 수 중\n",
    "# 3의 배수의 총합을 total_3\n",
    "# 5의 배수의 총합 total_5\n",
    "# 3의 배수이면서 5의 배수의 총합을 total_3_5\n",
    "# 에 저장 후 출력\n",
    "\n",
    "total_3 = 0\n",
    "total_5 = 0\n",
    "total_3_5 = 0\n",
    "\n",
    "print()\n",
    "for i in range(1,101):\n",
    "    if i % 3 == 0 and i % 5 == 0:\n",
    "        total_3_5 += i\n",
    "        total_3 += i\n",
    "        total_5 += i\n",
    "    elif i % 3 == 0:\n",
    "        total_3 += i\n",
    "    elif i % 5 == 0:\n",
    "        total_5 += i\n",
    "\n",
    "print()\n",
    "print(total_3)\n",
    "print()\n",
    "print(total_5)\n",
    "print()\n",
    "print(total_3_5)\n",
    "\n",
    "\n",
    "# # 1 ~ 100사이 수 중\n",
    "# # 3의 배수의 총합을 total_3\n",
    "# # 5의 배수의 총합을 total_5\n",
    "# # 3의 배수이면서 5의 배수의 총합을 total_3_5\n",
    "# # 에 저장 후 출력!!\n",
    "# total_3 = 0\n",
    "# total_5 = 0\n",
    "# total_3_5 = 0\n",
    "# for i in range(1, 101):\n",
    "#     if i % 3 == 0 and i % 5 == 0:\n",
    "#         total_3_5 += i\n",
    "#         total_3 += i\n",
    "#         total_5 += i\n",
    "#     elif i % 3 == 0:\n",
    "#         total_3 += i\n",
    "#     elif i % 5 == 0:\n",
    "#         total_5 += i\n",
    "# print(f\"3의 배수의 총합 : {total_3}\")\n",
    "# print(f\"5의 배수의 총합 : {total_5}\")\n",
    "# print(f\"3의 배수이면서 5의 배수의 총합 : {total_3_5}\")\n"
   ]
  },
  {
   "cell_type": "code",
   "execution_count": 45,
   "id": "53ad259f-397f-4dab-accd-5f623c2df633",
   "metadata": {},
   "outputs": [
    {
     "name": "stdout",
     "output_type": "stream",
     "text": [
      "2 * 1 = 2\n",
      "2 * 2 = 4\n",
      "2 * 3 = 6\n",
      "2 * 4 = 8\n",
      "2 * 5 = 10\n",
      "2 * 6 = 12\n",
      "2 * 7 = 14\n",
      "2 * 8 = 16\n",
      "2 * 9 = 18\n"
     ]
    }
   ],
   "source": [
    "#for문을 이용한 구구단\n",
    "#2단\n",
    "for i in range(1,10):\n",
    "    print(f\"2 * {i} = {2 * i}\")"
   ]
  },
  {
   "cell_type": "code",
   "execution_count": 47,
   "id": "b434005a-bb1e-46f2-90db-50b3bc215f61",
   "metadata": {},
   "outputs": [
    {
     "name": "stdout",
     "output_type": "stream",
     "text": [
      "3 * 1 = 3\n",
      "3 * 2 = 6\n",
      "3 * 3 = 9\n",
      "3 * 4 = 12\n",
      "3 * 5 = 15\n",
      "3 * 6 = 18\n",
      "3 * 7 = 21\n",
      "3 * 8 = 24\n",
      "3 * 9 = 27\n"
     ]
    }
   ],
   "source": [
    "#for문을 이용한 구구단\n",
    "#3단\n",
    "j = 3\n",
    "for i in range(1,10):\n",
    "    print(f\"{j} * {i} = {j*i}\")    "
   ]
  },
  {
   "cell_type": "code",
   "execution_count": 249,
   "id": "d35907e1-9401-4c87-8cb8-44a9cf1b76ad",
   "metadata": {},
   "outputs": [
    {
     "name": "stdout",
     "output_type": "stream",
     "text": [
      "2 * 1 = 2\n",
      "2 * 2 = 4\n",
      "2 * 3 = 6\n",
      "2 * 4 = 8\n",
      "2 * 5 = 10\n",
      "2 * 6 = 12\n",
      "2 * 7 = 14\n",
      "2 * 8 = 16\n",
      "2 * 9 = 18\n",
      " \n",
      "3 * 1 = 3\n",
      "3 * 2 = 6\n",
      "3 * 3 = 9\n",
      "3 * 4 = 12\n",
      "3 * 5 = 15\n",
      "3 * 6 = 18\n",
      "3 * 7 = 21\n",
      "3 * 8 = 24\n",
      "3 * 9 = 27\n",
      " \n",
      "4 * 1 = 4\n",
      "4 * 2 = 8\n",
      "4 * 3 = 12\n",
      "4 * 4 = 16\n",
      "4 * 5 = 20\n",
      "4 * 6 = 24\n",
      "4 * 7 = 28\n",
      "4 * 8 = 32\n",
      "4 * 9 = 36\n",
      " \n",
      "5 * 1 = 5\n",
      "5 * 2 = 10\n",
      "5 * 3 = 15\n",
      "5 * 4 = 20\n",
      "5 * 5 = 25\n",
      "5 * 6 = 30\n",
      "5 * 7 = 35\n",
      "5 * 8 = 40\n",
      "5 * 9 = 45\n",
      " \n",
      "6 * 1 = 6\n",
      "6 * 2 = 12\n",
      "6 * 3 = 18\n",
      "6 * 4 = 24\n",
      "6 * 5 = 30\n",
      "6 * 6 = 36\n",
      "6 * 7 = 42\n",
      "6 * 8 = 48\n",
      "6 * 9 = 54\n",
      " \n",
      "7 * 1 = 7\n",
      "7 * 2 = 14\n",
      "7 * 3 = 21\n",
      "7 * 4 = 28\n",
      "7 * 5 = 35\n",
      "7 * 6 = 42\n",
      "7 * 7 = 49\n",
      "7 * 8 = 56\n",
      "7 * 9 = 63\n",
      " \n",
      "8 * 1 = 8\n",
      "8 * 2 = 16\n",
      "8 * 3 = 24\n",
      "8 * 4 = 32\n",
      "8 * 5 = 40\n",
      "8 * 6 = 48\n",
      "8 * 7 = 56\n",
      "8 * 8 = 64\n",
      "8 * 9 = 72\n",
      " \n",
      "9 * 1 = 9\n",
      "9 * 2 = 18\n",
      "9 * 3 = 27\n",
      "9 * 4 = 36\n",
      "9 * 5 = 45\n",
      "9 * 6 = 54\n",
      "9 * 7 = 63\n",
      "9 * 8 = 72\n",
      "9 * 9 = 81\n",
      " \n"
     ]
    }
   ],
   "source": [
    "#for문을 이용한 구구단\n",
    "for j in range(2,10):\n",
    "    for i in range(1,10):\n",
    "        print(f\"{j} * {i} = {j*i}\")\n",
    "        if i == 9:\n",
    "            print(\" \")"
   ]
  },
  {
   "cell_type": "code",
   "execution_count": 70,
   "id": "b8575a82-7589-4eb0-8f6a-0e943a575606",
   "metadata": {},
   "outputs": [
    {
     "name": "stdout",
     "output_type": "stream",
     "text": [
      "\n",
      "99\n"
     ]
    }
   ],
   "source": [
    "#for문을 이용하여 다음 list에 들어있는 요소 중 가장 큰 수를 찾아 출력\n",
    "list2 = [4,5,2,1,99,15,2,7,27]\n",
    "\n",
    "print()\n",
    "\n",
    "max_value = list2[0]\n",
    "\n",
    "for i in range(len(list2)):\n",
    "    \n",
    "    if list2[i] > max_value:\n",
    "        max_value = list2[i]\n",
    "    \n",
    "print(max_value)"
   ]
  },
  {
   "cell_type": "code",
   "execution_count": 74,
   "id": "86ef768a-b67b-468c-b255-f4f33562006d",
   "metadata": {},
   "outputs": [
    {
     "name": "stdout",
     "output_type": "stream",
     "text": [
      "[4, 5, 2, 1, 99, 15, 2, 7, 27]\n",
      "0 1 2 3 4 5 6 7 8 \n",
      "4 5 2 1 99 15 2 7 27 \n",
      "1번째 요소 : 4\n",
      "2번째 요소 : 5\n",
      "3번째 요소 : 2\n",
      "4번째 요소 : 1\n",
      "5번째 요소 : 99\n",
      "6번째 요소 : 15\n",
      "7번째 요소 : 2\n",
      "8번째 요소 : 7\n",
      "9번째 요소 : 27\n"
     ]
    }
   ],
   "source": [
    "# enumerate 함수\n",
    "print(list2)\n",
    "for i in range(len(list2)):\n",
    "    print(i, end=\" \")\n",
    "\n",
    "print()\n",
    "\n",
    "for num in list2:\n",
    "    print(num, end= \" \")\n",
    "    \n",
    "print()\n",
    "\n",
    "for i, num in enumerate(list2):\n",
    "    print(f\"{i + 1}번째 요소 : {num}\")"
   ]
  },
  {
   "cell_type": "code",
   "execution_count": 82,
   "id": "bd437bdd-3ba6-4af7-835f-89fac6f4c776",
   "metadata": {},
   "outputs": [
    {
     "name": "stdout",
     "output_type": "stream",
     "text": [
      "*****\n",
      "*****\n",
      "*****\n",
      "*****\n"
     ]
    }
   ],
   "source": [
    "# 반복횟수가 정해져 있다\n",
    "# *****\n",
    "\n",
    "print(\"*****\")\n",
    "print(\"*\" * 5)\n",
    "print(\"*\", end =\"\")\n",
    "print(\"*\", end =\"\")\n",
    "print(\"*\", end =\"\")\n",
    "print(\"*\", end =\"\")\n",
    "print(\"*\", end =\"\")\n",
    "print()\n",
    "\n",
    "# _ 표기는 for문 단순 반복\n",
    "for _ in range(5):\n",
    "    print(\"*\", end=\"\")\n",
    "print()"
   ]
  },
  {
   "cell_type": "code",
   "execution_count": 91,
   "id": "3cfe4644-f3fa-4d29-a4f3-1abd9eda0dfd",
   "metadata": {},
   "outputs": [
    {
     "name": "stdout",
     "output_type": "stream",
     "text": [
      "*\n",
      "**\n",
      "***\n",
      "****\n",
      "*****\n",
      "\n"
     ]
    }
   ],
   "source": [
    "for i in range(1,6):\n",
    "    for _ in range(i):\n",
    "        print(\"*\", end=\"\")\n",
    "    print()"
   ]
  },
  {
   "cell_type": "code",
   "execution_count": 95,
   "id": "f8a65317-126f-4825-ae13-b6da03823280",
   "metadata": {},
   "outputs": [
    {
     "name": "stdout",
     "output_type": "stream",
     "text": [
      "*****\n",
      "****\n",
      "***\n",
      "**\n",
      "*\n"
     ]
    }
   ],
   "source": [
    "for i in range(5,0,-1):\n",
    "    for _ in range(i):\n",
    "        print(\"*\",end=\"\")\n",
    "    print()"
   ]
  },
  {
   "attachments": {
    "be61c038-8a5f-48da-b05f-7ce6e20c1edc.png": {
     "image/png": "[encoded data removed]"
    }
   },
   "cell_type": "markdown",
   "id": "0bcddb9f-fc85-4a8c-a1c5-ca5c55d9d980",
   "metadata": {},
   "source": [
    "![image.png](attachment:be61c038-8a5f-48da-b05f-7ce6e20c1edc.png)"
   ]
  },
  {
   "cell_type": "code",
   "execution_count": 101,
   "id": "443162b3-2e7d-452e-8b24-174fbb3c05af",
   "metadata": {},
   "outputs": [
    {
     "name": "stdout",
     "output_type": "stream",
     "text": [
      "*****\n",
      "****\n",
      "***\n",
      "**\n",
      "*\n"
     ]
    }
   ],
   "source": [
    "### 중요 ###\n",
    "\n",
    "for i in range(0,5):\n",
    "    for _ in range(5 - i):\n",
    "        print(\"*\",end=\"\")\n",
    "    print()"
   ]
  },
  {
   "cell_type": "code",
   "execution_count": 107,
   "id": "59845a46-42d7-4a05-bb2f-d0538b74d1c5",
   "metadata": {},
   "outputs": [
    {
     "name": "stdout",
     "output_type": "stream",
     "text": [
      "    *\n",
      "   **\n",
      "  ***\n",
      " ****\n",
      "*****\n"
     ]
    }
   ],
   "source": [
    "for i in range(1,6):\n",
    "    for _ in range(5 - i):\n",
    "        print(\" \", end=\"\")\n",
    "    for _ in range(i):\n",
    "        print(\"*\", end=\"\")\n",
    "    print()"
   ]
  },
  {
   "cell_type": "code",
   "execution_count": 121,
   "id": "22bfd75c-0e9b-4af3-8322-f6e9ea543437",
   "metadata": {},
   "outputs": [
    {
     "name": "stdout",
     "output_type": "stream",
     "text": [
      "*****\n",
      " ****\n",
      "  ***\n",
      "   **\n",
      "    *\n"
     ]
    }
   ],
   "source": [
    "for i in range(5):\n",
    "    for _ in range(i):\n",
    "        print(\" \", end=\"\")\n",
    "    for _ in range(5-i):\n",
    "        print(\"*\", end=\"\")\n",
    "    print()"
   ]
  },
  {
   "cell_type": "code",
   "execution_count": 126,
   "id": "92d303af-61b0-444c-8278-35ebec5043d4",
   "metadata": {},
   "outputs": [
    {
     "name": "stdout",
     "output_type": "stream",
     "text": [
      "*\n",
      "**\n",
      "***\n",
      "****\n",
      "*****\n",
      "*****\n",
      "****\n",
      "***\n",
      "**\n",
      "*\n"
     ]
    }
   ],
   "source": [
    "# Python에서만 가능한 영역\n",
    "for i in range(1,6):\n",
    "    print(\"*\" * i)\n",
    "\n",
    "for i in range(0, 5):\n",
    "    print(\"*\" * (5-i))"
   ]
  },
  {
   "cell_type": "code",
   "execution_count": 162,
   "id": "ada5d659-618e-4864-bad4-b4cb48e3bd0b",
   "metadata": {},
   "outputs": [
    {
     "name": "stdin",
     "output_type": "stream",
     "text": [
      "풍차 날개 크기 입력 : 20\n"
     ]
    },
    {
     "name": "stdout",
     "output_type": "stream",
     "text": [
      "*                   ********************\n",
      "**                  *******************\n",
      "***                 ******************\n",
      "****                *****************\n",
      "*****               ****************\n",
      "******              ***************\n",
      "*******             **************\n",
      "********            *************\n",
      "*********           ************\n",
      "**********          ***********\n",
      "***********         **********\n",
      "************        *********\n",
      "*************       ********\n",
      "**************      *******\n",
      "***************     ******\n",
      "****************    *****\n",
      "*****************   ****\n",
      "******************  ***\n",
      "******************* **\n",
      "*********************\n",
      "                   *********************\n",
      "                  ** *******************\n",
      "                 ***  ******************\n",
      "                ****   *****************\n",
      "               *****    ****************\n",
      "              ******     ***************\n",
      "             *******      **************\n",
      "            ********       *************\n",
      "           *********        ************\n",
      "          **********         ***********\n",
      "         ***********          **********\n",
      "        ************           *********\n",
      "       *************            ********\n",
      "      **************             *******\n",
      "     ***************              ******\n",
      "    ****************               *****\n",
      "   *****************                ****\n",
      "  ******************                 ***\n",
      " *******************                  **\n",
      "********************                   *\n"
     ]
    }
   ],
   "source": [
    "n = int(input(\"풍차 날개 크기 입력 :\"))\n",
    "\n",
    "for i in range(1,n + 1):\n",
    "    for _ in range(i):\n",
    "        print(\"*\", end=\"\")\n",
    "    for _ in range(n - i):\n",
    "        print(\" \", end=\"\")\n",
    "    for _ in range(n + 1 - i):\n",
    "        print(\"*\", end=\"\")\n",
    "    print()\n",
    "for i in range(1,n + 1):\n",
    "    for _ in range(n - i):\n",
    "        print(\" \", end=\"\")\n",
    "    for _ in range(i):\n",
    "        print(\"*\", end=\"\")\n",
    "    for _ in range(i -1):\n",
    "        print(\" \", end=\"\")\n",
    "    for _ in range(n + 1 - i):\n",
    "        print(\"*\", end=\"\")\n",
    "            \n",
    "    print()"
   ]
  },
  {
   "cell_type": "code",
   "execution_count": 161,
   "id": "2fa98d93-e6b1-40d4-801b-f67f14105782",
   "metadata": {},
   "outputs": [
    {
     "name": "stdout",
     "output_type": "stream",
     "text": [
      "She's gone\n"
     ]
    }
   ],
   "source": [
    "song_name = 'She\\'s gone'\n",
    "# \\ 제어 문자\n",
    "# \\n : 엔터\n",
    "# \\t : 탭\n",
    "# \\\\ : 문자 \\\n",
    "print(song_name)"
   ]
  },
  {
   "cell_type": "code",
   "execution_count": 172,
   "id": "a9a456fa-e94f-4621-b3c8-13f0934abcb5",
   "metadata": {},
   "outputs": [
    {
     "name": "stdout",
     "output_type": "stream",
     "text": [
      " *** \n",
      "**** \n"
     ]
    }
   ],
   "source": [
    "print(f'{\"*\" * 3 : ^5}')\n",
    "print(f'{\"*\" * 4 : ^5}')"
   ]
  },
  {
   "cell_type": "code",
   "execution_count": 181,
   "id": "5804809e-335a-4a4b-8edc-f790ef5c5862",
   "metadata": {},
   "outputs": [
    {
     "name": "stdout",
     "output_type": "stream",
     "text": [
      "10\n",
      "10\n",
      "     *     \n",
      "    ***    \n",
      "   *****   \n",
      "  *******  \n",
      " ********* \n",
      "***********\n",
      " ********* \n",
      "  *******  \n",
      "   *****   \n",
      "    ***    \n",
      "     *     \n"
     ]
    }
   ],
   "source": [
    "# absolute value\n",
    "# abs()\n",
    "\n",
    "\n",
    "n = -10\n",
    "print(n if n > 0 else -n)\n",
    "print(abs(n))\n",
    "\n",
    "for i in range(11):\n",
    "    print(f\"{'*' * (-abs(2 * i - 10) + 11) :^11}\")\n"
   ]
  },
  {
   "cell_type": "code",
   "execution_count": 206,
   "id": "e3d59518-8863-4589-9e90-59989ea5cb74",
   "metadata": {},
   "outputs": [
    {
     "name": "stdout",
     "output_type": "stream",
     "text": [
      "짜장면*짬뽕*볶음밥*탕수육\n"
     ]
    }
   ],
   "source": [
    "# list를 활용한 문자열 연결!\n",
    "list3 = [\"짜장면\", \"짬뽕\", \"볶음밥\", \"탕수육\"]\n",
    "# '연결자'.join()\n",
    "print('*'.join(list3))"
   ]
  },
  {
   "cell_type": "code",
   "execution_count": 215,
   "id": "fbd5f7ac-c8c7-4333-bf6f-12d295857788",
   "metadata": {},
   "outputs": [
    {
     "name": "stdout",
     "output_type": "stream",
     "text": [
      "10의 약수 : 1, 2, 5, 10\n",
      "10의 약수 : 1, 2, 5, 10\n"
     ]
    }
   ],
   "source": [
    "# 10의 약수 : 1, 2, 5, 10\n",
    "n = 10\n",
    "print(f\"{n}의 약수 : \", end = \"\")\n",
    "for i in range(1, n + 1):\n",
    "    if n % i == 0:\n",
    "        if i != n: \n",
    "            print(i, end=\", \")\n",
    "        else:\n",
    "            print(i)\n",
    "\n",
    "# 10의 약수 : 1, 2, 5, 10\n",
    "list_div = []\n",
    "print(f\"{n}의 약수 : \", end=\"\")\n",
    "for i in range(1, n + 1):\n",
    "    if n % i == 0:\n",
    "       list_div.append(i)\n",
    "print(', '.join(map(str, list_div)))"
   ]
  },
  {
   "cell_type": "code",
   "execution_count": 195,
   "id": "6f3f8468-b342-428c-8d2b-ad38cac3d504",
   "metadata": {},
   "outputs": [],
   "source": [
    "#!pip install tqdm\n",
    "#from tqdm import tqdm"
   ]
  },
  {
   "cell_type": "code",
   "execution_count": 202,
   "id": "0193a277-2dd3-452d-9162-2732b1363960",
   "metadata": {},
   "outputs": [
    {
     "name": "stdin",
     "output_type": "stream",
     "text": [
      "자연수를 입력:  100000000\n"
     ]
    },
    {
     "name": "stdout",
     "output_type": "stream",
     "text": [
      "100000000의 약수 :"
     ]
    },
    {
     "name": "stderr",
     "output_type": "stream",
     "text": [
      "  2%|█▎                                                                 | 981365/50000000 [00:00<00:09, 4939623.71it/s]"
     ]
    },
    {
     "name": "stdout",
     "output_type": "stream",
     "text": [
      "1 2 4 5 8 10 16 20 25 32 40 50 64 80 100 125 128 160 200 250 256 320 400 500 625 640 800 1000 1250 1280 1600 2000 2500 3125 3200 4000 5000 6250 6400 8000 10000 12500 15625 16000 20000 25000 31250 32000 40000 50000 62500 78125 80000 100000 125000 156250 160000 200000 250000 312500 390625 400000 500000 625000 781250 800000 "
     ]
    },
    {
     "name": "stderr",
     "output_type": "stream",
     "text": [
      "  4%|██▋                                                               | 2040429/50000000 [00:00<00:09, 5154865.81it/s]"
     ]
    },
    {
     "name": "stdout",
     "output_type": "stream",
     "text": [
      "1000000 1250000 1562500 2000000 "
     ]
    },
    {
     "name": "stderr",
     "output_type": "stream",
     "text": [
      "  7%|████▊                                                             | 3661395/50000000 [00:00<00:08, 5333044.03it/s]"
     ]
    },
    {
     "name": "stdout",
     "output_type": "stream",
     "text": [
      "2500000 3125000 "
     ]
    },
    {
     "name": "stderr",
     "output_type": "stream",
     "text": [
      " 10%|██████▎                                                           | 4760220/50000000 [00:00<00:08, 5390607.51it/s]"
     ]
    },
    {
     "name": "stdout",
     "output_type": "stream",
     "text": [
      "4000000 5000000 "
     ]
    },
    {
     "name": "stderr",
     "output_type": "stream",
     "text": [
      " 14%|█████████▏                                                        | 6958374/50000000 [00:01<00:07, 5441021.76it/s]"
     ]
    },
    {
     "name": "stdout",
     "output_type": "stream",
     "text": [
      "6250000 "
     ]
    },
    {
     "name": "stderr",
     "output_type": "stream",
     "text": [
      " 22%|██████████████▏                                                  | 10891238/50000000 [00:02<00:07, 5521396.64it/s]"
     ]
    },
    {
     "name": "stdout",
     "output_type": "stream",
     "text": [
      "10000000 "
     ]
    },
    {
     "name": "stderr",
     "output_type": "stream",
     "text": [
      " 26%|█████████████████                                                | 13104239/50000000 [00:02<00:06, 5486439.63it/s]"
     ]
    },
    {
     "name": "stdout",
     "output_type": "stream",
     "text": [
      "12500000 "
     ]
    },
    {
     "name": "stderr",
     "output_type": "stream",
     "text": [
      " 42%|███████████████████████████▍                                     | 21073987/50000000 [00:03<00:05, 5577159.29it/s]"
     ]
    },
    {
     "name": "stdout",
     "output_type": "stream",
     "text": [
      "20000000 "
     ]
    },
    {
     "name": "stderr",
     "output_type": "stream",
     "text": [
      " 51%|█████████████████████████████████▎                               | 25627012/50000000 [00:04<00:04, 5626473.93it/s]"
     ]
    },
    {
     "name": "stdout",
     "output_type": "stream",
     "text": [
      "25000000 "
     ]
    },
    {
     "name": "stderr",
     "output_type": "stream",
     "text": [
      "100%|█████████████████████████████████████████████████████████████████| 50000000/50000000 [00:08<00:00, 5590579.82it/s]"
     ]
    },
    {
     "name": "stdout",
     "output_type": "stream",
     "text": [
      "50000000 100000000\n"
     ]
    },
    {
     "name": "stderr",
     "output_type": "stream",
     "text": [
      "\n"
     ]
    }
   ],
   "source": [
    "# 약수\n",
    "# 10의 약수 : 1 2 5 10\n",
    "# 12의 약수 : 1 2 3 4 6 12\n",
    "\n",
    "n = int(input(\"자연수를 입력: \"))\n",
    "\n",
    "print(f\"{n}의 약수 :\", end=\"\")\n",
    "\n",
    "for i in tqdm(range(1, n // 2 + 1)):\n",
    "    if n % i == 0:\n",
    "        print(i, end =\" \")\n",
    "print(n)"
   ]
  },
  {
   "cell_type": "code",
   "execution_count": 218,
   "id": "fc0f9f61-5f00-4f9d-99cc-f061089cf719",
   "metadata": {},
   "outputs": [
    {
     "name": "stdout",
     "output_type": "stream",
     "text": [
      "a와 b의 값 :  10 20\n",
      "a와 b의 값 :  20 10\n"
     ]
    }
   ],
   "source": [
    "# 치환(swap)\n",
    "a = 10\n",
    "b = 20\n",
    "print(\"a와 b의 값 : \", a, b) # 10 20\n",
    "\n",
    "# 치환(임시 저장 공간 1개 필요!!)\n",
    "temp = a\n",
    "a = b\n",
    "b = temp\n",
    "\n",
    "print(\"a와 b의 값 : \", a, b) # 20 10\n"
   ]
  },
  {
   "cell_type": "code",
   "execution_count": 228,
   "id": "0b37981b-5abd-482e-bb93-23f52582e53c",
   "metadata": {},
   "outputs": [
    {
     "name": "stdout",
     "output_type": "stream",
     "text": [
      "정렬 전 : [45, 7, 12, 82, 25]\n",
      "정렬 후 : [7, 12, 25, 45, 82]\n"
     ]
    }
   ],
   "source": [
    "# 정렬 알고리즘\n",
    "# list의 가지고 있는 요소들을 순서대로 열거하는 알고리즘\n",
    "array = [45, 7, 12, 82, 25]\n",
    "print(\"정렬 전 :\", array)\n",
    "\n",
    "# 오름차순 정렬\n",
    "\n",
    "# 버블 정렬(Bubble Sort)\n",
    "# 두 인접한 요소의 크기를 비교, 치환함으로써 정렬\n",
    "\n",
    "# step1-1\n",
    "# if array[0] > array[1]:\n",
    "#     temp = array[0]\n",
    "#     array[0] = array[1]\n",
    "#     array[1] = temp\n",
    "\n",
    "# if array[1] > array[2]:\n",
    "#     temp = array[1]\n",
    "#     array[1] = array[2]\n",
    "#     array[2] = temp\n",
    "\n",
    "# if array[2] > array[3]:\n",
    "#     temp = array[2]\n",
    "#     array[2] = array[3]\n",
    "#     array[3] = temp\n",
    "\n",
    "#.\n",
    "#.\n",
    "#.\n",
    "\n",
    "\n",
    "\n",
    "# step1-2\n",
    "# for i in range(4):\n",
    "#     if array[i] > array[i+1]:\n",
    "#         temp = array[i]\n",
    "#         array[i] = array[i+1]\n",
    "#         array[i+1] = temp\n",
    "\n",
    "# step2\n",
    "# for i in range(3):\n",
    "#     if array[i] > array[i+1]:\n",
    "#             temp = array[i]\n",
    "#             array[i] = array[i+1]\n",
    "#             array[i+1] = temp\n",
    "\n",
    "# step3\n",
    "# bubble sort\n",
    "for j in range(4):\n",
    "    for i in range(4 - j):\n",
    "        if array[i] > array[i+1]:\n",
    "            temp = array[i]\n",
    "            array[i] = array[i+1]\n",
    "            array[i+1] = temp\n",
    "\n",
    "\n",
    "print(\"정렬 후 :\", array)"
   ]
  },
  {
   "cell_type": "code",
   "execution_count": 229,
   "id": "f8ebe941-aa05-47f8-b6cd-b7cc8669fc11",
   "metadata": {},
   "outputs": [],
   "source": [
    "# 선택 정렬\n",
    "# Selection Sort\n",
    "# 가장 큰 값(혹은 가장 작은 값)의 위치를 찾아 교환함으로써 정렬"
   ]
  },
  {
   "cell_type": "code",
   "execution_count": 246,
   "id": "f418a97e-c241-4f33-a17c-984ebea64f94",
   "metadata": {},
   "outputs": [
    {
     "name": "stdout",
     "output_type": "stream",
     "text": [
      "선택 정렬 전:  [98, 7, 70, 13, 24]\n",
      "선택 정렬 후:  [7, 13, 24, 70, 98]\n"
     ]
    }
   ],
   "source": [
    "a = [98, 7, 70, 13, 24]\n",
    "print(\"선택 정렬 전: \", a)\n",
    "\n",
    "# Logic (오름차순 정렬)\n",
    "\n",
    "# Step1-1\n",
    "max_index = 0 # 가장 큰 값의 위치 정보\n",
    "\n",
    "# if a[0] > a[max_index]:\n",
    "#     max_index = 0\n",
    "# if a[1] > a[max_index]:\n",
    "#     max_index = 1\n",
    "#.\n",
    "#.\n",
    "#.\n",
    "\n",
    "# Step1-2\n",
    "\n",
    "# for i in range(5):\n",
    "#      if a[i] > a[max_index]:\n",
    "#         max_index = i\n",
    "# # 탐색 후 치환\n",
    "# temp = a[max_index]\n",
    "# a[max_index] = a[4]\n",
    "# a[4] = temp\n",
    "\n",
    "# # Step2\n",
    "# max_index = 0\n",
    "# for i in range(4):\n",
    "#      if a[i] > a[max_index]:\n",
    "#         max_index = i\n",
    "\n",
    "# temp = a[max_index]\n",
    "# a[max_index] = a[3]\n",
    "# a[3] = temp\n",
    "\n",
    "# Step3\n",
    "for j in range(4):\n",
    "    max_index = 0\n",
    "    for i in range(5 - j):\n",
    "         if a[i] > a[max_index]:\n",
    "            max_index = i\n",
    "    \n",
    "    temp = a[max_index]\n",
    "    a[max_index] = a[4 - j]\n",
    "    a[4 - j] = temp\n",
    "    \n",
    "    \n",
    "print(\"선택 정렬 후: \", a)"
   ]
  },
  {
   "cell_type": "code",
   "execution_count": 250,
   "id": "29dc0663-3843-4c49-9660-1771749d9bc4",
   "metadata": {},
   "outputs": [
    {
     "name": "stdout",
     "output_type": "stream",
     "text": [
      "78은 index : 6위치에 있습니다.\n"
     ]
    }
   ],
   "source": [
    "# 탐색\n",
    "# 원하는 요소(값)가 어느 위치에 있는지?\n",
    "index = -1\n",
    "arr = [13, 35, 15, 11, 26, 72, 78, 13, 61, 90]\n",
    "# 78이 어디에 있는지\n",
    "\n",
    "search = 78\n",
    "# Sequential Search\n",
    "# 모든 요소 비교\n",
    "for i in range(len(arr)):\n",
    "    if arr[i] == search:\n",
    "        index = i\n",
    "        break\n",
    "        \n",
    "print(f\"{search}은 index : {index}위치에 있습니다.\")\n",
    "\n"
   ]
  },
  {
   "cell_type": "code",
   "execution_count": 265,
   "id": "574564ee-2c85-4b5f-aff9-94f8413a4512",
   "metadata": {},
   "outputs": [
    {
     "name": "stdout",
     "output_type": "stream",
     "text": [
      "[1, 7, 16, 25, 30, 33, 41, 66, 78, 90]\n",
      "77는(은) index : 0번째 위치에 있습니다.\n"
     ]
    }
   ],
   "source": [
    "# 이진 탐색(Binary Search)\n",
    "# 범위를 2분할하여 값을 탐색하는 기법\n",
    "\n",
    "# Up-Down 1 ~ 50 사이의 값을 추측\n",
    "# 첫 번째 추측 값으로 25, 대소 비교를 통해 이외의 범위를 제외\n",
    "\n",
    "list4 = [1, 16, 30, 33, 66, 90, 7, 25, 41, 78]\n",
    "\n",
    "# 선행 조건 : 오름차순, 내림차순 정렬!!\n",
    "list4.sort()\n",
    "print(list4)\n",
    "\n",
    "index = -1\n",
    "\n",
    "\n",
    "# Logic\n",
    "\n",
    "low_index = 0\n",
    "high_index = 9\n",
    "\n",
    "import time\n",
    "search = 77\n",
    "\n",
    "\n",
    "while low_index <= high_index:\n",
    "        \n",
    "    mid_index = (low_index + high_index) // 2\n",
    "    if list4[mid_index] < search:\n",
    "        low_index = mid_index + 1\n",
    "    elif list4[mid_index] > search:\n",
    "        high_index = mid_index - 1\n",
    "    else:\n",
    "        index = mid_index\n",
    "        break\n",
    "        \n",
    "print(f\"{search}는(은) index : {index + 1}번째 위치에 있습니다.\")"
   ]
  },
  {
   "cell_type": "code",
   "execution_count": 268,
   "id": "483c61b8-9a8e-4be3-a6c2-45718ad10648",
   "metadata": {
    "scrolled": true
   },
   "outputs": [
    {
     "name": "stdin",
     "output_type": "stream",
     "text": [
      " 2\n"
     ]
    },
    {
     "name": "stdout",
     "output_type": "stream",
     "text": [
      "2 * 1 = 2\n",
      "2 * 2 = 4\n",
      "2 * 3 = 6\n",
      "2 * 4 = 8\n",
      "2 * 5 = 10\n",
      "2 * 6 = 12\n",
      "2 * 7 = 14\n",
      "2 * 8 = 16\n",
      "2 * 9 = 18\n"
     ]
    }
   ],
   "source": [
    "N = int(input())\n",
    "\n",
    "for i in range(N-1,10):\n",
    "    print(f\"{N} * {i} = {N * i}\")"
   ]
  },
  {
   "cell_type": "code",
   "execution_count": null,
   "id": "cf8a9826-1c53-48bf-9f02-a92c022a7566",
   "metadata": {},
   "outputs": [],
   "source": [
    "# Dictionary\n",
    "\n",
    "# 1) CSV (comma Separated)\n",
    "# 39byte\n",
    "# 이름, 나이, MBTI\n",
    "# 이성균, 20, INTP\n",
    "# 수지, 30, INFP\n",
    "\n",
    "# 장점 : 길이가 짧다 (비용이 저렴)\n",
    "# 단점 : 데이터의 내용을 상대적으로 해석하기 어렵다\n",
    "\n",
    "# 2) XML (Extensible Markup Language)\n",
    "# 88byte\n",
    "#<이름>\"이성균\"</이름><나이>20</나이><mbti>\"INTP\"</mbti>\n",
    "#<이름>\"수지\"</이름><나이>30</나이><mbti>\"INFP\"</mbti>\n",
    "\n",
    "# 장점 : 데이터의 내용을 상대적으로 해석하기 쉽다.\n",
    "# 단점 : 길이가 길다 (비용이 비싸다)\n",
    "\n",
    "# 3) JSON(JavaScript Object Notation)\n",
    "# 74byte\n",
    "{\"이름\":\"이성균\", \"나이\":20, \"MBTI\":\"INTP\"},\n",
    "{\"이름\":\"수지\", \"나이\":30, \"MBTI\":\"INFP\"},\n",
    "\n",
    "# 장점 : XML보다 저렴, CSV보다 해석하기 용이\n",
    "# 단점 : CSV보다 비싸다, XML보다 해석하기 어렵다."
   ]
  },
  {
   "cell_type": "code",
   "execution_count": 273,
   "id": "2adc2666-7a0b-44ed-80e8-fb56cac89538",
   "metadata": {},
   "outputs": [
    {
     "name": "stdout",
     "output_type": "stream",
     "text": [
      "{}\n",
      "{'이름': '이성균'}\n",
      "{1: 5, 2: 3}\n"
     ]
    }
   ],
   "source": [
    "# 딕셔너리 (Dictionary)\n",
    "# 사전 의미!! 자료구조\n",
    "# 키-값 (Key-value)\n",
    "a = {}\n",
    "b = {\"이름\" : \"이성균\"}\n",
    "c = {1 : 5, 2: 3}\n",
    "\n",
    "print(a)\n",
    "print(b)\n",
    "print(c)"
   ]
  },
  {
   "cell_type": "code",
   "execution_count": 280,
   "id": "01623c3b-04a8-4ef1-acba-94b8cd3314e8",
   "metadata": {},
   "outputs": [
    {
     "name": "stdout",
     "output_type": "stream",
     "text": [
      "{'이름': '이성균', '나이': 20, 'MBTI': 'INTP'}\n",
      "{'이름': '이성균', '나이': 20, 'MBTI': 'INTP', '혈액형': 'A'}\n",
      "{'이름': '이성균', '나이': 21, 'MBTI': 'INTP', '혈액형': 'A'}\n",
      "{'이름': '이성균', '나이': 21, 'MBTI': 'INTP'}\n"
     ]
    }
   ],
   "source": [
    "dic_info = {\"이름\":\"이성균\", \"나이\":20, \"MBTI\":\"INTP\"}\n",
    "print(dic_info)\n",
    "\n",
    "# 딕셔너리 값 추가\n",
    "#dic_info[key값] = value값\n",
    "\n",
    "dic_info[\"혈액형\"] = \"A\"\n",
    "print(dic_info)\n",
    "\n",
    "# 딕셔너리 값 수정\n",
    "# dic명[key값] = value 값\n",
    "dic_info[\"나이\"] = 21\n",
    "print(dic_info)\n",
    "\n",
    "# 딕셔너리 값 삭제\n",
    "# del dic명[key값]\n",
    "del dic_info[\"혈액형\"]\n",
    "print(dic_info)"
   ]
  },
  {
   "cell_type": "code",
   "execution_count": 285,
   "id": "f801989c-4b1b-42d4-88f3-cb35d2ea8e31",
   "metadata": {},
   "outputs": [
    {
     "name": "stdout",
     "output_type": "stream",
     "text": [
      "{'이름': '이성균', '나이': 21, 'MBTI': 'INTP'}\n",
      "21\n",
      "21\n",
      "None\n",
      "해당 Key가 존재하지 않습니다\n",
      "해당 Key가 존재하지 않습니다\n"
     ]
    }
   ],
   "source": [
    "print(dic_info)\n",
    "\n",
    "# 값 가져오기\n",
    "print(dic_info[\"나이\"]) # 없는 key 입력 시 Error\n",
    "print(dic_info.get(\"나이\")) # 없는 key 입력 시 None 반환\n",
    "print(dic_info.get(\"혈액형\"))\n",
    "\n",
    "if dic_info.get(\"혈액형\") == None:\n",
    "    print(\"해당 Key가 존재하지 않습니다\")\n",
    "\n",
    "if not dic_info.get(\"혈액형\"):\n",
    "    print(\"해당 Key가 존재하지 않습니다\")"
   ]
  },
  {
   "cell_type": "code",
   "execution_count": 292,
   "id": "6eb47b6b-24aa-4189-b025-cf502f541f4e",
   "metadata": {},
   "outputs": [
    {
     "name": "stdout",
     "output_type": "stream",
     "text": [
      "['이름', '나이', 'MBTI']\n",
      "['이성균', 21, 'INTP']\n",
      "[('이름', '이성균'), ('나이', 21), ('MBTI', 'INTP')]\n"
     ]
    }
   ],
   "source": [
    "print(list(dic_info.keys())) # 모든 key 가져오기\n",
    "print(list(dic_info.values())) # 모든 value 가져오기\n",
    "print(list(dic_info.items()))"
   ]
  },
  {
   "cell_type": "code",
   "execution_count": 300,
   "id": "eacdcd8f-8ebe-4c2a-8e02-68ceb2f9d920",
   "metadata": {},
   "outputs": [
    {
     "name": "stdout",
     "output_type": "stream",
     "text": [
      "이름 : 이성균\n",
      "나이 : 21\n",
      "MBTI : INTP\n"
     ]
    }
   ],
   "source": [
    "# 이름 : 이성균\n",
    "# 나이 : 20\n",
    "# MBTI : INTP\n",
    "\n",
    "for tuple1 in list(dic_info.items()):\n",
    "    print(f\"{tuple1[0]} : {tuple1[1]}\")\n",
    "\n",
    "# for key, value in list(dic_info.items()):\n",
    "#     if key == \"나이\":\n",
    "#         print(f\"{key} : {value}(세)\")\n",
    "#     else:\n",
    "#         print(f\"{key} : {value}\")"
   ]
  },
  {
   "cell_type": "code",
   "execution_count": 296,
   "id": "3112d60b-13c5-48dc-8eea-6300399d88bd",
   "metadata": {},
   "outputs": [
    {
     "name": "stdout",
     "output_type": "stream",
     "text": [
      "True\n",
      "False\n",
      "False\n"
     ]
    }
   ],
   "source": [
    "print(\"이름\" in dic_info)\n",
    "print(\"혈액형\" in dic_info)\n",
    "print(\"INTP\" in dic_info) # Key만 판단 가능"
   ]
  },
  {
   "cell_type": "code",
   "execution_count": 299,
   "id": "f37afa1d-8afd-48e3-b32a-d7120309f373",
   "metadata": {
    "scrolled": true
   },
   "outputs": [
    {
     "data": {
      "text/plain": [
       "<Response [200]>"
      ]
     },
     "execution_count": 299,
     "metadata": {},
     "output_type": "execute_result"
    }
   ],
   "source": [
    "# 딕셔너리 재밌는 실습\n",
    "import requests\n",
    "MY_API_KEY = \"7077141e402b34395ff1bda2f711ff5c\"\n",
    "date = \"20250903\"\n",
    "url_movie = f\"https://kobis.or.kr/kobisopenapi/webservice/rest/boxoffice/searchDailyBoxOfficeList.json?key={MY_API_KEY}&targetDt={date}\"\n",
    "\n",
    "response = requests.get(url_movie)\n",
    "response"
   ]
  },
  {
   "cell_type": "code",
   "execution_count": 327,
   "id": "ba9dd5e5-e42e-43e1-9314-0f9d9bc1b8d9",
   "metadata": {},
   "outputs": [
    {
     "name": "stdout",
     "output_type": "stream",
     "text": [
      "1위 : 극장판 귀멸의 칼날: 무한성편\n",
      "2위 : 컨저링: 마지막 의식\n",
      "3위 : F1 더 무비\n",
      "4위 : 좀비딸\n",
      "5위 : 투게더\n",
      "6위 : 첫사랑 엔딩\n",
      "7위 : 이티\n",
      "8위 : 살인자 리포트\n",
      "9위 : 긴키 지방의 어느 장소에 대하여\n",
      "10위 : 악마가 이사왔다\n",
      "\n",
      "1위 : 극장판 귀멸의 칼날: 무한성편(79521명)\n",
      "2위 : 컨저링: 마지막 의식(39579명)\n",
      "3위 : F1 더 무비(14607명)\n",
      "4위 : 좀비딸(14602명)\n",
      "5위 : 투게더(7925명)\n",
      "6위 : 첫사랑 엔딩(4071명)\n",
      "7위 : 이티(2409명)\n",
      "8위 : 살인자 리포트(1892명)\n",
      "9위 : 긴키 지방의 어느 장소에 대하여(1558명)\n",
      "10위 : 악마가 이사왔다(1517명)\n"
     ]
    }
   ],
   "source": [
    "# audiCnt\n",
    "for i in range(10):\n",
    "    rank = result[\"boxOfficeResult\"][\"dailyBoxOfficeList\"][i][\"rank\"]\n",
    "    movieNm = result[\"boxOfficeResult\"][\"dailyBoxOfficeList\"][i][\"movieNm\"]\n",
    "    print(f\"{rank}위 : {movieNm}\")\n",
    "print()\n",
    "\n",
    "\n",
    "\n",
    "for j in range(10):\n",
    "    rank = result[\"boxOfficeResult\"][\"dailyBoxOfficeList\"][j][\"rank\"]\n",
    "    movieNm = result[\"boxOfficeResult\"][\"dailyBoxOfficeList\"][j][\"movieNm\"]\n",
    "    audiCnt = result[\"boxOfficeResult\"][\"dailyBoxOfficeList\"][j][\"audiCnt\"]\n",
    "    print(f\"{rank}위 : {movieNm}({audiCnt}명)\")\n"
   ]
  },
  {
   "cell_type": "code",
   "execution_count": 301,
   "id": "4849c8bd-5632-4b19-970c-a14d565ae343",
   "metadata": {},
   "outputs": [
    {
     "data": {
      "text/plain": [
       "{'boxOfficeResult': {'boxofficeType': '일별 박스오피스',\n",
       "  'showRange': '20250903~20250903',\n",
       "  'dailyBoxOfficeList': [{'rnum': '1',\n",
       "    'rank': '1',\n",
       "    'rankInten': '0',\n",
       "    'rankOldAndNew': 'OLD',\n",
       "    'movieCd': '20253289',\n",
       "    'movieNm': '극장판 귀멸의 칼날: 무한성편',\n",
       "    'openDt': '2025-08-22',\n",
       "    'salesAmt': '837970040',\n",
       "    'salesShare': '46.1',\n",
       "    'salesInten': '24451280',\n",
       "    'salesChange': '3',\n",
       "    'salesAcc': '36677723590',\n",
       "    'audiCnt': '79521',\n",
       "    'audiInten': '5537',\n",
       "    'audiChange': '7.5',\n",
       "    'audiAcc': '3396064',\n",
       "    'scrnCnt': '1609',\n",
       "    'showCnt': '5026'},\n",
       "   {'rnum': '2',\n",
       "    'rank': '2',\n",
       "    'rankInten': '0',\n",
       "    'rankOldAndNew': 'NEW',\n",
       "    'movieCd': '20256702',\n",
       "    'movieNm': '컨저링: 마지막 의식',\n",
       "    'openDt': '2025-09-03',\n",
       "    'salesAmt': '397329310',\n",
       "    'salesShare': '21.9',\n",
       "    'salesInten': '397329310',\n",
       "    'salesChange': '100',\n",
       "    'salesAcc': '400866310',\n",
       "    'audiCnt': '39579',\n",
       "    'audiInten': '39579',\n",
       "    'audiChange': '100',\n",
       "    'audiAcc': '39924',\n",
       "    'scrnCnt': '842',\n",
       "    'showCnt': '2218'},\n",
       "   {'rnum': '3',\n",
       "    'rank': '3',\n",
       "    'rankInten': '-1',\n",
       "    'rankOldAndNew': 'OLD',\n",
       "    'movieCd': '20254501',\n",
       "    'movieNm': 'F1 더 무비',\n",
       "    'openDt': '2025-06-25',\n",
       "    'salesAmt': '141457480',\n",
       "    'salesShare': '7.8',\n",
       "    'salesInten': '-45178360',\n",
       "    'salesChange': '-24.2',\n",
       "    'salesAcc': '51661894090',\n",
       "    'audiCnt': '14607',\n",
       "    'audiInten': '-3702',\n",
       "    'audiChange': '-20.2',\n",
       "    'audiAcc': '4813455',\n",
       "    'scrnCnt': '635',\n",
       "    'showCnt': '1337'},\n",
       "   {'rnum': '4',\n",
       "    'rank': '4',\n",
       "    'rankInten': '-1',\n",
       "    'rankOldAndNew': 'OLD',\n",
       "    'movieCd': '20241941',\n",
       "    'movieNm': '좀비딸',\n",
       "    'openDt': '2025-07-30',\n",
       "    'salesAmt': '133630700',\n",
       "    'salesShare': '7.4',\n",
       "    'salesInten': '-20665580',\n",
       "    'salesChange': '-13.4',\n",
       "    'salesAcc': '51153597890',\n",
       "    'audiCnt': '14602',\n",
       "    'audiInten': '-2148',\n",
       "    'audiChange': '-12.8',\n",
       "    'audiAcc': '5398885',\n",
       "    'scrnCnt': '688',\n",
       "    'showCnt': '1804'},\n",
       "   {'rnum': '5',\n",
       "    'rank': '5',\n",
       "    'rankInten': '0',\n",
       "    'rankOldAndNew': 'NEW',\n",
       "    'movieCd': '20256071',\n",
       "    'movieNm': '투게더',\n",
       "    'openDt': '2025-09-03',\n",
       "    'salesAmt': '56333900',\n",
       "    'salesShare': '3.1',\n",
       "    'salesInten': '56333900',\n",
       "    'salesChange': '100',\n",
       "    'salesAcc': '79440100',\n",
       "    'audiCnt': '7925',\n",
       "    'audiInten': '7925',\n",
       "    'audiChange': '100',\n",
       "    'audiAcc': '10504',\n",
       "    'scrnCnt': '251',\n",
       "    'showCnt': '646'},\n",
       "   {'rnum': '6',\n",
       "    'rank': '6',\n",
       "    'rankInten': '-2',\n",
       "    'rankOldAndNew': 'OLD',\n",
       "    'movieCd': '20256281',\n",
       "    'movieNm': '첫사랑 엔딩',\n",
       "    'openDt': '2025-08-27',\n",
       "    'salesAmt': '38704600',\n",
       "    'salesShare': '2.1',\n",
       "    'salesInten': '-24125700',\n",
       "    'salesChange': '-38.4',\n",
       "    'salesAcc': '762516370',\n",
       "    'audiCnt': '4071',\n",
       "    'audiInten': '-2545',\n",
       "    'audiChange': '-38.5',\n",
       "    'audiAcc': '80923',\n",
       "    'scrnCnt': '273',\n",
       "    'showCnt': '394'},\n",
       "   {'rnum': '7',\n",
       "    'rank': '7',\n",
       "    'rankInten': '0',\n",
       "    'rankOldAndNew': 'NEW',\n",
       "    'movieCd': '20020328',\n",
       "    'movieNm': '이티',\n",
       "    'openDt': '1984-06-23',\n",
       "    'salesAmt': '23080700',\n",
       "    'salesShare': '1.3',\n",
       "    'salesInten': '23080700',\n",
       "    'salesChange': '100',\n",
       "    'salesAcc': '84396200',\n",
       "    'audiCnt': '2409',\n",
       "    'audiInten': '2409',\n",
       "    'audiChange': '100',\n",
       "    'audiAcc': '10448',\n",
       "    'scrnCnt': '117',\n",
       "    'showCnt': '189'},\n",
       "   {'rnum': '8',\n",
       "    'rank': '8',\n",
       "    'rankInten': '0',\n",
       "    'rankOldAndNew': 'NEW',\n",
       "    'movieCd': '20233039',\n",
       "    'movieNm': '살인자 리포트',\n",
       "    'openDt': '2025-09-05',\n",
       "    'salesAmt': '17028000',\n",
       "    'salesShare': '0.9',\n",
       "    'salesInten': '17028000',\n",
       "    'salesChange': '100',\n",
       "    'salesAcc': '25110000',\n",
       "    'audiCnt': '1892',\n",
       "    'audiInten': '1892',\n",
       "    'audiChange': '100',\n",
       "    'audiAcc': '2790',\n",
       "    'scrnCnt': '10',\n",
       "    'showCnt': '10'},\n",
       "   {'rnum': '9',\n",
       "    'rank': '9',\n",
       "    'rankInten': '-4',\n",
       "    'rankOldAndNew': 'OLD',\n",
       "    'movieCd': '20256701',\n",
       "    'movieNm': '긴키 지방의 어느 장소에 대하여',\n",
       "    'openDt': '2025-08-13',\n",
       "    'salesAmt': '15535300',\n",
       "    'salesShare': '0.9',\n",
       "    'salesInten': '-16145900',\n",
       "    'salesChange': '-51',\n",
       "    'salesAcc': '2642565590',\n",
       "    'audiCnt': '1558',\n",
       "    'audiInten': '-1556',\n",
       "    'audiChange': '-50',\n",
       "    'audiAcc': '258888',\n",
       "    'scrnCnt': '162',\n",
       "    'showCnt': '207'},\n",
       "   {'rnum': '10',\n",
       "    'rank': '10',\n",
       "    'rankInten': '-4',\n",
       "    'rankOldAndNew': 'OLD',\n",
       "    'movieCd': '20210546',\n",
       "    'movieNm': '악마가 이사왔다',\n",
       "    'openDt': '2025-08-13',\n",
       "    'salesAmt': '13782100',\n",
       "    'salesShare': '0.8',\n",
       "    'salesInten': '-13020600',\n",
       "    'salesChange': '-48.6',\n",
       "    'salesAcc': '4022494210',\n",
       "    'audiCnt': '1517',\n",
       "    'audiInten': '-1422',\n",
       "    'audiChange': '-48.4',\n",
       "    'audiAcc': '423652',\n",
       "    'scrnCnt': '120',\n",
       "    'showCnt': '149'}]}}"
      ]
     },
     "execution_count": 301,
     "metadata": {},
     "output_type": "execute_result"
    }
   ],
   "source": [
    "result = response.json() \n",
    "result"
   ]
  },
  {
   "cell_type": "code",
   "execution_count": 333,
   "id": "08a85282-c68b-4779-846d-0509d63cf9b4",
   "metadata": {},
   "outputs": [],
   "source": [
    "# def 함수명(매개변수):\n",
    "#     실행문장\n",
    "#     return 반환 값\n",
    "def get_dia(buy, bonus):\n",
    "    return buy + bonus + 1"
   ]
  },
  {
   "cell_type": "code",
   "execution_count": 334,
   "id": "44bb8d67-f53b-4fe8-8a32-71eaf85f7288",
   "metadata": {},
   "outputs": [
    {
     "name": "stdout",
     "output_type": "stream",
     "text": [
      "13\n",
      "26\n",
      "39\n",
      "56\n"
     ]
    }
   ],
   "source": [
    "# 함수 : 반복되는 기능이 모여있는 코드의 집합\n",
    "\n",
    "# 변수 : 반복되는 값\n",
    "# 반복문 : 반복되는 실행문장\n",
    "\n",
    "print(get_dia(10, 2))\n",
    "print(get_dia(20, 5))\n",
    "print(get_dia(30, 8))\n",
    "print(get_dia(40, 15))\n",
    "\n",
    "\n"
   ]
  },
  {
   "cell_type": "code",
   "execution_count": 336,
   "id": "ab45fafe-3704-46c9-a9ac-d41af58ddf35",
   "metadata": {},
   "outputs": [
    {
     "data": {
      "text/plain": [
       "9"
      ]
     },
     "execution_count": 336,
     "metadata": {},
     "output_type": "execute_result"
    }
   ],
   "source": [
    "# 함수의 카테고리\n",
    "# 1) 내장함수 : print(), input(), abs()\n",
    "# 2) 외장함수 : import 라이브러리\n",
    "import random\n",
    "random.randint(1, 50)\n",
    "# 3) 사용자 정의 함수 : 우리가 만듦"
   ]
  },
  {
   "cell_type": "code",
   "execution_count": 341,
   "id": "c3bac549-85d2-4dc8-a6b7-b4d97903845c",
   "metadata": {},
   "outputs": [
    {
     "name": "stdout",
     "output_type": "stream",
     "text": [
      "30\n",
      "50\n",
      "70\n",
      "48\n",
      "이성균\n",
      "우중충\n"
     ]
    }
   ],
   "source": [
    "# 사용자 정의 함수\n",
    "# 1) 매개변수 O, 리턴 값 O\n",
    "def add_two_number(num1, num2): # 매개 변수 parameter\n",
    "    return num1 + num2 # 반환 값\n",
    "\n",
    "# 2) 매개변수 O, 리턴 값 X\n",
    "def print_add(num1, num2):\n",
    "    print(num1 + num2)\n",
    "\n",
    "# 3) 매개변수 X, 리턴 값 O \n",
    "def get_name(): # getter\n",
    "    return \"이성균\"\n",
    "\n",
    "# 4) 매개변수 X, 리턴 값 X\n",
    "def today_seul_weather():\n",
    "    print(\"우중충\")\n",
    "\n",
    "print(add_two_number(10,20)) # (10,20) : 전달 인자 argument\n",
    "\n",
    "print_add(20, 30)\n",
    "print_add(30, 40)\n",
    "\n",
    "print(add_two_number(3, 5) + add_two_number(10, 30))\n",
    "print(get_name())\n",
    "today_seul_weather()"
   ]
  },
  {
   "cell_type": "code",
   "execution_count": 361,
   "id": "eccd2378-fd06-4118-a437-d347fb999988",
   "metadata": {},
   "outputs": [
    {
     "name": "stdout",
     "output_type": "stream",
     "text": [
      "10\n",
      "10\n"
     ]
    }
   ],
   "source": [
    "# abs\n",
    "\n",
    "def absolute(num):\n",
    "    if num <0:\n",
    "        return -num\n",
    "    else:\n",
    "        return num\n",
    "    # 절대값 반환\n",
    "\n",
    "print(absolute(-10))\n",
    "print(absolute(10))"
   ]
  },
  {
   "cell_type": "code",
   "execution_count": 363,
   "id": "4c3ec403-08ce-45aa-bff4-ffa1052ed3f5",
   "metadata": {},
   "outputs": [
    {
     "name": "stdin",
     "output_type": "stream",
     "text": [
      "첫 번째 정수 입력 :  50\n",
      "두 번째 정수 입력 :  15\n"
     ]
    },
    {
     "name": "stdout",
     "output_type": "stream",
     "text": [
      "15\n"
     ]
    }
   ],
   "source": [
    "# close10(num1, num2)\n",
    "# 둘 중에 10에 더 가까운 수를 return하는\n",
    "\n",
    "def close10(a, b):\n",
    "    if absolute(a - 10) < absolute(b - 10):\n",
    "        return a\n",
    "    else:\n",
    "        return b\n",
    "    \n",
    "num1 = int(input(\"첫 번째 정수 입력 : \"))\n",
    "num2 = int(input(\"두 번째 정수 입력 : \"))\n",
    "\n",
    "print(close10(num1, num2))"
   ]
  },
  {
   "cell_type": "code",
   "execution_count": 355,
   "id": "22ee55da-3e76-4089-ba91-0fc376f70149",
   "metadata": {
    "scrolled": true
   },
   "outputs": [
    {
     "name": "stdout",
     "output_type": "stream",
     "text": [
      "20\n"
     ]
    }
   ],
   "source": [
    "list5 = [10, 5, 7, 20, 3]\n",
    "# list의 가장 큰 값을 반환하는\n",
    "# 나만의 maximize() 정의\n",
    "def maximize(a):\n",
    "    max_value = a[0]\n",
    "    for num in a:\n",
    "        if num > max_value:\n",
    "            max_value = num\n",
    "    return max_value\n",
    "        \n",
    "print(maximize(list5))"
   ]
  }
 ],
 "metadata": {
  "kernelspec": {
   "display_name": "Python 3 (ipykernel)",
   "language": "python",
   "name": "python3"
  },
  "language_info": {
   "codemirror_mode": {
    "name": "ipython",
    "version": 3
   },
   "file_extension": ".py",
   "mimetype": "text/x-python",
   "name": "python",
   "nbconvert_exporter": "python",
   "pygments_lexer": "ipython3",
   "version": "3.12.11"
  }
 },
 "nbformat": 4,
 "nbformat_minor": 5
}
