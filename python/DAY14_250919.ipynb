{
 "cells": [
  {
   "cell_type": "code",
   "execution_count": 2,
   "id": "7ffacfe8-594d-4ee3-9dbe-f88ccb89571a",
   "metadata": {},
   "outputs": [
    {
     "data": {
      "text/plain": [
       "'C:\\\\Users\\\\KCCISTC\\\\Desktop\\\\workspace'"
      ]
     },
     "execution_count": 2,
     "metadata": {},
     "output_type": "execute_result"
    }
   ],
   "source": [
    "# ! <- 아나콘다 프롬포트\n",
    "# % <- 프롬프트에 적용하는 느낌\n",
    "%pwd # print working directory (현재 위치 출력)"
   ]
  },
  {
   "cell_type": "code",
   "execution_count": 3,
   "id": "1df60966-b8e5-4b6c-b339-b81c96634ae8",
   "metadata": {},
   "outputs": [],
   "source": [
    "%mkdir rps"
   ]
  },
  {
   "cell_type": "code",
   "execution_count": 4,
   "id": "17406394-095e-441b-ae65-e45cabf8b0c1",
   "metadata": {
    "scrolled": true
   },
   "outputs": [
    {
     "name": "stdout",
     "output_type": "stream",
     "text": [
      " C 드라이브의 볼륨에는 이름이 없습니다.\n",
      " 볼륨 일련 번호: E8FD-BE1B\n",
      "\n",
      " C:\\Users\\KCCISTC\\Desktop\\workspace 디렉터리\n",
      "\n",
      "2025-09-19  오전 09:26    <DIR>          .\n",
      "2025-09-17  오전 11:16    <DIR>          ..\n",
      "2025-09-19  오전 09:18    <DIR>          .ipynb_checkpoints\n",
      "2025-09-17  오후 02:42    <DIR>          __pycache__\n",
      "2025-09-16  오전 10:36    <DIR>          abc\n",
      "2025-09-16  오전 10:40    <DIR>          abcd\n",
      "2025-09-17  오후 04:50             3,363 aws.py\n",
      "2025-09-12  오전 10:35    <DIR>          build\n",
      "2025-09-09  오전 10:38    <DIR>          cache\n",
      "2025-09-05  오전 10:47               838 cal.ipynb\n",
      "2025-09-05  오전 10:47               227 cal.py\n",
      "2025-09-10  오후 02:56       150,828,752 creditcard.csv\n",
      "2025-09-10  오후 02:48       150,828,752 -creditcard.csv\n",
      "2025-09-12  오후 12:45    <DIR>          csv\n",
      "2025-09-15  오후 04:50           359,226 Day10_250915.ipynb\n",
      "2025-09-16  오후 04:48         1,032,185 DAY11_250916.ipynb\n",
      "2025-09-17  오후 04:50             1,918 DAY12.py\n",
      "2025-09-17  오전 10:59            22,965 DAY12_250917.ipynb\n",
      "2025-09-19  오전 08:50            10,998 DAY13_250918.ipynb\n",
      "2025-09-19  오전 09:26            10,174 DAY14_250919.ipynb\n",
      "2025-09-16  오전 08:33         1,969,928 Day2.ipynb\n",
      "2025-09-16  오전 08:40           415,316 Day3_250904.ipynb\n",
      "2025-09-16  오전 09:04            40,239 Day4.ipynb\n",
      "2025-09-17  오전 08:58           271,971 Day5_250908.ipynb\n",
      "2025-09-09  오후 04:54           767,879 Day6_250909.ipynb\n",
      "2025-09-19  오전 09:01         1,206,679 Day7_250910.ipynb\n",
      "2025-09-11  오후 04:48             2,481 day8.py\n",
      "2025-09-11  오후 04:47               694 day8.spec\n",
      "2025-09-11  오후 04:47            23,882 Day8_250911.ipynb\n",
      "2025-09-12  오후 12:34            32,055 Day9-1_250912.ipynb\n",
      "2025-09-12  오후 04:54            49,727 Day9-2_250912.ipynb\n",
      "2025-09-18  오후 02:12    <DIR>          DeepLearning4Projects\n",
      "2025-09-12  오전 10:35    <DIR>          dist\n",
      "2025-09-11  오후 02:20               234 exam.py\n",
      "2025-09-10  오후 03:25             3,258 gender_submission.csv\n",
      "2025-09-17  오전 10:08    <DIR>          imgs\n",
      "2025-09-09  오후 03:09             1,204 iris.dot\n",
      "2025-09-08  오전 11:41                46 member.csv\n",
      "2025-09-12  오전 10:34             3,462 my_cal.py\n",
      "2025-09-12  오전 10:35               698 my_cal.spec\n",
      "2025-09-12  오후 02:17           193,452 naver.html\n",
      "2025-09-15  오전 09:09               148 out.txt\n",
      "2025-09-08  오전 11:41            44,028 pokemon.csv\n",
      "2025-09-15  오전 09:26             9,209 requirements.txt\n",
      "2025-09-15  오전 09:37             1,256 requirements2.txt\n",
      "2025-09-15  오전 10:17    <DIR>          robot\n",
      "2025-09-19  오전 09:26    <DIR>          rps\n",
      "2025-09-18  오전 10:27    <DIR>          server\n",
      "2025-09-17  오후 02:30    <DIR>          static\n",
      "2025-09-11  오전 09:55             3,258 submit1.csv\n",
      "2025-09-11  오전 10:00             3,258 submit2.csv\n",
      "2025-09-11  오전 09:59             3,258 submit3.csv\n",
      "2025-09-11  오전 10:34             3,258 submit4.csv\n",
      "2025-09-11  오전 10:44             3,258 submit5.csv\n",
      "2025-09-17  오전 11:52    <DIR>          templates\n",
      "2019-12-11  오전 02:17            28,629 test.csv\n",
      "2025-09-10  오후 03:36            31,797 test2.csv\n",
      "2025-09-10  오후 03:42            31,797 test3.csv\n",
      "2025-09-10  오후 03:42            31,797 test4.csv\n",
      "2025-09-10  오후 03:45             4,821 test5.csv\n",
      "2025-09-10  오후 04:21             3,258 test6.csv\n",
      "2025-09-10  오후 03:31    <DIR>          titanic\n",
      "2025-09-08  오후 02:31            60,302 titanic.csv\n",
      "2019-12-11  오전 02:17            61,194 train.csv\n",
      "2025-09-09  오후 02:07             1,795 tree.dot\n",
      "2025-09-12  오후 12:05             4,081 Untitled.ipynb\n",
      "2025-09-02  오후 02:40                 0 untitled.py\n",
      "2025-09-18  오후 04:39    <DIR>          yolov5\n",
      "2025-09-19  오전 09:24           182,242 머신 러닝 개념 및 실습.ipynb\n",
      "              50개 파일         308,595,247 바이트\n",
      "              19개 디렉터리  137,265,627,136 바이트 남음\n"
     ]
    }
   ],
   "source": [
    "%ls"
   ]
  },
  {
   "cell_type": "code",
   "execution_count": 5,
   "id": "7e5ccb92-54f9-4d5f-bfbc-c3da3dcb67e5",
   "metadata": {},
   "outputs": [
    {
     "name": "stdout",
     "output_type": "stream",
     "text": [
      "2025-09-19  오전 09:26    <DIR>          rps\n"
     ]
    }
   ],
   "source": [
    "%ls | findstr rps"
   ]
  },
  {
   "cell_type": "code",
   "execution_count": 7,
   "id": "572e3380-38ad-410d-a4cf-a120f3de0d3a",
   "metadata": {
    "scrolled": true
   },
   "outputs": [
    {
     "name": "stdout",
     "output_type": "stream",
     "text": [
      "[WinError 2] 지정된 파일을 찾을 수 없습니다: 'rps/'\n",
      "C:\\Users\\KCCISTC\\Desktop\\workspace\\rps\n"
     ]
    },
    {
     "name": "stderr",
     "output_type": "stream",
     "text": [
      "C:\\Users\\KCCISTC\\anaconda3\\envs\\robot\\Lib\\site-packages\\IPython\\core\\magics\\osm.py:393: UserWarning: using bookmarks requires you to install the `pickleshare` library.\n",
      "  bkms = self.shell.db.get('bookmarks', {})\n"
     ]
    }
   ],
   "source": [
    "%cd rps/"
   ]
  },
  {
   "cell_type": "code",
   "execution_count": 8,
   "id": "b8770234-2019-49d7-a32d-efe5d7587a77",
   "metadata": {},
   "outputs": [
    {
     "data": {
      "text/plain": [
       "'C:\\\\Users\\\\KCCISTC\\\\Desktop\\\\workspace\\\\rps'"
      ]
     },
     "execution_count": 8,
     "metadata": {},
     "output_type": "execute_result"
    }
   ],
   "source": [
    "%pwd"
   ]
  },
  {
   "cell_type": "code",
   "execution_count": 1,
   "id": "a7cb5fbc-272e-4729-8c3f-b0828b6ca7eb",
   "metadata": {
    "scrolled": true
   },
   "outputs": [
    {
     "name": "stdout",
     "output_type": "stream",
     "text": [
      "Collecting roboflow\n",
      "  Downloading roboflow-1.2.9-py3-none-any.whl.metadata (9.7 kB)\n",
      "Requirement already satisfied: certifi in c:\\users\\kccistc\\anaconda3\\envs\\robot\\lib\\site-packages (from roboflow) (2025.8.3)\n",
      "Collecting idna==3.7 (from roboflow)\n",
      "  Downloading idna-3.7-py3-none-any.whl.metadata (9.9 kB)\n",
      "Requirement already satisfied: cycler in c:\\users\\kccistc\\anaconda3\\envs\\robot\\lib\\site-packages (from roboflow) (0.12.1)\n",
      "Requirement already satisfied: kiwisolver>=1.3.1 in c:\\users\\kccistc\\anaconda3\\envs\\robot\\lib\\site-packages (from roboflow) (1.4.9)\n",
      "Requirement already satisfied: matplotlib in c:\\users\\kccistc\\anaconda3\\envs\\robot\\lib\\site-packages (from roboflow) (3.10.6)\n",
      "Requirement already satisfied: numpy>=1.18.5 in c:\\users\\kccistc\\anaconda3\\envs\\robot\\lib\\site-packages (from roboflow) (2.0.1)\n",
      "Collecting opencv-python-headless==4.10.0.84 (from roboflow)\n",
      "  Downloading opencv_python_headless-4.10.0.84-cp37-abi3-win_amd64.whl.metadata (20 kB)\n",
      "Requirement already satisfied: Pillow>=7.1.2 in c:\\users\\kccistc\\anaconda3\\envs\\robot\\lib\\site-packages (from roboflow) (11.3.0)\n",
      "Collecting pi-heif<2 (from roboflow)\n",
      "  Downloading pi_heif-1.1.0-cp312-cp312-win_amd64.whl.metadata (6.7 kB)\n",
      "Collecting pillow-avif-plugin<2 (from roboflow)\n",
      "  Downloading pillow_avif_plugin-1.5.2-cp312-cp312-win_amd64.whl.metadata (2.2 kB)\n",
      "Requirement already satisfied: python-dateutil in c:\\users\\kccistc\\anaconda3\\envs\\robot\\lib\\site-packages (from roboflow) (2.9.0.post0)\n",
      "Collecting python-dotenv (from roboflow)\n",
      "  Using cached python_dotenv-1.1.1-py3-none-any.whl.metadata (24 kB)\n",
      "Requirement already satisfied: requests in c:\\users\\kccistc\\anaconda3\\envs\\robot\\lib\\site-packages (from roboflow) (2.32.5)\n",
      "Requirement already satisfied: six in c:\\users\\kccistc\\anaconda3\\envs\\robot\\lib\\site-packages (from roboflow) (1.17.0)\n",
      "Requirement already satisfied: urllib3>=1.26.6 in c:\\users\\kccistc\\anaconda3\\envs\\robot\\lib\\site-packages (from roboflow) (2.5.0)\n",
      "Requirement already satisfied: tqdm>=4.41.0 in c:\\users\\kccistc\\anaconda3\\envs\\robot\\lib\\site-packages (from roboflow) (4.67.1)\n",
      "Requirement already satisfied: PyYAML>=5.3.1 in c:\\users\\kccistc\\anaconda3\\envs\\robot\\lib\\site-packages (from roboflow) (6.0.2)\n",
      "Collecting requests-toolbelt (from roboflow)\n",
      "  Using cached requests_toolbelt-1.0.0-py2.py3-none-any.whl.metadata (14 kB)\n",
      "Collecting filetype (from roboflow)\n",
      "  Downloading filetype-1.2.0-py2.py3-none-any.whl.metadata (6.5 kB)\n",
      "Requirement already satisfied: colorama in c:\\users\\kccistc\\anaconda3\\envs\\robot\\lib\\site-packages (from tqdm>=4.41.0->roboflow) (0.4.6)\n",
      "Requirement already satisfied: contourpy>=1.0.1 in c:\\users\\kccistc\\anaconda3\\envs\\robot\\lib\\site-packages (from matplotlib->roboflow) (1.3.3)\n",
      "Requirement already satisfied: fonttools>=4.22.0 in c:\\users\\kccistc\\anaconda3\\envs\\robot\\lib\\site-packages (from matplotlib->roboflow) (4.59.2)\n",
      "Requirement already satisfied: packaging>=20.0 in c:\\users\\kccistc\\anaconda3\\envs\\robot\\lib\\site-packages (from matplotlib->roboflow) (25.0)\n",
      "Requirement already satisfied: pyparsing>=2.3.1 in c:\\users\\kccistc\\anaconda3\\envs\\robot\\lib\\site-packages (from matplotlib->roboflow) (3.2.4)\n",
      "Requirement already satisfied: charset_normalizer<4,>=2 in c:\\users\\kccistc\\anaconda3\\envs\\robot\\lib\\site-packages (from requests->roboflow) (3.3.2)\n",
      "Downloading roboflow-1.2.9-py3-none-any.whl (88 kB)\n",
      "Downloading idna-3.7-py3-none-any.whl (66 kB)\n",
      "Downloading opencv_python_headless-4.10.0.84-cp37-abi3-win_amd64.whl (38.8 MB)\n",
      "   ---------------------------------------- 0.0/38.8 MB ? eta -:--:--\n",
      "   -- ------------------------------------- 2.4/38.8 MB 11.2 MB/s eta 0:00:04\n",
      "   ---- ----------------------------------- 4.7/38.8 MB 11.4 MB/s eta 0:00:03\n",
      "   ------- -------------------------------- 7.1/38.8 MB 11.5 MB/s eta 0:00:03\n",
      "   --------- ------------------------------ 9.4/38.8 MB 11.7 MB/s eta 0:00:03\n",
      "   ------------ --------------------------- 11.8/38.8 MB 11.7 MB/s eta 0:00:03\n",
      "   -------------- ------------------------- 14.4/38.8 MB 11.8 MB/s eta 0:00:03\n",
      "   --------------- ------------------------ 14.9/38.8 MB 10.6 MB/s eta 0:00:03\n",
      "   ----------------- ---------------------- 16.8/38.8 MB 10.3 MB/s eta 0:00:03\n",
      "   ------------------- -------------------- 19.1/38.8 MB 10.4 MB/s eta 0:00:02\n",
      "   --------------------- ------------------ 21.2/38.8 MB 10.4 MB/s eta 0:00:02\n",
      "   ----------------------- ---------------- 23.1/38.8 MB 10.2 MB/s eta 0:00:02\n",
      "   -------------------------- ------------- 25.4/38.8 MB 10.3 MB/s eta 0:00:02\n",
      "   ---------------------------- ----------- 27.3/38.8 MB 10.2 MB/s eta 0:00:02\n",
      "   ----------------------------- ---------- 28.3/38.8 MB 10.3 MB/s eta 0:00:02\n",
      "   ------------------------------- -------- 30.7/38.8 MB 10.0 MB/s eta 0:00:01\n",
      "   --------------------------------- ------ 32.8/38.8 MB 10.0 MB/s eta 0:00:01\n",
      "   ------------------------------------ --- 35.1/38.8 MB 10.1 MB/s eta 0:00:01\n",
      "   -------------------------------------- - 37.0/38.8 MB 10.1 MB/s eta 0:00:01\n",
      "   ---------------------------------------  38.5/38.8 MB 10.1 MB/s eta 0:00:01\n",
      "   ---------------------------------------- 38.8/38.8 MB 9.8 MB/s  0:00:03\n",
      "Downloading pi_heif-1.1.0-cp312-cp312-win_amd64.whl (1.9 MB)\n",
      "   ---------------------------------------- 0.0/1.9 MB ? eta -:--:--\n",
      "   ---------------------- ----------------- 1.0/1.9 MB 5.6 MB/s eta 0:00:01\n",
      "   ---------------------------------------- 1.9/1.9 MB 6.5 MB/s  0:00:00\n",
      "Downloading pillow_avif_plugin-1.5.2-cp312-cp312-win_amd64.whl (9.9 MB)\n",
      "   ---------------------------------------- 0.0/9.9 MB ? eta -:--:--\n",
      "   ----- ---------------------------------- 1.3/9.9 MB 7.4 MB/s eta 0:00:02\n",
      "   ----------- ---------------------------- 2.9/9.9 MB 7.3 MB/s eta 0:00:01\n",
      "   --------------- ------------------------ 3.9/9.9 MB 6.3 MB/s eta 0:00:01\n",
      "   ------------------------ --------------- 6.0/9.9 MB 7.5 MB/s eta 0:00:01\n",
      "   -------------------------------- ------- 8.1/9.9 MB 8.1 MB/s eta 0:00:01\n",
      "   ---------------------------------------- 9.9/9.9 MB 8.4 MB/s  0:00:01\n",
      "Downloading filetype-1.2.0-py2.py3-none-any.whl (19 kB)\n",
      "Downloading python_dotenv-1.1.1-py3-none-any.whl (20 kB)\n",
      "Downloading requests_toolbelt-1.0.0-py2.py3-none-any.whl (54 kB)\n",
      "Installing collected packages: pillow-avif-plugin, filetype, python-dotenv, pi-heif, opencv-python-headless, idna, requests-toolbelt, roboflow\n",
      "\n",
      "   ----- ---------------------------------- 1/8 [filetype]\n",
      "   -------------------- ------------------- 4/8 [opencv-python-headless]\n",
      "   -------------------- ------------------- 4/8 [opencv-python-headless]\n",
      "   -------------------- ------------------- 4/8 [opencv-python-headless]\n",
      "   -------------------- ------------------- 4/8 [opencv-python-headless]\n",
      "  Attempting uninstall: idna\n",
      "   -------------------- ------------------- 4/8 [opencv-python-headless]\n",
      "    Found existing installation: idna 3.10\n",
      "   -------------------- ------------------- 4/8 [opencv-python-headless]\n",
      "    Uninstalling idna-3.10:\n",
      "   -------------------- ------------------- 4/8 [opencv-python-headless]\n",
      "      Successfully uninstalled idna-3.10\n",
      "   -------------------- ------------------- 4/8 [opencv-python-headless]\n",
      "   ------------------------- -------------- 5/8 [idna]\n",
      "   ----------------------------------- ---- 7/8 [roboflow]\n",
      "   ---------------------------------------- 8/8 [roboflow]\n",
      "\n",
      "Successfully installed filetype-1.2.0 idna-3.7 opencv-python-headless-4.10.0.84 pi-heif-1.1.0 pillow-avif-plugin-1.5.2 python-dotenv-1.1.1 requests-toolbelt-1.0.0 roboflow-1.2.9\n"
     ]
    }
   ],
   "source": [
    "!pip install roboflow"
   ]
  },
  {
   "cell_type": "code",
   "execution_count": 10,
   "id": "65f9f530-7052-40ec-b634-15f7e3aecb6c",
   "metadata": {
    "scrolled": true
   },
   "outputs": [
    {
     "name": "stderr",
     "output_type": "stream",
     "text": [
      "  % Total    % Received % Xferd  Average Speed   Time    Time     Time  Current\n",
      "                                 Dload  Upload   Total   Spent    Left  Speed\n",
      "\n",
      "  0     0    0     0    0     0      0      0 --:--:-- --:--:-- --:--:--     0\n",
      "  0     0    0     0    0     0      0      0 --:--:-- --:--:-- --:--:--     0\n",
      "100   903  100   903    0     0   1525      0 --:--:-- --:--:-- --:--:--  1527\n",
      "\n",
      "  0 17.2M    0 14878    0     0  11366      0  0:26:27  0:00:01  0:26:26 11366\n",
      "  2 17.2M    2  367k    0     0   163k      0  0:01:47  0:00:02  0:01:45  374k\n",
      " 15 17.2M   15 2686k    0     0   826k      0  0:00:21  0:00:03  0:00:18 1376k\n",
      " 23 17.2M   23 4206k    0     0   988k      0  0:00:17  0:00:04  0:00:13 1423k\n",
      " 29 17.2M   29 5262k    0     0  1001k      0  0:00:17  0:00:05  0:00:12 1330k\n",
      " 34 17.2M   34 6014k    0     0   962k      0  0:00:18  0:00:06  0:00:12 1214k\n",
      " 37 17.2M   37 6654k    0     0   917k      0  0:00:19  0:00:07  0:00:12 1257k\n",
      " 40 17.2M   40 7086k    0     0   858k      0  0:00:20  0:00:08  0:00:12  879k\n",
      " 44 17.2M   44 7806k    0     0   842k      0  0:00:20  0:00:09  0:00:11  718k\n",
      " 47 17.2M   47 8414k    0     0   820k      0  0:00:21  0:00:10  0:00:11  630k\n",
      " 51 17.2M   51 9054k    0     0   804k      0  0:00:21  0:00:11  0:00:10  608k\n",
      " 53 17.2M   53 9454k    0     0   771k      0  0:00:22  0:00:12  0:00:10  560k\n",
      " 58 17.2M   58 10.0M    0     0   778k      0  0:00:22  0:00:13  0:00:09  646k\n",
      " 61 17.2M   61 10.5M    0     0   756k      0  0:00:23  0:00:14  0:00:09  596k\n",
      " 64 17.2M   64 11.1M    0     0   749k      0  0:00:23  0:00:15  0:00:08  604k\n",
      " 67 17.2M   67 11.6M    0     0   732k      0  0:00:24  0:00:16  0:00:08  568k\n",
      " 71 17.2M   71 12.3M    0     0   731k      0  0:00:24  0:00:17  0:00:07  632k\n",
      " 76 17.2M   76 13.1M    0     0   736k      0  0:00:23  0:00:18  0:00:05  623k\n",
      " 81 17.2M   81 14.0M    0     0   747k      0  0:00:23  0:00:19  0:00:04  723k\n",
      " 90 17.2M   90 15.5M    0     0   785k      0  0:00:22  0:00:20  0:00:02  893k\n",
      " 98 17.2M   98 16.9M    0     0   815k      0  0:00:21  0:00:21 --:--:-- 1088k\n",
      "100 17.2M  100 17.2M    0     0   812k      0  0:00:21  0:00:21 --:--:-- 1130k\n",
      "curl: (3) URL rejected: Bad hostname\n",
      "  % Total    % Received % Xferd  Average Speed   Time    Time     Time  Current\n",
      "                                 Dload  Upload   Total   Spent    Left  Speed\n",
      "\n",
      "  0     0    0     0    0     0      0      0 --:--:-- --:--:-- --:--:--     0\n",
      "  0     0    0     0    0     0      0      0 --:--:-- --:--:-- --:--:--     0\n",
      "  0     0    0     0    0     0      0      0 --:--:--  0:00:01 --:--:--     0\n",
      "  0     0    0     0    0     0      0      0 --:--:--  0:00:02 --:--:--     0curl: (6) Could not resolve host: unzip\n",
      "curl: (3) URL rejected: Bad hostname\n",
      "  % Total    % Received % Xferd  Average Speed   Time    Time     Time  Current\n",
      "                                 Dload  Upload   Total   Spent    Left  Speed\n",
      "\n",
      "  0     0    0     0    0     0      0      0 --:--:-- --:--:-- --:--:--     0\n",
      "  0     0    0     0    0     0      0      0 --:--:--  0:00:01 --:--:--     0\n",
      "  0     0    0     0    0     0      0      0 --:--:--  0:00:01 --:--:--     0curl: (6) Could not resolve host: rm\n",
      "  % Total    % Received % Xferd  Average Speed   Time    Time     Time  Current\n",
      "                                 Dload  Upload   Total   Spent    Left  Speed\n",
      "\n",
      "  0     0    0     0    0     0      0      0 --:--:-- --:--:-- --:--:--     0curl: (6) Could not resolve host: roboflow.zip\n"
     ]
    }
   ],
   "source": [
    "!curl -L \"https://public.roboflow.com/ds/gHVwVkGYQh?key=xpVirwtXkS\" > roboflow.zip; unzip roboflow.zip; rm roboflow.zip"
   ]
  },
  {
   "cell_type": "code",
   "execution_count": 12,
   "id": "128eaa99-be89-4905-b6b3-19063d4c7ace",
   "metadata": {
    "scrolled": true
   },
   "outputs": [
    {
     "name": "stdout",
     "output_type": "stream",
     "text": [
      "Collecting unzip\n",
      "  Downloading unzip-1.0.0.tar.gz (704 bytes)\n",
      "  Preparing metadata (setup.py): started\n",
      "  Preparing metadata (setup.py): finished with status 'done'\n",
      "Building wheels for collected packages: unzip\n",
      "  Building wheel for unzip (setup.py): started\n",
      "  Building wheel for unzip (setup.py): finished with status 'done'\n",
      "  Created wheel for unzip: filename=unzip-1.0.0-py3-none-any.whl size=1307 sha256=0990dbfc196ff486fbdcd94a2a52c89edb766c96329befa3c3aee131376ec160\n",
      "  Stored in directory: c:\\users\\kccistc\\appdata\\local\\pip\\cache\\wheels\\fb\\5b\\81\\0f3e1e533b52883f88ab978178c15627a4fce4c13f74911dce\n",
      "Successfully built unzip\n",
      "Installing collected packages: unzip\n",
      "Successfully installed unzip-1.0.0\n"
     ]
    },
    {
     "name": "stderr",
     "output_type": "stream",
     "text": [
      "  DEPRECATION: Building 'unzip' using the legacy setup.py bdist_wheel mechanism, which will be removed in a future version. pip 25.3 will enforce this behaviour change. A possible replacement is to use the standardized build interface by setting the `--use-pep517` option, (possibly combined with `--no-build-isolation`), or adding a `pyproject.toml` file to the source tree of 'unzip'. Discussion can be found at https://github.com/pypa/pip/issues/6334\n"
     ]
    }
   ],
   "source": [
    "!pip install unzip"
   ]
  },
  {
   "cell_type": "code",
   "execution_count": 5,
   "id": "a6797e39-fff4-46a5-9e6a-71fe32cf0d46",
   "metadata": {},
   "outputs": [
    {
     "name": "stderr",
     "output_type": "stream",
     "text": [
      "fatal: destination path 'yolov5' already exists and is not an empty directory.\n"
     ]
    }
   ],
   "source": [
    "# Yolov5 git clone\n",
    "!git clone https://github.com/ultralytics/yolov5.git"
   ]
  },
  {
   "cell_type": "code",
   "execution_count": 2,
   "id": "112ac72b-1c1a-4f80-8cb5-e9db5b85b9ef",
   "metadata": {},
   "outputs": [
    {
     "name": "stdout",
     "output_type": "stream",
     "text": [
      "C:\\Users\\KCCISTC\\Desktop\\workspace\\yolov5\n"
     ]
    },
    {
     "name": "stderr",
     "output_type": "stream",
     "text": [
      "C:\\Users\\KCCISTC\\anaconda3\\envs\\robot\\Lib\\site-packages\\IPython\\core\\magics\\osm.py:417: UserWarning: using dhist requires you to install the `pickleshare` library.\n",
      "  self.shell.db['dhist'] = compress_dhist(dhist)[-100:]\n"
     ]
    }
   ],
   "source": [
    "%cd yolov5/"
   ]
  },
  {
   "cell_type": "code",
   "execution_count": 7,
   "id": "b30d09bf-dcdc-49e5-9057-fa10b3a392d4",
   "metadata": {},
   "outputs": [
    {
     "name": "stdout",
     "output_type": "stream",
     "text": [
      " C 드라이브의 볼륨에는 이름이 없습니다.\n",
      " 볼륨 일련 번호: E8FD-BE1B\n",
      "\n",
      " C:\\Users\\KCCISTC\\Desktop\\workspace\\yolov5 디렉터리\n",
      "\n",
      "2025-09-18  오후 04:39    <DIR>          .\n",
      "2025-09-19  오전 09:38    <DIR>          ..\n",
      "2025-09-18  오후 04:33             3,923 .dockerignore\n",
      "2025-09-18  오후 04:33                77 .gitattributes\n",
      "2025-09-18  오후 04:33    <DIR>          .github\n",
      "2025-09-18  오후 04:33             4,268 .gitignore\n",
      "2025-09-18  오후 04:38    <DIR>          __pycache__\n",
      "2025-09-18  오후 04:33            14,440 benchmarks.py\n",
      "2025-09-18  오후 04:33               407 CITATION.cff\n",
      "2025-09-18  오후 04:33    <DIR>          classify\n",
      "2025-09-18  오후 04:33             5,506 CONTRIBUTING.md\n",
      "2025-09-18  오후 04:33    <DIR>          data\n",
      "2025-09-18  오후 04:33            24,199 detect.py\n",
      "2025-09-18  오후 04:33            70,181 export.py\n",
      "2025-09-18  오후 04:33            24,543 hubconf.py\n",
      "2025-09-18  오후 04:33            35,184 LICENSE\n",
      "2025-09-18  오후 04:38    <DIR>          models\n",
      "2025-09-18  오후 04:33             5,533 pyproject.toml\n",
      "2025-09-18  오후 04:33            50,540 README.md\n",
      "2025-09-18  오후 04:33            49,509 README.zh-CN.md\n",
      "2025-09-18  오후 04:33             1,708 requirements.txt\n",
      "2025-09-18  오후 04:38    <DIR>          runs\n",
      "2025-09-18  오후 04:33    <DIR>          segment\n",
      "2025-09-18  오후 04:33            48,195 train.py\n",
      "2025-09-18  오후 04:33            41,453 tutorial.ipynb\n",
      "2025-09-18  오후 04:38    <DIR>          utils\n",
      "2025-09-18  오후 04:33            31,053 val.py\n",
      "2025-09-18  오후 04:39        14,808,437 yolov5s.pt\n",
      "              18개 파일          15,219,156 바이트\n",
      "              10개 디렉터리  137,159,888,896 바이트 남음\n"
     ]
    }
   ],
   "source": [
    "%ls"
   ]
  },
  {
   "cell_type": "code",
   "execution_count": 9,
   "id": "9cd33256-e024-4295-b2a3-5581efd9510a",
   "metadata": {},
   "outputs": [
    {
     "name": "stdout",
     "output_type": "stream",
     "text": [
      "Requirement already satisfied: gitpython>=3.1.30 in c:\\users\\kccistc\\anaconda3\\envs\\robot\\lib\\site-packages (from -r requirements.txt (line 5)) (3.1.45)\n",
      "Requirement already satisfied: matplotlib>=3.3 in c:\\users\\kccistc\\anaconda3\\envs\\robot\\lib\\site-packages (from -r requirements.txt (line 6)) (3.10.6)\n",
      "Requirement already satisfied: numpy>=1.23.5 in c:\\users\\kccistc\\anaconda3\\envs\\robot\\lib\\site-packages (from -r requirements.txt (line 7)) (2.0.1)\n",
      "Requirement already satisfied: opencv-python>=4.1.1 in c:\\users\\kccistc\\anaconda3\\envs\\robot\\lib\\site-packages (from -r requirements.txt (line 8)) (4.12.0.88)\n",
      "Requirement already satisfied: pillow>=10.3.0 in c:\\users\\kccistc\\anaconda3\\envs\\robot\\lib\\site-packages (from -r requirements.txt (line 9)) (11.3.0)\n",
      "Requirement already satisfied: psutil in c:\\users\\kccistc\\anaconda3\\envs\\robot\\lib\\site-packages (from -r requirements.txt (line 10)) (7.0.0)\n",
      "Requirement already satisfied: PyYAML>=5.3.1 in c:\\users\\kccistc\\anaconda3\\envs\\robot\\lib\\site-packages (from -r requirements.txt (line 11)) (6.0.2)\n",
      "Requirement already satisfied: requests>=2.32.2 in c:\\users\\kccistc\\anaconda3\\envs\\robot\\lib\\site-packages (from -r requirements.txt (line 12)) (2.32.5)\n",
      "Requirement already satisfied: scipy>=1.4.1 in c:\\users\\kccistc\\anaconda3\\envs\\robot\\lib\\site-packages (from -r requirements.txt (line 13)) (1.16.2)\n",
      "Requirement already satisfied: thop>=0.1.1 in c:\\users\\kccistc\\anaconda3\\envs\\robot\\lib\\site-packages (from -r requirements.txt (line 14)) (0.1.1.post2209072238)\n",
      "Requirement already satisfied: torch>=1.8.0 in c:\\users\\kccistc\\anaconda3\\envs\\robot\\lib\\site-packages (from -r requirements.txt (line 15)) (2.8.0)\n",
      "Requirement already satisfied: torchvision>=0.9.0 in c:\\users\\kccistc\\anaconda3\\envs\\robot\\lib\\site-packages (from -r requirements.txt (line 16)) (0.23.0)\n",
      "Requirement already satisfied: tqdm>=4.66.3 in c:\\users\\kccistc\\anaconda3\\envs\\robot\\lib\\site-packages (from -r requirements.txt (line 17)) (4.67.1)\n",
      "Requirement already satisfied: ultralytics>=8.2.64 in c:\\users\\kccistc\\anaconda3\\envs\\robot\\lib\\site-packages (from -r requirements.txt (line 18)) (8.3.201)\n",
      "Requirement already satisfied: pandas>=1.1.4 in c:\\users\\kccistc\\anaconda3\\envs\\robot\\lib\\site-packages (from -r requirements.txt (line 27)) (2.3.2)\n",
      "Requirement already satisfied: seaborn>=0.11.0 in c:\\users\\kccistc\\anaconda3\\envs\\robot\\lib\\site-packages (from -r requirements.txt (line 28)) (0.13.2)\n",
      "Requirement already satisfied: packaging in c:\\users\\kccistc\\anaconda3\\envs\\robot\\lib\\site-packages (from -r requirements.txt (line 42)) (25.0)\n",
      "Requirement already satisfied: setuptools>=70.0.0 in c:\\users\\kccistc\\anaconda3\\envs\\robot\\lib\\site-packages (from -r requirements.txt (line 43)) (78.1.1)\n",
      "Requirement already satisfied: gitdb<5,>=4.0.1 in c:\\users\\kccistc\\anaconda3\\envs\\robot\\lib\\site-packages (from gitpython>=3.1.30->-r requirements.txt (line 5)) (4.0.12)\n",
      "Requirement already satisfied: smmap<6,>=3.0.1 in c:\\users\\kccistc\\anaconda3\\envs\\robot\\lib\\site-packages (from gitdb<5,>=4.0.1->gitpython>=3.1.30->-r requirements.txt (line 5)) (5.0.2)\n",
      "Requirement already satisfied: contourpy>=1.0.1 in c:\\users\\kccistc\\anaconda3\\envs\\robot\\lib\\site-packages (from matplotlib>=3.3->-r requirements.txt (line 6)) (1.3.3)\n",
      "Requirement already satisfied: cycler>=0.10 in c:\\users\\kccistc\\anaconda3\\envs\\robot\\lib\\site-packages (from matplotlib>=3.3->-r requirements.txt (line 6)) (0.12.1)\n",
      "Requirement already satisfied: fonttools>=4.22.0 in c:\\users\\kccistc\\anaconda3\\envs\\robot\\lib\\site-packages (from matplotlib>=3.3->-r requirements.txt (line 6)) (4.59.2)\n",
      "Requirement already satisfied: kiwisolver>=1.3.1 in c:\\users\\kccistc\\anaconda3\\envs\\robot\\lib\\site-packages (from matplotlib>=3.3->-r requirements.txt (line 6)) (1.4.9)\n",
      "Requirement already satisfied: pyparsing>=2.3.1 in c:\\users\\kccistc\\anaconda3\\envs\\robot\\lib\\site-packages (from matplotlib>=3.3->-r requirements.txt (line 6)) (3.2.4)\n",
      "Requirement already satisfied: python-dateutil>=2.7 in c:\\users\\kccistc\\anaconda3\\envs\\robot\\lib\\site-packages (from matplotlib>=3.3->-r requirements.txt (line 6)) (2.9.0.post0)\n",
      "Requirement already satisfied: charset_normalizer<4,>=2 in c:\\users\\kccistc\\anaconda3\\envs\\robot\\lib\\site-packages (from requests>=2.32.2->-r requirements.txt (line 12)) (3.3.2)\n",
      "Requirement already satisfied: idna<4,>=2.5 in c:\\users\\kccistc\\anaconda3\\envs\\robot\\lib\\site-packages (from requests>=2.32.2->-r requirements.txt (line 12)) (3.7)\n",
      "Requirement already satisfied: urllib3<3,>=1.21.1 in c:\\users\\kccistc\\anaconda3\\envs\\robot\\lib\\site-packages (from requests>=2.32.2->-r requirements.txt (line 12)) (2.5.0)\n",
      "Requirement already satisfied: certifi>=2017.4.17 in c:\\users\\kccistc\\anaconda3\\envs\\robot\\lib\\site-packages (from requests>=2.32.2->-r requirements.txt (line 12)) (2025.8.3)\n",
      "Requirement already satisfied: filelock in c:\\users\\kccistc\\anaconda3\\envs\\robot\\lib\\site-packages (from torch>=1.8.0->-r requirements.txt (line 15)) (3.19.1)\n",
      "Requirement already satisfied: typing-extensions>=4.10.0 in c:\\users\\kccistc\\anaconda3\\envs\\robot\\lib\\site-packages (from torch>=1.8.0->-r requirements.txt (line 15)) (4.15.0)\n",
      "Requirement already satisfied: sympy>=1.13.3 in c:\\users\\kccistc\\anaconda3\\envs\\robot\\lib\\site-packages (from torch>=1.8.0->-r requirements.txt (line 15)) (1.14.0)\n",
      "Requirement already satisfied: networkx in c:\\users\\kccistc\\anaconda3\\envs\\robot\\lib\\site-packages (from torch>=1.8.0->-r requirements.txt (line 15)) (3.5)\n",
      "Requirement already satisfied: jinja2 in c:\\users\\kccistc\\anaconda3\\envs\\robot\\lib\\site-packages (from torch>=1.8.0->-r requirements.txt (line 15)) (3.1.6)\n",
      "Requirement already satisfied: fsspec in c:\\users\\kccistc\\anaconda3\\envs\\robot\\lib\\site-packages (from torch>=1.8.0->-r requirements.txt (line 15)) (2025.3.0)\n",
      "Requirement already satisfied: colorama in c:\\users\\kccistc\\anaconda3\\envs\\robot\\lib\\site-packages (from tqdm>=4.66.3->-r requirements.txt (line 17)) (0.4.6)\n",
      "Requirement already satisfied: polars in c:\\users\\kccistc\\anaconda3\\envs\\robot\\lib\\site-packages (from ultralytics>=8.2.64->-r requirements.txt (line 18)) (1.33.1)\n",
      "Requirement already satisfied: ultralytics-thop>=2.0.0 in c:\\users\\kccistc\\anaconda3\\envs\\robot\\lib\\site-packages (from ultralytics>=8.2.64->-r requirements.txt (line 18)) (2.0.17)\n",
      "Requirement already satisfied: pytz>=2020.1 in c:\\users\\kccistc\\anaconda3\\envs\\robot\\lib\\site-packages (from pandas>=1.1.4->-r requirements.txt (line 27)) (2025.2)\n",
      "Requirement already satisfied: tzdata>=2022.7 in c:\\users\\kccistc\\anaconda3\\envs\\robot\\lib\\site-packages (from pandas>=1.1.4->-r requirements.txt (line 27)) (2025.2)\n",
      "Requirement already satisfied: six>=1.5 in c:\\users\\kccistc\\anaconda3\\envs\\robot\\lib\\site-packages (from python-dateutil>=2.7->matplotlib>=3.3->-r requirements.txt (line 6)) (1.17.0)\n",
      "Requirement already satisfied: mpmath<1.4,>=1.1.0 in c:\\users\\kccistc\\anaconda3\\envs\\robot\\lib\\site-packages (from sympy>=1.13.3->torch>=1.8.0->-r requirements.txt (line 15)) (1.3.0)\n",
      "Requirement already satisfied: MarkupSafe>=2.0 in c:\\users\\kccistc\\anaconda3\\envs\\robot\\lib\\site-packages (from jinja2->torch>=1.8.0->-r requirements.txt (line 15)) (3.0.2)\n"
     ]
    }
   ],
   "source": [
    "# yolov5\n",
    "# 관련 라이브러리 버전별 설치\n",
    "!pip install -r requirements.txt"
   ]
  },
  {
   "cell_type": "code",
   "execution_count": 10,
   "id": "f71a1fd5-e272-4b1c-99ac-91b5a29bd974",
   "metadata": {},
   "outputs": [
    {
     "name": "stderr",
     "output_type": "stream",
     "text": [
      "YOLOv5  v7.0-430-g459d8bf0 Python-3.12.11 torch-2.8.0+cpu CPU\n"
     ]
    },
    {
     "name": "stdout",
     "output_type": "stream",
     "text": [
      "Setup complete  (8 CPUs, 31.9 GB RAM, 94.9/222.7 GB disk)\n"
     ]
    },
    {
     "data": {
      "text/plain": [
       "<module 'IPython.display' from 'C:\\\\Users\\\\KCCISTC\\\\anaconda3\\\\envs\\\\robot\\\\Lib\\\\site-packages\\\\IPython\\\\display.py'>"
      ]
     },
     "execution_count": 10,
     "metadata": {},
     "output_type": "execute_result"
    }
   ],
   "source": [
    "# 분류 학습\n",
    "# Pytorch 버전 확인 및 Yolov5 환경 초기화\n",
    "import torch\n",
    "import utils\n",
    "utils.notebook_init()"
   ]
  },
  {
   "cell_type": "code",
   "execution_count": 11,
   "id": "e955f7cf-7599-436c-b82b-8679bb6be604",
   "metadata": {},
   "outputs": [
    {
     "data": {
      "text/plain": [
       "'C:\\\\Users\\\\KCCISTC\\\\Desktop\\\\workspace\\\\yolov5'"
      ]
     },
     "execution_count": 11,
     "metadata": {},
     "output_type": "execute_result"
    }
   ],
   "source": [
    "%pwd # yolov5 폴더라면 다음 아래 진행"
   ]
  },
  {
   "cell_type": "code",
   "execution_count": null,
   "id": "1ca17f95-e0ff-4404-9012-1622be88d852",
   "metadata": {},
   "outputs": [],
   "source": [
    "!pip install -r requirement.txt comet_ml"
   ]
  },
  {
   "cell_type": "code",
   "execution_count": 12,
   "id": "bbb2e09c-76c0-429b-b19f-b0fbc34f9ed1",
   "metadata": {},
   "outputs": [
    {
     "name": "stdout",
     "output_type": "stream",
     "text": [
      "\u001b[34m\u001b[1mgithub: \u001b[0mskipping check (offline), for updates see https://github.com/ultralytics/yolov5\n"
     ]
    },
    {
     "name": "stderr",
     "output_type": "stream",
     "text": [
      "C:\\Users\\KCCISTC\\anaconda3\\envs\\robot\\Lib\\site-packages\\requests\\__init__.py:86: RequestsDependencyWarning: Unable to find acceptable character detection dependency (chardet or charset_normalizer).\n",
      "  warnings.warn(\n",
      "\u001b[34m\u001b[1mclassify\\train: \u001b[0mmodel=yolov5s.pt, data=../rps/, epochs=5, batch_size=64, imgsz=224, nosave=False, cache=None, device=, workers=8, project=runs\\train-cls, name=exp, exist_ok=False, pretrained=True, optimizer=Adam, lr0=0.001, decay=5e-05, label_smoothing=0.1, cutoff=None, dropout=None, verbose=False, seed=0, local_rank=-1\n",
      "YOLOv5  v7.0-430-g459d8bf0 Python-3.12.11 torch-2.8.0+cpu CPU\n",
      "\n",
      "\u001b[34m\u001b[1mTensorBoard: \u001b[0mStart with 'tensorboard --logdir runs\\train-cls', view at http://localhost:6006/\n",
      "\u001b[34m\u001b[1malbumentations: \u001b[0m not found, install with `pip install albumentations` (recommended)\n",
      "C:\\Users\\KCCISTC\\anaconda3\\envs\\robot\\Lib\\site-packages\\requests\\__init__.py:86: RequestsDependencyWarning: Unable to find acceptable character detection dependency (chardet or charset_normalizer).\n",
      "  warnings.warn(\n",
      "C:\\Users\\KCCISTC\\anaconda3\\envs\\robot\\Lib\\site-packages\\requests\\__init__.py:86: RequestsDependencyWarning: Unable to find acceptable character detection dependency (chardet or charset_normalizer).\n",
      "  warnings.warn(\n",
      "C:\\Users\\KCCISTC\\anaconda3\\envs\\robot\\Lib\\site-packages\\requests\\__init__.py:86: RequestsDependencyWarning: Unable to find acceptable character detection dependency (chardet or charset_normalizer).\n",
      "  warnings.warn(\n",
      "C:\\Users\\KCCISTC\\anaconda3\\envs\\robot\\Lib\\site-packages\\requests\\__init__.py:86: RequestsDependencyWarning: Unable to find acceptable character detection dependency (chardet or charset_normalizer).\n",
      "  warnings.warn(\n",
      "C:\\Users\\KCCISTC\\anaconda3\\envs\\robot\\Lib\\site-packages\\requests\\__init__.py:86: RequestsDependencyWarning: Unable to find acceptable character detection dependency (chardet or charset_normalizer).\n",
      "  warnings.warn(\n",
      "C:\\Users\\KCCISTC\\anaconda3\\envs\\robot\\Lib\\site-packages\\requests\\__init__.py:86: RequestsDependencyWarning: Unable to find acceptable character detection dependency (chardet or charset_normalizer).\n",
      "  warnings.warn(\n",
      "C:\\Users\\KCCISTC\\anaconda3\\envs\\robot\\Lib\\site-packages\\requests\\__init__.py:86: RequestsDependencyWarning: Unable to find acceptable character detection dependency (chardet or charset_normalizer).\n",
      "  warnings.warn(\n",
      "WARNING  pass YOLOv5 classifier model with '-cls' suffix, i.e. '--model yolov5s-cls.pt'\n",
      "Model summary: 149 layers, 4176323 parameters, 4176323 gradients, 10.5 GFLOPs\n",
      "C:\\Users\\KCCISTC\\anaconda3\\envs\\robot\\Lib\\site-packages\\requests\\__init__.py:86: RequestsDependencyWarning: Unable to find acceptable character detection dependency (chardet or charset_normalizer).\n",
      "  warnings.warn(\n",
      "C:\\Users\\KCCISTC\\anaconda3\\envs\\robot\\Lib\\site-packages\\requests\\__init__.py:86: RequestsDependencyWarning: Unable to find acceptable character detection dependency (chardet or charset_normalizer).\n",
      "  warnings.warn(\n",
      "C:\\Users\\KCCISTC\\anaconda3\\envs\\robot\\Lib\\site-packages\\requests\\__init__.py:86: RequestsDependencyWarning: Unable to find acceptable character detection dependency (chardet or charset_normalizer).\n",
      "  warnings.warn(\n",
      "C:\\Users\\KCCISTC\\anaconda3\\envs\\robot\\Lib\\site-packages\\requests\\__init__.py:86: RequestsDependencyWarning: Unable to find acceptable character detection dependency (chardet or charset_normalizer).\n",
      "  warnings.warn(\n",
      "C:\\Users\\KCCISTC\\anaconda3\\envs\\robot\\Lib\\site-packages\\requests\\__init__.py:86: RequestsDependencyWarning: Unable to find acceptable character detection dependency (chardet or charset_normalizer).\n",
      "  warnings.warn(\n",
      "C:\\Users\\KCCISTC\\anaconda3\\envs\\robot\\Lib\\site-packages\\requests\\__init__.py:86: RequestsDependencyWarning: Unable to find acceptable character detection dependency (chardet or charset_normalizer).\n",
      "  warnings.warn(\n",
      "C:\\Users\\KCCISTC\\anaconda3\\envs\\robot\\Lib\\site-packages\\requests\\__init__.py:86: RequestsDependencyWarning: Unable to find acceptable character detection dependency (chardet or charset_normalizer).\n",
      "  warnings.warn(\n",
      "\u001b[34m\u001b[1moptimizer:\u001b[0m Adam(lr=0.001) with parameter groups 32 weight(decay=0.0), 33 weight(decay=5e-05), 33 bias\n",
      "C:\\Users\\KCCISTC\\Desktop\\workspace\\yolov5\\classify\\train.py:201: FutureWarning: `torch.cuda.amp.GradScaler(args...)` is deprecated. Please use `torch.amp.GradScaler('cuda', args...)` instead.\n",
      "  scaler = amp.GradScaler(enabled=cuda)\n",
      "Image sizes 224 train, 224 test\n",
      "Using 7 dataloader workers\n",
      "Logging results to \u001b[1mruns\\train-cls\\exp\u001b[0m\n",
      "Starting yolov5s.pt training on ..\\rps dataset with 3 classes for 5 epochs...\n",
      "\n",
      "     Epoch   GPU_mem  train_loss   test_loss    top1_acc    top5_acc\n",
      "\n",
      "  0%|          | 0/40 [00:00<?, ?it/s]C:\\Users\\KCCISTC\\Desktop\\workspace\\yolov5\\classify\\train.py:222: FutureWarning: `torch.cuda.amp.autocast(args...)` is deprecated. Please use `torch.amp.autocast('cuda', args...)` instead.\n",
      "  with amp.autocast(enabled=cuda):  # stability issues when enabled\n",
      "\n",
      "       1/5        0G        1.09                                    :   2%|2         | 1/40 [00:02<01:22,  2.11s/it]\n",
      "       1/5        0G       0.954                                    :   5%|5         | 2/40 [00:04<01:18,  2.08s/it]\n",
      "       1/5        0G        0.78                                    :   8%|7         | 3/40 [00:06<01:17,  2.10s/it]\n",
      "       1/5        0G       0.683                                    :  10%|#         | 4/40 [00:08<01:13,  2.05s/it]\n",
      "       1/5        0G       0.616                                    :  12%|#2        | 5/40 [00:10<01:10,  2.02s/it]\n",
      "       1/5        0G       0.572                                    :  15%|#5        | 6/40 [00:12<01:07,  2.00s/it]\n",
      "       1/5        0G       0.538                                    :  18%|#7        | 7/40 [00:14<01:04,  1.95s/it]\n",
      "       1/5        0G       0.513                                    :  20%|##        | 8/40 [00:15<01:01,  1.93s/it]\n",
      "       1/5        0G       0.492                                    :  22%|##2       | 9/40 [00:17<00:59,  1.92s/it]\n",
      "       1/5        0G       0.476                                    :  25%|##5       | 10/40 [00:19<00:57,  1.92s/it]\n",
      "       1/5        0G       0.461                                    :  28%|##7       | 11/40 [00:21<00:56,  1.93s/it]\n",
      "       1/5        0G       0.449                                    :  30%|###       | 12/40 [00:23<00:53,  1.92s/it]\n",
      "       1/5        0G       0.439                                    :  32%|###2      | 13/40 [00:25<00:51,  1.92s/it]\n",
      "       1/5        0G       0.429                                    :  35%|###5      | 14/40 [00:27<00:49,  1.90s/it]\n",
      "       1/5        0G       0.422                                    :  38%|###7      | 15/40 [00:29<00:47,  1.89s/it]\n",
      "       1/5        0G       0.415                                    :  40%|####      | 16/40 [00:31<00:45,  1.89s/it]\n",
      "       1/5        0G       0.409                                    :  42%|####2     | 17/40 [00:33<00:43,  1.89s/it]\n",
      "       1/5        0G       0.404                                    :  45%|####5     | 18/40 [00:35<00:42,  1.92s/it]\n",
      "       1/5        0G       0.399                                    :  48%|####7     | 19/40 [00:37<00:40,  1.95s/it]\n",
      "       1/5        0G       0.395                                    :  50%|#####     | 20/40 [00:39<00:39,  1.99s/it]\n",
      "       1/5        0G       0.391                                    :  52%|#####2    | 21/40 [00:41<00:39,  2.06s/it]\n",
      "       1/5        0G       0.388                                    :  55%|#####5    | 22/40 [00:42<00:34,  1.94s/it]\n",
      "       1/5        0G       0.384                                    :  57%|#####7    | 23/40 [00:44<00:32,  1.93s/it]\n",
      "       1/5        0G       0.381                                    :  60%|######    | 24/40 [00:46<00:29,  1.87s/it]\n",
      "       1/5        0G       0.378                                    :  62%|######2   | 25/40 [00:48<00:26,  1.80s/it]\n",
      "       1/5        0G       0.375                                    :  65%|######5   | 26/40 [00:49<00:24,  1.73s/it]\n",
      "       1/5        0G       0.373                                    :  68%|######7   | 27/40 [00:51<00:22,  1.71s/it]\n",
      "       1/5        0G        0.37                                    :  70%|#######   | 28/40 [00:53<00:20,  1.68s/it]\n",
      "       1/5        0G       0.368                                    :  72%|#######2  | 29/40 [00:54<00:18,  1.66s/it]\n",
      "       1/5        0G       0.366                                    :  75%|#######5  | 30/40 [00:56<00:16,  1.64s/it]\n",
      "       1/5        0G       0.364                                    :  78%|#######7  | 31/40 [00:57<00:14,  1.63s/it]\n",
      "       1/5        0G       0.362                                    :  80%|########  | 32/40 [00:59<00:12,  1.60s/it]\n",
      "       1/5        0G        0.36                                    :  82%|########2 | 33/40 [01:00<00:11,  1.59s/it]\n",
      "       1/5        0G       0.358                                    :  85%|########5 | 34/40 [01:02<00:09,  1.56s/it]\n",
      "       1/5        0G       0.357                                    :  88%|########7 | 35/40 [01:04<00:07,  1.55s/it]\n",
      "       1/5        0G       0.355                                    :  90%|######### | 36/40 [01:05<00:06,  1.56s/it]\n",
      "       1/5        0G       0.354                                    :  92%|#########2| 37/40 [01:07<00:04,  1.58s/it]\n",
      "       1/5        0G       0.353                                    :  95%|#########5| 38/40 [01:08<00:03,  1.57s/it]\n",
      "       1/5        0G       0.351                                    :  98%|#########7| 39/40 [01:09<00:01,  1.33s/it]\n",
      "       1/5        0G        0.35                             testing:   0%|          | 0/1 [00:00<?, ?it/s]C:\\Users\\KCCISTC\\Desktop\\workspace\\yolov5\\classify\\val.py:111: FutureWarning: `torch.cuda.amp.autocast(args...)` is deprecated. Please use `torch.amp.autocast('cuda', args...)` instead.\n",
      "  with torch.cuda.amp.autocast(enabled=device.type != \"cpu\"):\n",
      "\n",
      "       1/5        0G        0.35                             testing: 100%|##########| 1/1 [00:00<00:00,  3.73it/s]\n",
      "                                                                                                                   \n",
      "\n",
      "       1/5        0G        0.35       0.584        0.97           1: 100%|##########| 40/40 [01:11<00:00,  1.51s/it]\n",
      "       1/5        0G        0.35       0.584        0.97           1: 100%|##########| 40/40 [01:11<00:00,  1.79s/it]\n",
      "\n",
      "  0%|          | 0/40 [00:00<?, ?it/s]\n",
      "       2/5        0G       0.307                                    :   2%|2         | 1/40 [00:01<01:04,  1.65s/it]\n",
      "       2/5        0G       0.303                                    :   5%|5         | 2/40 [00:03<01:02,  1.65s/it]\n",
      "       2/5        0G       0.301                                    :   8%|7         | 3/40 [00:04<01:01,  1.65s/it]\n",
      "       2/5        0G         0.3                                    :  10%|#         | 4/40 [00:06<00:59,  1.66s/it]\n",
      "       2/5        0G       0.301                                    :  12%|#2        | 5/40 [00:08<00:57,  1.64s/it]\n",
      "       2/5        0G         0.3                                    :  15%|#5        | 6/40 [00:09<00:55,  1.62s/it]\n",
      "       2/5        0G       0.299                                    :  18%|#7        | 7/40 [00:11<00:53,  1.61s/it]\n",
      "       2/5        0G         0.3                                    :  20%|##        | 8/40 [00:12<00:51,  1.60s/it]\n",
      "       2/5        0G       0.299                                    :  22%|##2       | 9/40 [00:14<00:49,  1.59s/it]\n",
      "       2/5        0G       0.299                                    :  25%|##5       | 10/40 [00:16<00:47,  1.59s/it]\n",
      "       2/5        0G       0.298                                    :  28%|##7       | 11/40 [00:17<00:45,  1.59s/it]\n",
      "       2/5        0G       0.299                                    :  30%|###       | 12/40 [00:19<00:43,  1.56s/it]\n",
      "       2/5        0G       0.299                                    :  32%|###2      | 13/40 [00:20<00:41,  1.55s/it]\n",
      "       2/5        0G       0.299                                    :  35%|###5      | 14/40 [00:22<00:40,  1.54s/it]\n",
      "       2/5        0G       0.299                                    :  38%|###7      | 15/40 [00:23<00:38,  1.54s/it]\n",
      "       2/5        0G       0.299                                    :  40%|####      | 16/40 [00:25<00:36,  1.53s/it]\n",
      "       2/5        0G       0.298                                    :  42%|####2     | 17/40 [00:26<00:35,  1.54s/it]\n",
      "       2/5        0G       0.298                                    :  45%|####5     | 18/40 [00:28<00:34,  1.55s/it]\n",
      "       2/5        0G       0.298                                    :  48%|####7     | 19/40 [00:29<00:32,  1.54s/it]\n",
      "       2/5        0G       0.299                                    :  50%|#####     | 20/40 [00:31<00:30,  1.53s/it]\n",
      "       2/5        0G       0.299                                    :  52%|#####2    | 21/40 [00:33<00:29,  1.53s/it]\n",
      "       2/5        0G       0.299                                    :  55%|#####5    | 22/40 [00:34<00:27,  1.52s/it]\n",
      "       2/5        0G       0.299                                    :  57%|#####7    | 23/40 [00:36<00:25,  1.52s/it]\n",
      "       2/5        0G       0.299                                    :  60%|######    | 24/40 [00:37<00:24,  1.54s/it]\n",
      "       2/5        0G       0.299                                    :  62%|######2   | 25/40 [00:39<00:22,  1.53s/it]\n",
      "       2/5        0G       0.299                                    :  65%|######5   | 26/40 [00:40<00:21,  1.53s/it]\n",
      "       2/5        0G       0.299                                    :  68%|######7   | 27/40 [00:42<00:20,  1.54s/it]\n",
      "       2/5        0G       0.299                                    :  70%|#######   | 28/40 [00:43<00:18,  1.53s/it]\n",
      "       2/5        0G       0.299                                    :  72%|#######2  | 29/40 [00:45<00:17,  1.57s/it]\n",
      "       2/5        0G       0.299                                    :  75%|#######5  | 30/40 [00:47<00:15,  1.59s/it]\n",
      "       2/5        0G       0.299                                    :  78%|#######7  | 31/40 [00:48<00:14,  1.59s/it]\n",
      "       2/5        0G       0.299                                    :  80%|########  | 32/40 [00:50<00:12,  1.58s/it]\n",
      "       2/5        0G       0.298                                    :  82%|########2 | 33/40 [00:51<00:10,  1.56s/it]\n",
      "       2/5        0G       0.298                                    :  85%|########5 | 34/40 [00:53<00:09,  1.54s/it]\n",
      "       2/5        0G       0.298                                    :  88%|########7 | 35/40 [00:54<00:07,  1.54s/it]\n",
      "       2/5        0G       0.298                                    :  90%|######### | 36/40 [00:56<00:06,  1.55s/it]\n",
      "       2/5        0G       0.298                                    :  92%|#########2| 37/40 [00:57<00:04,  1.57s/it]\n",
      "       2/5        0G       0.298                                    :  95%|#########5| 38/40 [00:59<00:03,  1.55s/it]\n",
      "       2/5        0G       0.298                                    :  98%|#########7| 39/40 [01:00<00:01,  1.27s/it]\n",
      "       2/5        0G       0.298                             testing:   0%|          | 0/1 [00:00<?, ?it/s]\n",
      "       2/5        0G       0.298                             testing: 100%|##########| 1/1 [00:00<00:00,  4.51it/s]\n",
      "                                                                                                                   \n",
      "\n",
      "       2/5        0G       0.298       0.321           1           1: 100%|##########| 40/40 [01:01<00:00,  1.43s/it]\n",
      "       2/5        0G       0.298       0.321           1           1: 100%|##########| 40/40 [01:01<00:00,  1.55s/it]\n",
      "\n",
      "  0%|          | 0/40 [00:00<?, ?it/s]\n",
      "       3/5        0G       0.309                                    :   2%|2         | 1/40 [00:01<00:59,  1.53s/it]\n",
      "       3/5        0G       0.302                                    :   5%|5         | 2/40 [00:03<00:58,  1.54s/it]\n",
      "       3/5        0G       0.301                                    :   8%|7         | 3/40 [00:04<00:57,  1.56s/it]\n",
      "       3/5        0G       0.299                                    :  10%|#         | 4/40 [00:06<00:56,  1.56s/it]\n",
      "       3/5        0G         0.3                                    :  12%|#2        | 5/40 [00:07<00:54,  1.55s/it]\n",
      "       3/5        0G       0.299                                    :  15%|#5        | 6/40 [00:09<00:52,  1.54s/it]\n",
      "       3/5        0G       0.298                                    :  18%|#7        | 7/40 [00:10<00:50,  1.53s/it]\n",
      "       3/5        0G       0.298                                    :  20%|##        | 8/40 [00:12<00:48,  1.53s/it]\n",
      "       3/5        0G       0.298                                    :  22%|##2       | 9/40 [00:13<00:48,  1.55s/it]\n",
      "       3/5        0G       0.297                                    :  25%|##5       | 10/40 [00:15<00:46,  1.55s/it]\n",
      "       3/5        0G       0.297                                    :  28%|##7       | 11/40 [00:16<00:44,  1.54s/it]\n",
      "       3/5        0G       0.297                                    :  30%|###       | 12/40 [00:18<00:42,  1.53s/it]\n",
      "       3/5        0G       0.297                                    :  32%|###2      | 13/40 [00:20<00:41,  1.54s/it]\n",
      "       3/5        0G       0.298                                    :  35%|###5      | 14/40 [00:21<00:39,  1.53s/it]\n",
      "       3/5        0G       0.298                                    :  38%|###7      | 15/40 [00:23<00:38,  1.54s/it]\n",
      "       3/5        0G       0.297                                    :  40%|####      | 16/40 [00:24<00:37,  1.56s/it]\n",
      "       3/5        0G       0.297                                    :  42%|####2     | 17/40 [00:26<00:35,  1.55s/it]\n",
      "       3/5        0G       0.297                                    :  45%|####5     | 18/40 [00:27<00:34,  1.56s/it]\n",
      "       3/5        0G       0.297                                    :  48%|####7     | 19/40 [00:29<00:32,  1.54s/it]\n",
      "       3/5        0G       0.297                                    :  50%|#####     | 20/40 [00:30<00:30,  1.54s/it]\n",
      "       3/5        0G       0.297                                    :  52%|#####2    | 21/40 [00:32<00:29,  1.54s/it]\n",
      "       3/5        0G       0.297                                    :  55%|#####5    | 22/40 [00:33<00:27,  1.54s/it]\n",
      "       3/5        0G       0.297                                    :  57%|#####7    | 23/40 [00:35<00:26,  1.55s/it]\n",
      "       3/5        0G       0.297                                    :  60%|######    | 24/40 [00:37<00:24,  1.54s/it]\n",
      "       3/5        0G       0.297                                    :  62%|######2   | 25/40 [00:38<00:23,  1.54s/it]\n",
      "       3/5        0G       0.297                                    :  65%|######5   | 26/40 [00:40<00:21,  1.54s/it]\n",
      "       3/5        0G       0.297                                    :  68%|######7   | 27/40 [00:41<00:20,  1.55s/it]\n",
      "       3/5        0G       0.297                                    :  70%|#######   | 28/40 [00:43<00:18,  1.56s/it]\n",
      "       3/5        0G       0.297                                    :  72%|#######2  | 29/40 [00:44<00:17,  1.57s/it]\n",
      "       3/5        0G       0.297                                    :  75%|#######5  | 30/40 [00:46<00:15,  1.58s/it]\n",
      "       3/5        0G       0.297                                    :  78%|#######7  | 31/40 [00:47<00:14,  1.56s/it]\n",
      "       3/5        0G       0.297                                    :  80%|########  | 32/40 [00:49<00:12,  1.54s/it]\n",
      "       3/5        0G       0.297                                    :  82%|########2 | 33/40 [00:51<00:10,  1.54s/it]\n",
      "       3/5        0G       0.297                                    :  85%|########5 | 34/40 [00:52<00:09,  1.54s/it]\n",
      "       3/5        0G       0.297                                    :  88%|########7 | 35/40 [00:54<00:07,  1.55s/it]\n",
      "       3/5        0G       0.297                                    :  90%|######### | 36/40 [00:55<00:06,  1.58s/it]\n",
      "       3/5        0G       0.297                                    :  92%|#########2| 37/40 [00:57<00:04,  1.60s/it]\n",
      "       3/5        0G       0.297                                    :  95%|#########5| 38/40 [00:58<00:03,  1.58s/it]\n",
      "       3/5        0G       0.297                                    :  98%|#########7| 39/40 [00:59<00:01,  1.28s/it]\n",
      "       3/5        0G       0.297                             testing:   0%|          | 0/1 [00:00<?, ?it/s]\n",
      "       3/5        0G       0.297                             testing: 100%|##########| 1/1 [00:00<00:00,  4.49it/s]\n",
      "                                                                                                                   \n",
      "\n",
      "       3/5        0G       0.297       0.305           1           1: 100%|##########| 40/40 [01:01<00:00,  1.44s/it]\n",
      "       3/5        0G       0.297       0.305           1           1: 100%|##########| 40/40 [01:01<00:00,  1.53s/it]\n",
      "\n",
      "  0%|          | 0/40 [00:00<?, ?it/s]\n",
      "       4/5        0G       0.294                                    :   2%|2         | 1/40 [00:01<01:00,  1.56s/it]\n",
      "       4/5        0G       0.294                                    :   5%|5         | 2/40 [00:03<00:59,  1.56s/it]\n",
      "       4/5        0G       0.294                                    :   8%|7         | 3/40 [00:04<00:57,  1.56s/it]\n",
      "       4/5        0G       0.295                                    :  10%|#         | 4/40 [00:06<00:55,  1.55s/it]\n",
      "       4/5        0G       0.296                                    :  12%|#2        | 5/40 [00:07<00:54,  1.54s/it]\n",
      "       4/5        0G       0.296                                    :  15%|#5        | 6/40 [00:09<00:52,  1.53s/it]\n",
      "       4/5        0G       0.296                                    :  18%|#7        | 7/40 [00:10<00:50,  1.54s/it]\n",
      "       4/5        0G         0.3                                    :  20%|##        | 8/40 [00:12<00:49,  1.55s/it]\n",
      "       4/5        0G         0.3                                    :  22%|##2       | 9/40 [00:13<00:48,  1.56s/it]\n",
      "       4/5        0G       0.299                                    :  25%|##5       | 10/40 [00:15<00:46,  1.54s/it]\n",
      "       4/5        0G       0.299                                    :  28%|##7       | 11/40 [00:17<00:44,  1.54s/it]\n",
      "       4/5        0G       0.299                                    :  30%|###       | 12/40 [00:18<00:43,  1.54s/it]\n",
      "       4/5        0G       0.299                                    :  32%|###2      | 13/40 [00:20<00:41,  1.53s/it]\n",
      "       4/5        0G       0.299                                    :  35%|###5      | 14/40 [00:21<00:39,  1.53s/it]\n",
      "       4/5        0G       0.299                                    :  38%|###7      | 15/40 [00:23<00:38,  1.54s/it]\n",
      "       4/5        0G       0.299                                    :  40%|####      | 16/40 [00:24<00:37,  1.55s/it]\n",
      "       4/5        0G       0.299                                    :  42%|####2     | 17/40 [00:26<00:36,  1.57s/it]\n",
      "       4/5        0G       0.299                                    :  45%|####5     | 18/40 [00:27<00:34,  1.57s/it]\n",
      "       4/5        0G       0.299                                    :  48%|####7     | 19/40 [00:29<00:33,  1.61s/it]\n",
      "       4/5        0G       0.299                                    :  50%|#####     | 20/40 [00:31<00:32,  1.61s/it]\n",
      "       4/5        0G       0.298                                    :  52%|#####2    | 21/40 [00:33<00:32,  1.69s/it]\n",
      "       4/5        0G       0.298                                    :  55%|#####5    | 22/40 [00:34<00:30,  1.71s/it]\n",
      "       4/5        0G       0.298                                    :  57%|#####7    | 23/40 [00:36<00:29,  1.74s/it]\n",
      "       4/5        0G       0.298                                    :  60%|######    | 24/40 [00:38<00:29,  1.83s/it]\n",
      "       4/5        0G       0.298                                    :  62%|######2   | 25/40 [00:40<00:26,  1.80s/it]\n",
      "       4/5        0G       0.298                                    :  65%|######5   | 26/40 [00:42<00:24,  1.73s/it]\n",
      "       4/5        0G       0.298                                    :  68%|######7   | 27/40 [00:43<00:21,  1.67s/it]\n",
      "       4/5        0G       0.298                                    :  70%|#######   | 28/40 [00:45<00:19,  1.65s/it]\n",
      "       4/5        0G       0.298                                    :  72%|#######2  | 29/40 [00:46<00:17,  1.62s/it]\n",
      "       4/5        0G       0.298                                    :  75%|#######5  | 30/40 [00:48<00:15,  1.59s/it]\n",
      "       4/5        0G       0.298                                    :  78%|#######7  | 31/40 [00:49<00:14,  1.61s/it]\n",
      "       4/5        0G       0.298                                    :  80%|########  | 32/40 [00:51<00:13,  1.68s/it]\n",
      "       4/5        0G       0.298                                    :  82%|########2 | 33/40 [00:53<00:11,  1.67s/it]\n",
      "       4/5        0G       0.298                                    :  85%|########5 | 34/40 [00:55<00:09,  1.66s/it]\n",
      "       4/5        0G       0.298                                    :  88%|########7 | 35/40 [00:56<00:08,  1.63s/it]\n",
      "       4/5        0G       0.298                                    :  90%|######### | 36/40 [00:58<00:06,  1.60s/it]\n",
      "       4/5        0G       0.298                                    :  92%|#########2| 37/40 [00:59<00:04,  1.58s/it]\n",
      "       4/5        0G       0.298                                    :  95%|#########5| 38/40 [01:01<00:03,  1.57s/it]\n",
      "       4/5        0G       0.298                                    :  98%|#########7| 39/40 [01:01<00:01,  1.28s/it]\n",
      "       4/5        0G       0.298                             testing:   0%|          | 0/1 [00:00<?, ?it/s]\n",
      "       4/5        0G       0.298                             testing: 100%|##########| 1/1 [00:00<00:00,  4.06it/s]\n",
      "                                                                                                                   \n",
      "\n",
      "       4/5        0G       0.298       0.303           1           1: 100%|##########| 40/40 [01:03<00:00,  1.48s/it]\n",
      "       4/5        0G       0.298       0.303           1           1: 100%|##########| 40/40 [01:03<00:00,  1.59s/it]\n",
      "\n",
      "  0%|          | 0/40 [00:00<?, ?it/s]\n",
      "       5/5        0G       0.301                                    :   2%|2         | 1/40 [00:01<01:02,  1.60s/it]\n",
      "       5/5        0G         0.3                                    :   5%|5         | 2/40 [00:03<01:01,  1.62s/it]\n",
      "       5/5        0G         0.3                                    :   8%|7         | 3/40 [00:04<00:58,  1.58s/it]\n",
      "       5/5        0G       0.298                                    :  10%|#         | 4/40 [00:06<00:56,  1.56s/it]\n",
      "       5/5        0G       0.298                                    :  12%|#2        | 5/40 [00:07<00:54,  1.56s/it]\n",
      "       5/5        0G       0.297                                    :  15%|#5        | 6/40 [00:09<00:53,  1.57s/it]\n",
      "       5/5        0G       0.296                                    :  18%|#7        | 7/40 [00:10<00:51,  1.56s/it]\n",
      "       5/5        0G       0.296                                    :  20%|##        | 8/40 [00:12<00:49,  1.54s/it]\n",
      "       5/5        0G       0.296                                    :  22%|##2       | 9/40 [00:13<00:47,  1.53s/it]\n",
      "       5/5        0G       0.295                                    :  25%|##5       | 10/40 [00:15<00:45,  1.51s/it]\n",
      "       5/5        0G       0.295                                    :  28%|##7       | 11/40 [00:16<00:43,  1.51s/it]\n",
      "       5/5        0G       0.295                                    :  30%|###       | 12/40 [00:18<00:43,  1.54s/it]\n",
      "       5/5        0G       0.295                                    :  32%|###2      | 13/40 [00:20<00:41,  1.54s/it]\n",
      "       5/5        0G       0.295                                    :  35%|###5      | 14/40 [00:21<00:41,  1.60s/it]\n",
      "       5/5        0G       0.295                                    :  38%|###7      | 15/40 [00:23<00:39,  1.59s/it]\n",
      "       5/5        0G       0.295                                    :  40%|####      | 16/40 [00:24<00:37,  1.58s/it]\n",
      "       5/5        0G       0.294                                    :  42%|####2     | 17/40 [00:26<00:39,  1.70s/it]\n",
      "       5/5        0G       0.295                                    :  45%|####5     | 18/40 [00:28<00:37,  1.69s/it]\n",
      "       5/5        0G       0.295                                    :  48%|####7     | 19/40 [00:30<00:34,  1.66s/it]\n",
      "       5/5        0G       0.295                                    :  50%|#####     | 20/40 [00:31<00:32,  1.63s/it]\n",
      "       5/5        0G       0.295                                    :  52%|#####2    | 21/40 [00:33<00:31,  1.66s/it]\n",
      "       5/5        0G       0.295                                    :  55%|#####5    | 22/40 [00:35<00:30,  1.67s/it]\n",
      "       5/5        0G       0.294                                    :  57%|#####7    | 23/40 [00:36<00:28,  1.70s/it]\n",
      "       5/5        0G       0.294                                    :  60%|######    | 24/40 [00:38<00:27,  1.74s/it]\n",
      "       5/5        0G       0.294                                    :  62%|######2   | 25/40 [00:40<00:25,  1.72s/it]\n",
      "       5/5        0G       0.294                                    :  65%|######5   | 26/40 [00:42<00:23,  1.68s/it]\n",
      "       5/5        0G       0.294                                    :  68%|######7   | 27/40 [00:43<00:21,  1.67s/it]\n",
      "       5/5        0G       0.294                                    :  70%|#######   | 28/40 [00:45<00:20,  1.67s/it]\n",
      "       5/5        0G       0.294                                    :  72%|#######2  | 29/40 [00:46<00:18,  1.64s/it]\n",
      "       5/5        0G       0.294                                    :  75%|#######5  | 30/40 [00:48<00:16,  1.65s/it]\n",
      "       5/5        0G       0.294                                    :  78%|#######7  | 31/40 [00:50<00:14,  1.65s/it]\n",
      "       5/5        0G       0.294                                    :  80%|########  | 32/40 [00:51<00:13,  1.65s/it]\n",
      "       5/5        0G       0.294                                    :  82%|########2 | 33/40 [00:53<00:11,  1.66s/it]\n",
      "       5/5        0G       0.294                                    :  85%|########5 | 34/40 [00:55<00:10,  1.68s/it]\n",
      "       5/5        0G       0.294                                    :  88%|########7 | 35/40 [00:56<00:08,  1.65s/it]\n",
      "       5/5        0G       0.294                                    :  90%|######### | 36/40 [00:58<00:06,  1.65s/it]\n",
      "       5/5        0G       0.294                                    :  92%|#########2| 37/40 [01:00<00:04,  1.66s/it]\n",
      "       5/5        0G       0.294                                    :  95%|#########5| 38/40 [01:01<00:03,  1.66s/it]\n",
      "       5/5        0G       0.294                                    :  98%|#########7| 39/40 [01:02<00:01,  1.36s/it]\n",
      "       5/5        0G       0.294                             testing:   0%|          | 0/1 [00:00<?, ?it/s]\n",
      "       5/5        0G       0.294                             testing: 100%|##########| 1/1 [00:00<00:00,  3.98it/s]\n",
      "                                                                                                                   \n",
      "\n",
      "       5/5        0G       0.294       0.305           1           1: 100%|##########| 40/40 [01:04<00:00,  1.52s/it]\n",
      "       5/5        0G       0.294       0.305           1           1: 100%|##########| 40/40 [01:04<00:00,  1.61s/it]\n",
      "\n",
      "Training complete (0.090 hours)\n",
      "Results saved to \u001b[1mruns\\train-cls\\exp\u001b[0m\n",
      "Predict:         python classify/predict.py --weights runs\\train-cls\\exp\\weights\\best.pt --source im.jpg\n",
      "Validate:        python classify/val.py --weights runs\\train-cls\\exp\\weights\\best.pt --data ..\\rps\n",
      "Export:          python export.py --weights runs\\train-cls\\exp\\weights\\best.pt --include onnx\n",
      "PyTorch Hub:     model = torch.hub.load('ultralytics/yolov5', 'custom', 'runs\\train-cls\\exp\\weights\\best.pt')\n",
      "Visualize:       https://netron.app\n",
      "\n"
     ]
    }
   ],
   "source": [
    "!python classify/train.py --model yolov5s.pt --data ../rps/ --epochs 5 --img 224 --batch-size 64"
   ]
  },
  {
   "cell_type": "code",
   "execution_count": 5,
   "id": "834b5e39-e35b-4cbe-b5b6-3d4dc30c1623",
   "metadata": {},
   "outputs": [
    {
     "name": "stdout",
     "output_type": "stream",
     "text": [
      "Requirement already satisfied: opencv-python in c:\\users\\kccistc\\anaconda3\\envs\\robot\\lib\\site-packages (4.12.0.88)\n",
      "Requirement already satisfied: numpy<2.3.0,>=2 in c:\\users\\kccistc\\anaconda3\\envs\\robot\\lib\\site-packages (from opencv-python) (2.0.1)\n"
     ]
    }
   ],
   "source": [
    "!pip install opencv-python"
   ]
  },
  {
   "cell_type": "code",
   "execution_count": 2,
   "id": "87fe5742-c4c2-42be-93b9-5acd53bb9713",
   "metadata": {},
   "outputs": [
    {
     "name": "stdout",
     "output_type": "stream",
     "text": [
      "C:\\Users\\KCCISTC\\Desktop\\workspace\\yolov5\n"
     ]
    },
    {
     "name": "stderr",
     "output_type": "stream",
     "text": [
      "C:\\Users\\KCCISTC\\anaconda3\\envs\\robot\\Lib\\site-packages\\IPython\\core\\magics\\osm.py:417: UserWarning: using dhist requires you to install the `pickleshare` library.\n",
      "  self.shell.db['dhist'] = compress_dhist(dhist)[-100:]\n"
     ]
    }
   ],
   "source": [
    "%cd yolov5/"
   ]
  },
  {
   "cell_type": "code",
   "execution_count": 5,
   "id": "b259c61d-beaf-400c-9caa-91cd9aec1a74",
   "metadata": {},
   "outputs": [
    {
     "name": "stdout",
     "output_type": "stream",
     "text": [
      "Collecting opencv-python\n",
      "  Using cached opencv_python-4.12.0.88-cp37-abi3-win_amd64.whl.metadata (19 kB)\n",
      "Requirement already satisfied: numpy<2.3.0,>=2 in c:\\users\\kccistc\\anaconda3\\envs\\robot\\lib\\site-packages (from opencv-python) (2.0.1)\n",
      "Using cached opencv_python-4.12.0.88-cp37-abi3-win_amd64.whl (39.0 MB)\n",
      "Installing collected packages: opencv-python\n",
      "Successfully installed opencv-python-4.12.0.88\n"
     ]
    }
   ],
   "source": [
    "!pip install opencv-python"
   ]
  },
  {
   "cell_type": "code",
   "execution_count": 2,
   "id": "7e468bc0-f54c-4e5d-b293-b7338a768b33",
   "metadata": {},
   "outputs": [
    {
     "name": "stderr",
     "output_type": "stream",
     "text": [
      "python: can't open file 'C:\\\\Users\\\\KCCISTC\\\\Desktop\\\\workspace\\\\classify\\\\predict.py': [Errno 2] No such file or directory\n"
     ]
    }
   ],
   "source": [
    "!python classify/predict.py --weights ../best_50.pt --source 0"
   ]
  }
 ],
 "metadata": {
  "kernelspec": {
   "display_name": "Python 3 (ipykernel)",
   "language": "python",
   "name": "python3"
  },
  "language_info": {
   "codemirror_mode": {
    "name": "ipython",
    "version": 3
   },
   "file_extension": ".py",
   "mimetype": "text/x-python",
   "name": "python",
   "nbconvert_exporter": "python",
   "pygments_lexer": "ipython3",
   "version": "3.9.23"
  }
 },
 "nbformat": 4,
 "nbformat_minor": 5
}
