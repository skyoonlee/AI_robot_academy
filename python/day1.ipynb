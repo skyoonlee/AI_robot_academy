{
 "cells": [
  {
   "cell_type": "markdown",
   "id": "93b2ba4d-3586-45c5-8864-836d2c5a6e80",
   "metadata": {},
   "source": [
    "# 인공지능 프로그래밍"
   ]
  },
  {
   "cell_type": "code",
   "execution_count": null,
   "id": "70e4aec8-217d-4427-a636-758544820974",
   "metadata": {},
   "outputs": [],
   "source": [
    "print(\"Hello World!!\")"
   ]
  },
  {
   "cell_type": "code",
   "execution_count": null,
   "id": "05536c12-d501-4655-b114-0804152262c2",
   "metadata": {},
   "outputs": [],
   "source": [
    "print(num1)\n",
    "# 값이 안 들어 있다 \n",
    "# 할당되어있지 않다!!\n",
    "# 최초 할당이 안되어 있다\n",
    "# 초기화 되어 있지 않다!!\n",
    "# 변수에 값을 안 넣은 상태에서 부르지 말자!!"
   ]
  },
  {
   "cell_type": "code",
   "execution_count": null,
   "id": "ba6919b8-0078-458e-84c3-9cf420208ba2",
   "metadata": {},
   "outputs": [],
   "source": [
    "# 주석(comment)\n",
    "# 클라이언트가 앞에 숫자를 5 대신에 10\n",
    "# 뒷 숫자를 3 대신에 7으로 바꿔라\n",
    "# 10 -> 20\n",
    "# 7 -> 11\n",
    "num1 = 30\n",
    "num2 = 13\n",
    "print(num1 + num2)\n",
    "print(num1 - num2)\n",
    "print(num1 * num2)\n",
    "print(num1 / num2)"
   ]
  },
  {
   "cell_type": "code",
   "execution_count": null,
   "id": "649f6a70-724d-4adc-bac2-deb288549d45",
   "metadata": {},
   "outputs": [],
   "source": [
    "# 자료형(Data Type)\n",
    "print(3) # 정수형\n",
    "print(-3)\n",
    "print(3.141592) # 실수형\n",
    "print(\"Hello\") # 문자열\n",
    "print('Hi') # 문자열\n",
    "print(True) # 논리형\n",
    "print(False) "
   ]
  },
  {
   "cell_type": "code",
   "execution_count": 2,
   "id": "9aae05e6-b3b1-40d1-a315-c1b4a5854e5c",
   "metadata": {},
   "outputs": [
    {
     "name": "stdout",
     "output_type": "stream",
     "text": [
      "10\n"
     ]
    }
   ],
   "source": [
    "num3 = 10\n",
    "print(num3)"
   ]
  },
  {
   "cell_type": "code",
   "execution_count": null,
   "id": "e1378d5d-fa66-4087-b0b4-4cb3a4ed564e",
   "metadata": {},
   "outputs": [],
   "source": [
    "num1 = 2\n",
    "num2 = 4\n",
    "num2 = 20\n",
    "num3 = 3.141592\n",
    "num4 = -1.25\n",
    "num5 = 3.0\n",
    "str1 = \"Hello World!\"\n",
    "str2 = 'Hi Python'\n",
    "bool1 = True\n",
    "bool2 = False\n",
    "print(num1, num2, num3, num4, num5, str1, str2, bool1, bool2)"
   ]
  },
  {
   "cell_type": "code",
   "execution_count": null,
   "id": "002913b2-1a29-492f-a58b-3e4c1ab9568c",
   "metadata": {},
   "outputs": [],
   "source": [
    "# Variable Naming Rules\n",
    "# 1. 영문자, 숫자, underscore( _ )\n",
    "# - 단, 영문자는 대소문자를 다르게 인식한다\n",
    "# 문자를 아스키 값으로 인지!!\n",
    "# A : 65, a : 97, 0 : 48\n",
    "num = 10\n",
    "Num = 20\n",
    "print(num, Num)\n",
    "# 2. 숫자로 시작할 수 없다\n",
    "# - 값으로 인식하기 때문에!!\n",
    "# 1a = 30 (X)\n",
    "# 3. 키워드(예약어)를 사용할 수 없다!\n",
    "# True = 3 (X)\n",
    "# Python에서 사용되는 키워드 목록!!\n",
    "from keyword import kwlist\n",
    "print(kwlist)"
   ]
  },
  {
   "cell_type": "code",
   "execution_count": null,
   "id": "aef137c9-32d0-4a99-a9d5-d2f089edc417",
   "metadata": {},
   "outputs": [],
   "source": [
    "# 필수는 아니지만 권장되는 변수명 규칙!!\n",
    "# 1. 변수의 첫 문자는 소문자로!!\n",
    "# -> 대문자는 클래스 이름!!\n",
    "# 2. 여러 단어를 나열할 경우 표기법을 사용!\n",
    "today_lunch_menu = \"보쌈\" # Snake 표기법\n",
    "todayLunchMenu = \"족발\"   # Camel 표기법"
   ]
  },
  {
   "cell_type": "code",
   "execution_count": 3,
   "id": "2ec92c83-05e3-4150-a018-c1ff801fd3e0",
   "metadata": {
    "scrolled": true
   },
   "outputs": [
    {
     "data": {
      "text/plain": [
       "0.49999999999999994"
      ]
     },
     "execution_count": 3,
     "metadata": {},
     "output_type": "execute_result"
    }
   ],
   "source": [
    "import math\n",
    "math.sin(math.pi * (1 / 6))"
   ]
  },
  {
   "cell_type": "code",
   "execution_count": null,
   "id": "9fbd45ec-27ee-44b4-9442-885d82172dae",
   "metadata": {},
   "outputs": [],
   "source": [
    "import numpy"
   ]
  },
  {
   "cell_type": "code",
   "execution_count": null,
   "id": "ef887428-2f07-443e-99ec-cfc6f87e8c1a",
   "metadata": {},
   "outputs": [],
   "source": [
    "print( 1 + 2 == 3 )\n",
    "print(1.1 + 2.2 == 3.3)\n",
    "# IEEE 754 double "
   ]
  },
  {
   "cell_type": "code",
   "execution_count": null,
   "id": "5c4a5482-652b-403a-a2cf-b553290cc86d",
   "metadata": {},
   "outputs": [],
   "source": []
  },
  {
   "cell_type": "code",
   "execution_count": null,
   "id": "33ccf091-1c9e-4958-aa08-0931a10af310",
   "metadata": {},
   "outputs": [],
   "source": []
  },
  {
   "cell_type": "code",
   "execution_count": null,
   "id": "a6ab7285-c27f-4d87-9660-fdf045f9432d",
   "metadata": {},
   "outputs": [],
   "source": [
    "!pip install numpy"
   ]
  },
  {
   "cell_type": "code",
   "execution_count": null,
   "id": "e45677de-89d7-465b-b0ba-1846cd1cf709",
   "metadata": {},
   "outputs": [],
   "source": [
    "import random\n",
    "random.randint(1, 45)\n",
    "# 6 18 5 33 42 22"
   ]
  },
  {
   "cell_type": "code",
   "execution_count": null,
   "id": "1df1560a-4af1-40d9-95c6-e3c2157cfc90",
   "metadata": {},
   "outputs": [],
   "source": [
    "# 연산자 (operator)\n",
    "# 1. 산술 연산자\n",
    "print(10 + 3)  # 13\n",
    "print(10 - 3)  # 7\n",
    "print(10 * 3)  # 30\n",
    "print(10 / 3)  # 3.33333333\n",
    "print(10 // 3) # 3 (몫 연산자)\n",
    "print(10 % 3)  # 1 (나머지 연산자)\n",
    "print(\"Hello\" + \"World!!\") # 문자열 더하기 가능!\n",
    "print(\"Hi\"*3)\n",
    "\n",
    "# 2. 지수 연산자\n",
    "print(2 ** 10)"
   ]
  },
  {
   "cell_type": "code",
   "execution_count": null,
   "id": "99d1d107-4a58-4fd6-9865-2bdc77f04634",
   "metadata": {},
   "outputs": [],
   "source": []
  },
  {
   "cell_type": "code",
   "execution_count": null,
   "id": "03a741fa-5741-4cf7-acee-c4267468ad80",
   "metadata": {},
   "outputs": [],
   "source": []
  }
 ],
 "metadata": {
  "kernelspec": {
   "display_name": "Python 3 (ipykernel)",
   "language": "python",
   "name": "python3"
  },
  "language_info": {
   "codemirror_mode": {
    "name": "ipython",
    "version": 3
   },
   "file_extension": ".py",
   "mimetype": "text/x-python",
   "name": "python",
   "nbconvert_exporter": "python",
   "pygments_lexer": "ipython3",
   "version": "3.12.11"
  }
 },
 "nbformat": 4,
 "nbformat_minor": 5
}
