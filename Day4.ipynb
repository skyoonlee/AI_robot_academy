{
 "cells": [
  {
   "cell_type": "code",
   "execution_count": 13,
   "id": "6ba7ace7-ed7c-4830-98ce-bec542d67661",
   "metadata": {},
   "outputs": [],
   "source": [
    "# 함수\n",
    "# 반복되는 기능\n",
    "\n",
    "# close10"
   ]
  },
  {
   "cell_type": "code",
   "execution_count": 32,
   "id": "c0e7560d-e6ae-4fbd-9e77-bfc02c997654",
   "metadata": {
    "scrolled": true
   },
   "outputs": [
    {
     "name": "stdout",
     "output_type": "stream",
     "text": [
      "True\n",
      "False\n"
     ]
    }
   ],
   "source": [
    "# 1. is_divisor(num1, num2)\n",
    "# 만약, num2가 num1의 약수라면 True\n",
    "# 약수가 아니라면, False를 반환하는\n",
    "\n",
    "# 함수 정의\n",
    "# 함수 이름에 is -> 반환 값 논리형\n",
    "# 변수 이름에 is -> 논리형 데이터\n",
    "\n",
    "def is_divisor(num1 : int, num2 : int) -> bool:\n",
    "    \"\"\"num2가 num1의 약수인지 판별\"\"\" # docstring (Shift + Tab)\n",
    "    \n",
    "    return num1 % num2 == 0\n",
    "     \n",
    "        \n",
    "print(is_divisor(10,2)) # True\n",
    "print(is_divisor(10, 3)) # False"
   ]
  },
  {
   "cell_type": "code",
   "execution_count": 47,
   "id": "bed5e7cc-1939-4e64-88c3-6dde4c11d1f1",
   "metadata": {},
   "outputs": [
    {
     "name": "stdout",
     "output_type": "stream",
     "text": [
      "10의 약수 : 1 2 5 10 \n",
      "12의 약수 : 1 2 3 4 6 12 \n"
     ]
    }
   ],
   "source": [
    "# 2. 약수를 전부 출력\n",
    "# print_divisors(num)\n",
    "# 만약, num이 10이라면\n",
    "# 10의 약수 : 1 2 5 10\n",
    "# 만약, num이 12라면\n",
    "# 12의 약수 : 1 2 3 4 6 12\n",
    "\n",
    "# 함수\n",
    "\n",
    "def print_divisors(num : int):\n",
    "    \"\"\"약수 구하기\"\"\"\n",
    "    # num이 10이라면?\n",
    "    print(f\"{num}의 약수 : \", end=\"\")\n",
    "    for i in range(1,num + 1):\n",
    "        if num % i == 0:\n",
    "            print(i, end=\" \")\n",
    "    print()\n",
    "    \n",
    "print_divisors(10)\n",
    "print_divisors(12)"
   ]
  },
  {
   "cell_type": "code",
   "execution_count": 109,
   "id": "644b3948-403a-42e8-bc17-c4f7a4a7ac9f",
   "metadata": {},
   "outputs": [
    {
     "data": {
      "text/plain": [
       "28"
      ]
     },
     "execution_count": 109,
     "metadata": {},
     "output_type": "execute_result"
    }
   ],
   "source": [
    "# 3. 약수의 총합!!\n",
    "# get_sum_of_divisors(num)\n",
    "\n",
    "def get_sum_of_divisors(num : int):\n",
    "    \"\"\"약수의 총합\"\"\"\n",
    "    total = 0\n",
    "    for i in range(1, num + 1):\n",
    "        if is_divisor(num,i):\n",
    "            total += i\n",
    "    return total\n",
    "    \n",
    "get_sum_of_divisors(10) # 18 출력!!\n",
    "get_sum_of_divisors(12) # 28 출력!!"
   ]
  },
  {
   "cell_type": "code",
   "execution_count": 110,
   "id": "dbf10ce2-ed40-4544-bd28-8d39e93f319f",
   "metadata": {
    "scrolled": true
   },
   "outputs": [
    {
     "name": "stdout",
     "output_type": "stream",
     "text": [
      "False\n",
      "False\n",
      "True\n"
     ]
    }
   ],
   "source": [
    "# 4. 완전수를 판별하는 함수\n",
    "# is_perfect_number(num)\n",
    "# 만약, num이 완전수라면 -> True\n",
    "# 완전수가 아니라면 -> False\n",
    "\n",
    "# 완전수(perfect number)란?\n",
    "# 자기 자신을 제외한 양의 약수의 합이 \n",
    "# 다시 자기 자신이 되는 수!!!\n",
    "# 10 : 1 + 2 + 5 = 8이므로 (X)\n",
    "# 12 : 1 + 2 + 3 + 4 + 6 = 16 (X)\n",
    "# 28 : 1 + 2 + 4 + 7 + 14 = 28 (O)\n",
    "\n",
    "# def is_perfect_number(num):\n",
    "#     num2 = 0\n",
    "#     for i in range(1, num):\n",
    "#         if is_divisor(num,i):\n",
    "#             num2 += i\n",
    "#     if num2 == num:\n",
    "#         print(\"True\")\n",
    "#     else:\n",
    "#         print(\"False\")\n",
    "            \n",
    "def is_perfect_number(num):\n",
    "    return get_sum_of_divisors(num) == num * 2\n",
    "        \n",
    "\n",
    "print(is_perfect_number(10)) # False\n",
    "print(is_perfect_number(12)) # False\n",
    "print(is_perfect_number(28)) # True"
   ]
  },
  {
   "cell_type": "code",
   "execution_count": 78,
   "id": "1a21f9ee-afba-47b0-9ec5-4c7d54ff0906",
   "metadata": {},
   "outputs": [
    {
     "name": "stdout",
     "output_type": "stream",
     "text": [
      "8128의 약수 : 1 2 4 8 16 32 64 127 254 508 1016 2032 4064 8128 \n"
     ]
    }
   ],
   "source": [
    "print_divisors(8128)"
   ]
  },
  {
   "cell_type": "code",
   "execution_count": 111,
   "id": "887c4bf8-0ff8-4509-811a-d9ce5fbd00c5",
   "metadata": {},
   "outputs": [
    {
     "name": "stdout",
     "output_type": "stream",
     "text": [
      "8128\n"
     ]
    }
   ],
   "source": [
    "# 5. 그 다음 오는 완전수를 구해보자!!\n",
    "# 1번째 완전수 : 6 (1 + 2 + 3)\n",
    "# 2번째 완전수 : 28 (1 + 2 + 4 + 7 + 14)\n",
    "# 3번째 완전수 : ??? (세 자리 수)\n",
    "# 4번째 완전수 : ???? (네 자리 수)\n",
    "\n",
    "\n",
    "for i in range(1000,10000):\n",
    "    if is_perfect_number(i) == True:\n",
    "        print(i)\n",
    "\n",
    "\n",
    "# from tqdm import tqdm\n",
    "\n",
    "# for i in tqdm(range(10000, 100000)):\n",
    "#     if is_perfect_number(i):\n",
    "#         print(i)\n",
    "\n"
   ]
  },
  {
   "cell_type": "code",
   "execution_count": null,
   "id": "ed46da2e-eb6b-49b2-a72a-e89c527c4b56",
   "metadata": {},
   "outputs": [],
   "source": [
    "def is_divisor(num1 : int, num2 : int) -> bool:\n",
    "    \"\"\"num2가 num1의 약수인지 판별\"\"\" # docstring (Shift + Tab)\n",
    "    \n",
    "    return num1 % num2 == 0\n",
    "\n",
    "def print_divisors(num : int):\n",
    "    \"\"\"약수 구하기\"\"\"\n",
    "    # num이 10이라면?\n",
    "    print(f\"{num}의 약수 : \", end=\"\")\n",
    "    for i in range(1,num + 1):\n",
    "        if num % i == 0:\n",
    "            print(i, end=\" \")\n",
    "    print()\n",
    "    \n",
    "def is_perfect_number(num):\n",
    "    num2 = 0\n",
    "    for i in range(1, num):\n",
    "        if is_divisor(num,i):\n",
    "            num2 += i\n",
    "    if num2 == num:\n",
    "        print(\"True\")\n",
    "    else:\n",
    "        print(\"False\")\n",
    "        \n",
    "def get_sum_of_divisors(num : int):\n",
    "    \"\"\"약수의 총합\"\"\"\n",
    "    total = 0\n",
    "    for i in range(1, num + 1):\n",
    "        if is_divisor(num,i):\n",
    "            total += i\n",
    "    print(total)"
   ]
  },
  {
   "cell_type": "code",
   "execution_count": 82,
   "id": "dde27590-a9d7-4690-94ca-52241bb65f75",
   "metadata": {},
   "outputs": [
    {
     "data": {
      "text/plain": [
       "10"
      ]
     },
     "execution_count": 82,
     "metadata": {},
     "output_type": "execute_result"
    }
   ],
   "source": [
    "# 가변 매개변수\n",
    "\n",
    "def add_number(*args):\n",
    "    result = 0\n",
    "    for num in args:\n",
    "        result += num\n",
    "    return result\n",
    "    \n",
    "add_number(1,2,3,4)"
   ]
  },
  {
   "cell_type": "code",
   "execution_count": 85,
   "id": "7fadb4fc-92a1-48b7-99fe-1c9da556d3c5",
   "metadata": {},
   "outputs": [
    {
     "name": "stdout",
     "output_type": "stream",
     "text": [
      "(15, 5)\n"
     ]
    }
   ],
   "source": [
    "def cal_number(num1, num2):\n",
    "    return num1 + num2, num1 - num2\n",
    "\n",
    "print(cal_number(10, 5))\n",
    "\n",
    "# 함수의 리턴값이 2개이다 (X)\n",
    "# 함수는 리턴값이 반드시 1개\n"
   ]
  },
  {
   "cell_type": "code",
   "execution_count": 91,
   "id": "08f18c19-028d-4968-9f8c-ec4c3412e01a",
   "metadata": {
    "scrolled": true
   },
   "outputs": [
    {
     "name": "stdout",
     "output_type": "stream",
     "text": [
      "32\n",
      "25\n"
     ]
    }
   ],
   "source": [
    "# 함수의 기본 값 설정\n",
    "\n",
    "def my_pow(num1, num2=2):\n",
    "    # num1 : 2\n",
    "    # num2 : 5\n",
    "    # 2^5\n",
    "\n",
    "    result = 1\n",
    "\n",
    "    for _ in range(num2):\n",
    "        result *= num1\n",
    "    return result\n",
    "print(my_pow(2, 5))\n",
    "print(my_pow(5))"
   ]
  },
  {
   "cell_type": "code",
   "execution_count": 96,
   "id": "8948cbc2-ecc7-4279-8ac4-1826e2393c52",
   "metadata": {},
   "outputs": [
    {
     "name": "stdout",
     "output_type": "stream",
     "text": [
      "15\n",
      "30\n"
     ]
    }
   ],
   "source": [
    "# day. ipynb 과 cal.py가 같은 경로에 있다\n",
    "# 모듈화 (파이썬의 강점)\n",
    "# 함수, 클래스, -> 간단하게 .py 만들어서 배포 -> import\n",
    "\n",
    "import cal # cal.py를 로드\n",
    "print(cal.add(10,5))\n",
    "\n",
    "from cal import add # 함수 하나만 로드\n",
    "print(add(20, 10))\n"
   ]
  },
  {
   "cell_type": "code",
   "execution_count": 125,
   "id": "8998820c-cd68-43d2-a1b9-9427c291fc56",
   "metadata": {},
   "outputs": [
    {
     "name": "stdout",
     "output_type": "stream",
     "text": [
      "원숭이\n",
      "껍질을 벗겨서\n",
      "색깔 : 노랗다, 종 : 과일\n",
      "색깔 : 초록색, 종 : 과일\n",
      "색깔 : 노랗다, 종 : 과일\n"
     ]
    }
   ],
   "source": [
    "# 객체 지향 프로그래밍 (Object Oriented Programming : OOP)\n",
    "# 독립된 객체들 간의 메시지를 주고 받음으로써 프로그램을 구성하는 방식\n",
    "\n",
    "# 객체의 설계도 : class\n",
    "# 시계, 바나나\n",
    "# 클래스 명은 대문자로 시작(약속)\n",
    "class Clock:\n",
    "    \n",
    "    # Data\n",
    "    hour = 11 # 시\n",
    "    minute = 40 # 분\n",
    "    second = 50 # 초\n",
    "    \n",
    "    # Logic\n",
    "\n",
    "    # self : 클래스 이름을 반환\n",
    "    # 클래스 내 함수 정의 시 첫 번째 매개변수로 설정\n",
    "    # 클래스 내 변수 호출 시 self.변수이름\n",
    "    \n",
    "    def show_time(self):\n",
    "        print(f\"{self.hour}시 {self.minute}분 {self.second}초\")\n",
    "\n",
    "\n",
    "class Banana:\n",
    "\n",
    "    # Data\n",
    "    color = \"노랗다\"\n",
    "    species = \"과일\"\n",
    "    \n",
    "    def who_many_eat(self):\n",
    "        print(\"원숭이\")\n",
    "\n",
    "    def how_eat(self):\n",
    "        print(\"껍질을 벗겨서\")\n",
    "\n",
    "    def show_info(self):\n",
    "        print(f\"색깔 : {self.color}, 종 : {self.species}\")\n",
    "\n",
    "# 절차 지향 프로그래밍 ()\n",
    "\n",
    "b1 = Banana()\n",
    "b1.who_many_eat()\n",
    "b1.how_eat()\n",
    "b1.show_info()\n",
    "\n",
    "b1.color = \"초록색\"\n",
    "b1.show_info()\n",
    "\n",
    "b2 = Banana()\n",
    "b2.show_info()\n",
    "\n"
   ]
  },
  {
   "cell_type": "code",
   "execution_count": 117,
   "id": "4a972001-8ad1-4dcf-ae52-49a771cb8ff1",
   "metadata": {},
   "outputs": [
    {
     "name": "stdout",
     "output_type": "stream",
     "text": [
      "11시 40분 50초\n"
     ]
    }
   ],
   "source": [
    "나만의시계 = Clock()\n",
    "나만의시계.show_time()"
   ]
  },
  {
   "cell_type": "code",
   "execution_count": null,
   "id": "4fabe043-75c5-426e-897d-9f45dff7302b",
   "metadata": {},
   "outputs": [],
   "source": [
    "# 객체 지향 프로그래밍 특징\n",
    "# 1) 추상화(Abstraction)\n",
    "# - 객체의 공통적인 속성을 추출하는 행위\n",
    "\n",
    "# 2) 캡슐화(Encapsulation)"
   ]
  },
  {
   "cell_type": "code",
   "execution_count": 149,
   "id": "76839042-9afa-4aed-860a-0e2cc2ed88b3",
   "metadata": {
    "scrolled": true
   },
   "outputs": [],
   "source": [
    "class Bank:\n",
    "    # 클래스에서 Data, Logic\n",
    "    # field(Data) : 멤버 변수, 속성, 특징, 특성\n",
    "    # function(Logic) : 멤버 함수, 동작, 행위 ,기능, 메소드 \n",
    "    \n",
    "    # field + function : member\n",
    "    \n",
    "    # 접근 제어자 (Access Modifier)\n",
    "    # 외부에서 변수(함수)를 바라볼 수 있는 범위를 설정\n",
    "    # 1.public : 누구나 어디에서나 바라볼 수 있다.\n",
    "    # 2._protected : 상속 관계 + 같은 패키지(폴더)\n",
    "    # 3.__private : 같은 클래스 내에서만 접근 가능\n",
    "    \n",
    "    __money = 0\n",
    "\n",
    "    # 입금, 출금, 잔액 확인\n",
    "    def deposit(self, money):\n",
    "        self.__money += money\n",
    "    def withdraw(self, money):\n",
    "        self.__money -= money\n",
    "    def show_me_the_money(self):\n",
    "        print(f\"현재 잔액 : {self.__money}원\")"
   ]
  },
  {
   "cell_type": "code",
   "execution_count": 150,
   "id": "603dfbae-220e-443c-b143-b23b312ab21e",
   "metadata": {},
   "outputs": [
    {
     "name": "stdout",
     "output_type": "stream",
     "text": [
      "현재 잔액 : 0원\n",
      "현재 잔액 : 1000000원\n",
      "현재 잔액 : 330000원\n",
      "현재 잔액 : 330000원\n"
     ]
    }
   ],
   "source": [
    "나만의계좌 = Bank()\n",
    "나만의계좌.show_me_the_money()\n",
    "나만의계좌.deposit(1000000)\n",
    "나만의계좌.show_me_the_money()\n",
    "나만의계좌.withdraw(670000)\n",
    "나만의계좌.show_me_the_money()\n",
    "\n",
    "나만의계좌.money = 1_000_000_000\n",
    "나만의계좌.show_me_the_money()\n",
    "\n",
    "#Bank 클래스의 속성을\n",
    "# 외부 사용자가 접근할 수 있다면\n",
    "# 캡슐화\n",
    "\n"
   ]
  },
  {
   "cell_type": "code",
   "execution_count": 174,
   "id": "e9ba47c1-34ec-49c7-ba55-b82149464ef6",
   "metadata": {},
   "outputs": [],
   "source": [
    "# 생성자(Constructor)\n",
    "\n",
    "# 클래스를 만드는 이유?\n",
    "# 나만의 사용자 정의 자료형\n",
    "# VO(Value Object)\n",
    "\n",
    "class Contact:\n",
    "    # __init__ 는 클래스가 생성될 때 호출\n",
    "    def __init__(self, name, age, mbti):\n",
    "        self.__name = name\n",
    "        self.__age = age\n",
    "        self.__mbti = mbti\n",
    "\n",
    "    # getter : class의 field를 반환하는 함수\n",
    "    def get_age(self):\n",
    "        return self.__age\n",
    "\n",
    "    # setter : class의 field를 외부에서 수정하는 함수\n",
    "    def set_age(self, age):\n",
    "        self.__age = age\n",
    "    \n",
    "    def __str__(self): # 반환값이 무조건 있어야한다\n",
    "        return f\"이름 : {self.__name}, 나이 : {self.__age}(세), MBTI : {self.__mbti}\""
   ]
  },
  {
   "cell_type": "code",
   "execution_count": 178,
   "id": "384b6210-54ca-4a62-993e-382cb7530c96",
   "metadata": {},
   "outputs": [
    {
     "name": "stdout",
     "output_type": "stream",
     "text": [
      "이름 : 이성균, 나이 : 21(세), MBTI : INTP\n",
      "이름 : 수지, 나이 : 31(세), MBTI : INFP\n"
     ]
    }
   ],
   "source": [
    "c1 = Contact(\"이성균\", 20, \"INTP\")\n",
    "c2 = Contact(\"수지\", 30, \"INFP\")\n",
    "\n",
    "c1.name = \"공유\"\n",
    "\n",
    "contact_list = [c1, c2]\n",
    "for contact in contact_list:\n",
    "    contact.set_age(contact.get_age() + 1)\n",
    "\n",
    "for contact in contact_list:\n",
    "    print(contact)\n",
    "\n",
    "\n",
    "# contact_list = [c1, c2]\n",
    "# result = 0\n",
    "# for contact in contact_list:\n",
    "#     result += contact.get_age()\n",
    "# print(result)"
   ]
  },
  {
   "cell_type": "code",
   "execution_count": 179,
   "id": "17e863b4-14fa-4af8-ad27-659b9acd9485",
   "metadata": {},
   "outputs": [
    {
     "name": "stdout",
     "output_type": "stream",
     "text": [
      "이름 : 이성균, 나이 : 21(세), MBTI : INTP\n"
     ]
    }
   ],
   "source": [
    "print(c1)"
   ]
  },
  {
   "cell_type": "code",
   "execution_count": 180,
   "id": "8f7682fa-0f4c-4684-bc46-64b20243e8e7",
   "metadata": {},
   "outputs": [
    {
     "ename": "TypeError",
     "evalue": "__init__() missing 3 required positional arguments: 'name', 'age', and 'mbti'",
     "output_type": "error",
     "traceback": [
      "\u001b[1;31m---------------------------------------------------------------------------\u001b[0m",
      "\u001b[1;31mTypeError\u001b[0m                                 Traceback (most recent call last)",
      "Cell \u001b[1;32mIn[180], line 1\u001b[0m\n\u001b[1;32m----> 1\u001b[0m c3 \u001b[38;5;241m=\u001b[39m \u001b[43mContact\u001b[49m\u001b[43m(\u001b[49m\u001b[43m)\u001b[49m\n",
      "\u001b[1;31mTypeError\u001b[0m: __init__() missing 3 required positional arguments: 'name', 'age', and 'mbti'"
     ]
    }
   ],
   "source": [
    "c3 = Contact()"
   ]
  },
  {
   "cell_type": "code",
   "execution_count": 182,
   "id": "16297e45-5cf0-4dd2-af84-1eb26c9073aa",
   "metadata": {},
   "outputs": [],
   "source": [
    "# 상속(Inheritance)\n",
    "# 기존에 만들어졌던 클래스의 멤버를 물려받아 재사용\n",
    "\n",
    "# 부모 클래스의 멤버를 물려 받아\n",
    "# 자식 클래스에서 재활용\n",
    "\n",
    "# 부모 클래스(Super Class, 상위 클래스)\n",
    "# 자식 클래스(Sub Class, 하위 클래스)\n",
    "\n",
    "# Python 객체지향의 다형성\n",
    "# 함수 Overriding\n",
    "# 자식 클래스에서 부모로부터 받은 함수를 재정의 \n",
    "\n",
    "# 동물\n",
    "# 강아지, 토끼 ,고양이, 말\n",
    "class Dog:\n",
    "    외모 = \"귀엽다\"\n",
    "    성격 = \"충직\"\n",
    "    문 = \"척추동물\"\n",
    "\n",
    "    def mammal(self):\n",
    "        print(\"포유류\")\n",
    "    \n",
    "    def eat(self):\n",
    "        print(\"사료 먹는다\")\n",
    "        \n",
    "    def cry(self):\n",
    "        print(\"월월\")\n",
    "\n",
    "    def __str__(self):\n",
    "        return f\"외모 : {self.외모}, 성격 : {self.성격}, 문 : {self.문}\""
   ]
  },
  {
   "cell_type": "code",
   "execution_count": 188,
   "id": "d55d6f92-d022-4373-a96d-a85df5dbf81a",
   "metadata": {},
   "outputs": [],
   "source": [
    "class Rabbit:\n",
    "    외모 = \"귀엽다, 귀가 길다\"\n",
    "    성격 = \"겁이 많다\"\n",
    "    문 = \"척삭동물\"\n",
    "    \n",
    "    def mammal(self):\n",
    "        print(\"포유류\")\n",
    "    \n",
    "    def eat(self):\n",
    "        print(\"당근\")\n",
    "        \n",
    "    def cry(self):\n",
    "        print(\"삑삑\")\n",
    "\n",
    "    def __str__(self):\n",
    "        return f\"외모 : {self.외모}, 성격 : {self.성격}, 문 : {self.문}\""
   ]
  },
  {
   "cell_type": "code",
   "execution_count": 187,
   "id": "438703d4-bef9-459f-825a-91c3594e0e51",
   "metadata": {
    "scrolled": true
   },
   "outputs": [
    {
     "name": "stdout",
     "output_type": "stream",
     "text": [
      "외모 : 귀엽다, 성격 : 충직, 문 : 척추동물\n",
      "포유류\n",
      "월월\n",
      "사료 먹는다\n"
     ]
    }
   ],
   "source": [
    "꽃님이 = Dog()\n",
    "print(꽃님이)\n",
    "꽃님이.mammal()\n",
    "꽃님이.cry()\n",
    "꽃님이.eat()"
   ]
  },
  {
   "cell_type": "code",
   "execution_count": 195,
   "id": "e4e1df8c-7f97-466b-aa36-75f1a84db256",
   "metadata": {},
   "outputs": [],
   "source": [
    "class Mammal:\n",
    "\n",
    "    def mammal(self):\n",
    "        print(\"포유류\")\n",
    "\n",
    "    def eat(self):\n",
    "        print(\"무언가 먹는다\")\n",
    "\n",
    "    def cry(self):\n",
    "        print(\"어떻게 울지?\")"
   ]
  },
  {
   "cell_type": "code",
   "execution_count": 191,
   "id": "75c58c19-a8c0-4599-84fd-392265d2db65",
   "metadata": {},
   "outputs": [
    {
     "name": "stdout",
     "output_type": "stream",
     "text": [
      "외모 : 귀엽다, 귀가 길다, 성격 : 겁이 많다, 문 : 척삭동물\n",
      "삑삑\n",
      "포유류\n",
      "당근\n"
     ]
    }
   ],
   "source": [
    "새초미 = Rabbit()\n",
    "print(새초미)\n",
    "새초미.cry()\n",
    "새초미.mammal()\n",
    "새초미.eat()"
   ]
  },
  {
   "cell_type": "code",
   "execution_count": null,
   "id": "c56a0f71-d391-4af3-b36b-f7e22d989ada",
   "metadata": {},
   "outputs": [],
   "source": [
    "# 부모 클래스\n",
    "# 자식 클래스\n"
   ]
  },
  {
   "cell_type": "code",
   "execution_count": 202,
   "id": "95c2aee4-2d97-4bf6-9211-66698fee6611",
   "metadata": {},
   "outputs": [],
   "source": [
    "#class 클래스명(부모 클래스)\n",
    "class Cat(Mammal):\n",
    "\n",
    "    외모 = \"귀엽다, 수염이 있다\"\n",
    "    성격 = \"까칠하다\"\n",
    "    문 = \"척삭동물\"\n",
    "\n",
    "    def cry(self):\n",
    "        print(\"야옹\")\n",
    "\n",
    "    def eat(self):\n",
    "        print(\"사료 냠냠\")\n",
    "    \n",
    "    def __str__(self):\n",
    "        return f\"외모 : {self.외모}, 성격 : {self.성격}, 문 : {self.문}\"\n"
   ]
  },
  {
   "cell_type": "code",
   "execution_count": 203,
   "id": "eebed7e4-a622-4b6f-a152-df1cd12886b9",
   "metadata": {},
   "outputs": [
    {
     "name": "stdout",
     "output_type": "stream",
     "text": [
      "외모 : 귀엽다, 수염이 있다, 성격 : 까칠하다, 문 : 척삭동물\n",
      "사료 냠냠\n",
      "야옹\n",
      "포유류\n"
     ]
    }
   ],
   "source": [
    "나비 = Cat()\n",
    "print(나비)\n",
    "나비.eat()\n",
    "나비.cry()\n",
    "나비.mammal()"
   ]
  },
  {
   "cell_type": "code",
   "execution_count": 204,
   "id": "52418180-12b6-4d29-8d07-c4dc12f88bc9",
   "metadata": {},
   "outputs": [
    {
     "data": {
      "text/plain": [
       "<Response [200]>"
      ]
     },
     "execution_count": 204,
     "metadata": {},
     "output_type": "execute_result"
    }
   ],
   "source": [
    "# 영화진흥위원회 API\n",
    "\n",
    "import requests\n",
    "MY_API_KEY = \"7077141e402b34395ff1bda2f711ff5c\"\n",
    "date = \"20250904\"\n",
    "url_movie = f\"https://kobis.or.kr/kobisopenapi/webservice/rest/boxoffice/searchDailyBoxOfficeList.json?key={MY_API_KEY}&targetDt={date}\"\n",
    "\n",
    "response = requests.get(url_movie)\n",
    "response"
   ]
  },
  {
   "cell_type": "raw",
   "id": "fed312d4-ffc6-42ef-9682-ca51ebd35bfd",
   "metadata": {},
   "source": [
    "# 영화 관련된 자료형\n",
    "# rank :순위\n",
    "# movieNm : 영화 이름\n",
    "# audiCnt : 일별 관객수\n",
    "# audiAcc : 누적 관객수"
   ]
  },
  {
   "cell_type": "code",
   "execution_count": 227,
   "id": "7f0d7c64-fcfc-4a64-92e4-adf48a100bed",
   "metadata": {},
   "outputs": [],
   "source": [
    "class Movie:\n",
    "   \n",
    "    def __init__(self, rank, movieNm, audiCnt, audiAcc):\n",
    "        self.rank = rank\n",
    "        self.movieNm = movieNm\n",
    "        self.audiCnt = audiCnt\n",
    "        self.audiAcc = audiAcc\n",
    "\n",
    "    def __str__(self):\n",
    "        return f\"{self.rank}위 : {self.movieNm}({self.audiCnt}명/{self.audiAcc}명)\"\n",
    "        "
   ]
  },
  {
   "cell_type": "code",
   "execution_count": 233,
   "id": "d004ec18-d2c7-478e-9a4d-e7de9d19e107",
   "metadata": {},
   "outputs": [],
   "source": [
    "movie_list = []\n",
    "\n",
    "for i in range(10):\n",
    "    rank = result[\"boxOfficeResult\"][\"dailyBoxOfficeList\"][i][\"rank\"]\n",
    "    movieNm = result[\"boxOfficeResult\"][\"dailyBoxOfficeList\"][i][\"movieNm\"]\n",
    "    audiCnt = result[\"boxOfficeResult\"][\"dailyBoxOfficeList\"][i][\"audiCnt\"]\n",
    "    audiAcc = result[\"boxOfficeResult\"][\"dailyBoxOfficeList\"][i][\"audiAcc\"]\n",
    "\n",
    "    movie = Movie(rank, movieNm, audiCnt, audiAcc)\n",
    "    movie_list.append(movie)"
   ]
  },
  {
   "cell_type": "code",
   "execution_count": 231,
   "id": "a115b71f-e0fe-4298-b478-ce276b65ef19",
   "metadata": {},
   "outputs": [
    {
     "name": "stdout",
     "output_type": "stream",
     "text": [
      "1위 : 극장판 귀멸의 칼날: 무한성편(62691명/3458748명)\n",
      "2위 : 컨저링: 마지막 의식(28524명/68447명)\n",
      "3위 : F1 더 무비(13230명/4826681명)\n",
      "4위 : 좀비딸(12983명/5411863명)\n",
      "5위 : 투게더(4515명/15019명)\n",
      "6위 : 첫사랑 엔딩(3468명/84391명)\n",
      "7위 : 악마가 이사왔다(1535명/425187명)\n",
      "8위 : 긴키 지방의 어느 장소에 대하여(1307명/260195명)\n",
      "9위 : 노바디2(1200명/53902명)\n",
      "10위 : 이티(1044명/11492명)\n"
     ]
    }
   ],
   "source": [
    "for movie in movie_list:\n",
    "    print(movie)"
   ]
  },
  {
   "cell_type": "code",
   "execution_count": 205,
   "id": "eb16535a-fb89-4527-a765-26dd5389faeb",
   "metadata": {},
   "outputs": [
    {
     "data": {
      "text/plain": [
       "{'boxOfficeResult': {'boxofficeType': '일별 박스오피스',\n",
       "  'showRange': '20250904~20250904',\n",
       "  'dailyBoxOfficeList': [{'rnum': '1',\n",
       "    'rank': '1',\n",
       "    'rankInten': '0',\n",
       "    'rankOldAndNew': 'OLD',\n",
       "    'movieCd': '20253289',\n",
       "    'movieNm': '극장판 귀멸의 칼날: 무한성편',\n",
       "    'openDt': '2025-08-22',\n",
       "    'salesAmt': '678112700',\n",
       "    'salesShare': '46.6',\n",
       "    'salesInten': '-159857340',\n",
       "    'salesChange': '-19.1',\n",
       "    'salesAcc': '37355740290',\n",
       "    'audiCnt': '62691',\n",
       "    'audiInten': '-16830',\n",
       "    'audiChange': '-21.2',\n",
       "    'audiAcc': '3458748',\n",
       "    'scrnCnt': '1581',\n",
       "    'showCnt': '4874'},\n",
       "   {'rnum': '2',\n",
       "    'rank': '2',\n",
       "    'rankInten': '0',\n",
       "    'rankOldAndNew': 'OLD',\n",
       "    'movieCd': '20256702',\n",
       "    'movieNm': '컨저링: 마지막 의식',\n",
       "    'openDt': '2025-09-03',\n",
       "    'salesAmt': '286788930',\n",
       "    'salesShare': '19.7',\n",
       "    'salesInten': '-110533380',\n",
       "    'salesChange': '-27.8',\n",
       "    'salesAcc': '687648240',\n",
       "    'audiCnt': '28524',\n",
       "    'audiInten': '-11054',\n",
       "    'audiChange': '-27.9',\n",
       "    'audiAcc': '68447',\n",
       "    'scrnCnt': '835',\n",
       "    'showCnt': '2151'},\n",
       "   {'rnum': '3',\n",
       "    'rank': '3',\n",
       "    'rankInten': '0',\n",
       "    'rankOldAndNew': 'OLD',\n",
       "    'movieCd': '20254501',\n",
       "    'movieNm': 'F1 더 무비',\n",
       "    'openDt': '2025-06-25',\n",
       "    'salesAmt': '132347510',\n",
       "    'salesShare': '9.1',\n",
       "    'salesInten': '-9109970',\n",
       "    'salesChange': '-6.4',\n",
       "    'salesAcc': '51794204600',\n",
       "    'audiCnt': '13230',\n",
       "    'audiInten': '-1377',\n",
       "    'audiChange': '-9.4',\n",
       "    'audiAcc': '4826681',\n",
       "    'scrnCnt': '644',\n",
       "    'showCnt': '1330'},\n",
       "   {'rnum': '4',\n",
       "    'rank': '4',\n",
       "    'rankInten': '0',\n",
       "    'rankOldAndNew': 'OLD',\n",
       "    'movieCd': '20241941',\n",
       "    'movieNm': '좀비딸',\n",
       "    'openDt': '2025-07-30',\n",
       "    'salesAmt': '119587700',\n",
       "    'salesShare': '8.2',\n",
       "    'salesInten': '-14043000',\n",
       "    'salesChange': '-10.5',\n",
       "    'salesAcc': '51273160590',\n",
       "    'audiCnt': '12983',\n",
       "    'audiInten': '-1619',\n",
       "    'audiChange': '-11.1',\n",
       "    'audiAcc': '5411863',\n",
       "    'scrnCnt': '675',\n",
       "    'showCnt': '1729'},\n",
       "   {'rnum': '5',\n",
       "    'rank': '5',\n",
       "    'rankInten': '0',\n",
       "    'rankOldAndNew': 'OLD',\n",
       "    'movieCd': '20256071',\n",
       "    'movieNm': '투게더',\n",
       "    'openDt': '2025-09-03',\n",
       "    'salesAmt': '34885600',\n",
       "    'salesShare': '2.4',\n",
       "    'salesInten': '-21448300',\n",
       "    'salesChange': '-38.1',\n",
       "    'salesAcc': '114325700',\n",
       "    'audiCnt': '4515',\n",
       "    'audiInten': '-3410',\n",
       "    'audiChange': '-43',\n",
       "    'audiAcc': '15019',\n",
       "    'scrnCnt': '239',\n",
       "    'showCnt': '603'},\n",
       "   {'rnum': '6',\n",
       "    'rank': '6',\n",
       "    'rankInten': '0',\n",
       "    'rankOldAndNew': 'OLD',\n",
       "    'movieCd': '20256281',\n",
       "    'movieNm': '첫사랑 엔딩',\n",
       "    'openDt': '2025-08-27',\n",
       "    'salesAmt': '32606400',\n",
       "    'salesShare': '2.2',\n",
       "    'salesInten': '-6098200',\n",
       "    'salesChange': '-15.8',\n",
       "    'salesAcc': '795122770',\n",
       "    'audiCnt': '3468',\n",
       "    'audiInten': '-603',\n",
       "    'audiChange': '-14.8',\n",
       "    'audiAcc': '84391',\n",
       "    'scrnCnt': '271',\n",
       "    'showCnt': '386'},\n",
       "   {'rnum': '7',\n",
       "    'rank': '7',\n",
       "    'rankInten': '3',\n",
       "    'rankOldAndNew': 'OLD',\n",
       "    'movieCd': '20210546',\n",
       "    'movieNm': '악마가 이사왔다',\n",
       "    'openDt': '2025-08-13',\n",
       "    'salesAmt': '12823700',\n",
       "    'salesShare': '0.9',\n",
       "    'salesInten': '-958400',\n",
       "    'salesChange': '-7',\n",
       "    'salesAcc': '4035317910',\n",
       "    'audiCnt': '1535',\n",
       "    'audiInten': '18',\n",
       "    'audiChange': '1.2',\n",
       "    'audiAcc': '425187',\n",
       "    'scrnCnt': '88',\n",
       "    'showCnt': '109'},\n",
       "   {'rnum': '8',\n",
       "    'rank': '8',\n",
       "    'rankInten': '1',\n",
       "    'rankOldAndNew': 'OLD',\n",
       "    'movieCd': '20256701',\n",
       "    'movieNm': '긴키 지방의 어느 장소에 대하여',\n",
       "    'openDt': '2025-08-13',\n",
       "    'salesAmt': '13145900',\n",
       "    'salesShare': '0.9',\n",
       "    'salesInten': '-2389400',\n",
       "    'salesChange': '-15.4',\n",
       "    'salesAcc': '2655711490',\n",
       "    'audiCnt': '1307',\n",
       "    'audiInten': '-251',\n",
       "    'audiChange': '-16.1',\n",
       "    'audiAcc': '260195',\n",
       "    'scrnCnt': '156',\n",
       "    'showCnt': '188'},\n",
       "   {'rnum': '9',\n",
       "    'rank': '9',\n",
       "    'rankInten': '3',\n",
       "    'rankOldAndNew': 'OLD',\n",
       "    'movieCd': '20256202',\n",
       "    'movieNm': '노바디2',\n",
       "    'openDt': '2025-08-27',\n",
       "    'salesAmt': '10973700',\n",
       "    'salesShare': '0.8',\n",
       "    'salesInten': '-1010600',\n",
       "    'salesChange': '-8.4',\n",
       "    'salesAcc': '477331800',\n",
       "    'audiCnt': '1200',\n",
       "    'audiInten': '-129',\n",
       "    'audiChange': '-9.7',\n",
       "    'audiAcc': '53902',\n",
       "    'scrnCnt': '199',\n",
       "    'showCnt': '277'},\n",
       "   {'rnum': '10',\n",
       "    'rank': '10',\n",
       "    'rankInten': '-3',\n",
       "    'rankOldAndNew': 'OLD',\n",
       "    'movieCd': '20020328',\n",
       "    'movieNm': '이티',\n",
       "    'openDt': '1984-06-23',\n",
       "    'salesAmt': '10006600',\n",
       "    'salesShare': '0.7',\n",
       "    'salesInten': '-13074100',\n",
       "    'salesChange': '-56.6',\n",
       "    'salesAcc': '94402800',\n",
       "    'audiCnt': '1044',\n",
       "    'audiInten': '-1365',\n",
       "    'audiChange': '-56.7',\n",
       "    'audiAcc': '11492',\n",
       "    'scrnCnt': '110',\n",
       "    'showCnt': '174'}]}}"
      ]
     },
     "execution_count": 205,
     "metadata": {},
     "output_type": "execute_result"
    }
   ],
   "source": [
    "result = response.json()\n",
    "result"
   ]
  },
  {
   "cell_type": "code",
   "execution_count": 234,
   "id": "b1906090-7dac-413d-95dd-12278227586a",
   "metadata": {},
   "outputs": [],
   "source": [
    "# 자료구조 (data Structure)\n",
    "# 자료들을 효율적으로 다루기 위한 방법\n",
    "# 1) 선형 : 배열, 연결 리스트, 스택 ,큐\n",
    "# 2) 비선형 : 트리, 그래프\n",
    "\n"
   ]
  },
  {
   "cell_type": "code",
   "execution_count": 241,
   "id": "d941828b-b5f9-4087-9bed-9bf57ebdec43",
   "metadata": {},
   "outputs": [],
   "source": [
    "# Python에서 배열을 표현해보자\n",
    "# 배열은?\n",
    "# 첨자를 사용 [1]\n",
    "# Index가 0 ~ 순차적\n",
    "# 크기 고정\n",
    "\n",
    "# Array(1, 2, 3, 4)"
   ]
  },
  {
   "cell_type": "code",
   "execution_count": 249,
   "id": "fa5d2529-92b5-4fb4-9689-3ffa49b13321",
   "metadata": {},
   "outputs": [],
   "source": [
    "class Array:\n",
    "    def __init__(self, *args):\n",
    "        self.data = args\n",
    "\n",
    "    def get(self,index):\n",
    "        return self.data[index]\n",
    "\n",
    "    def __str__(self):\n",
    "        return str(self.data)\n",
    "        "
   ]
  },
  {
   "cell_type": "code",
   "execution_count": 250,
   "id": "c19efe56-ab7d-4c5c-ad96-43e401399d59",
   "metadata": {},
   "outputs": [
    {
     "name": "stdout",
     "output_type": "stream",
     "text": [
      "(1, 2, 3, 4)\n"
     ]
    }
   ],
   "source": [
    "arr1 = Array(1,2,3,4)\n",
    "arr1.get(2) # 2번 인덱스에 있는 값 return\n",
    "\n",
    "print(arr1)"
   ]
  },
  {
   "cell_type": "code",
   "execution_count": 1,
   "id": "76f1463f-e5e9-402d-9a0f-029ca204f7d3",
   "metadata": {},
   "outputs": [],
   "source": [
    "# class Node:\n",
    "#     def __init__(self, data):\n",
    "#         self.data = data\n",
    "#         self.next = None\n"
   ]
  },
  {
   "cell_type": "code",
   "execution_count": null,
   "id": "f13a68c8-469b-4d17-84fa-9dd650d8c9d1",
   "metadata": {},
   "outputs": [],
   "source": []
  },
  {
   "cell_type": "code",
   "execution_count": 278,
   "id": "19741abf-feec-4955-9c88-816664d4919f",
   "metadata": {},
   "outputs": [],
   "source": [
    "# 연결 리스트 (Linkd List)\n",
    "# class LinkedList:\n",
    "#     def __init__(self):\n",
    "#         self.head = None\n",
    "        \n",
    "#     def append (self, data):\n",
    "#         if self.head == None:\n",
    "#             self.head = Node(data)\n",
    "#         else:\n",
    "#             curr = self.head # 현재 우리가 가리키고 있는 노드\n",
    "#             while curr.next:\n",
    "#                 curr = curr.next\n",
    "#             curr.next = Node(data)\n",
    "\n",
    "#     def __str__(self):\n",
    "#         result = \"\"\n",
    "#         curr = self.head\n",
    "\n",
    "#         while True:\n",
    "            \n",
    "#             result += str(curr.data)\n",
    "           \n",
    "\n",
    "#             if curr.next == None:\n",
    "#                 break\n",
    "#             curr = curr.next\n",
    "            \n",
    "#             result += \" -> \"\n",
    "\n",
    "#         return result\n",
    "#         # 1 -> 2 -> 10 -> 100"
   ]
  },
  {
   "cell_type": "code",
   "execution_count": 280,
   "id": "294d7ffd-93aa-4ddd-b418-8ebf396183f4",
   "metadata": {
    "scrolled": true
   },
   "outputs": [
    {
     "name": "stdout",
     "output_type": "stream",
     "text": [
      "1 -> 2 -> 10 -> 100 -> 20000\n"
     ]
    }
   ],
   "source": [
    "list1 = LinkedList()\n",
    "list1.append(1)\n",
    "list1.append(2)\n",
    "list1.append(10)\n",
    "list1.append(100)\n",
    "list1.append(20000)\n",
    "print(list1)"
   ]
  },
  {
   "cell_type": "code",
   "execution_count": 312,
   "id": "31761a6a-d66d-4759-a2a4-59fd22eb04e2",
   "metadata": {},
   "outputs": [],
   "source": [
    "# 스택\n",
    "# 1) Node 활용\n",
    "# 2) Last In First Out (LIFO)\n",
    "# 3) push(10)\n",
    "# 4) pop() -> 가장 위 노드를 제거, 노드 data를 반환\n",
    "# 5) peek() -> 가장 위 노드 data 반환\n",
    "# 6) is_empty() -> 만약, 스택이 비어있다면 True, 비어있지 않다면 False\n",
    "\n",
    "class Node:\n",
    "    def __init__(self, data):\n",
    "        self.data = data\n",
    "        self.next = None\n",
    "        \n",
    "class Stack:\n",
    "    def __init__(self):\n",
    "        self.top = None\n",
    "    \n",
    "    def push(self, data):\n",
    "        if self.top == None:\n",
    "            self.top = Node(data)\n",
    "        else:\n",
    "            # 첫 노드가 10\n",
    "            # 두 번째 노드가 20\n",
    "            # 첫 번째 노드.next -> 두 번째 노드\n",
    "            curr = Node(data)\n",
    "            curr.next = self.top # 새로 들어온 노드가 -> 이전 노드를 가리키게\n",
    "            self.top = curr\n",
    "\n",
    "    def is_empty(self):\n",
    "        return self.top == None\n",
    "    \n",
    "    def pop(self):\n",
    "        if self.top == None:\n",
    "            return None\n",
    "        else:\n",
    "            curr = self.top\n",
    "            self.top = self.top.next\n",
    "            return curr.data \n",
    "\n",
    "    def peek(self):\n",
    "        # 가장 윗 노드의 data 반환\n",
    "         if self.top == None:\n",
    "            return None\n",
    "         else:\n",
    "            curr = self.top\n",
    "            return curr.data\n",
    "            \n",
    "    def __str__(self):\n",
    "        result = \"\"\n",
    "\n",
    "        curr = self.top\n",
    "\n",
    "        while True:\n",
    "            result += str(curr.data)   \n",
    "            if curr.next == None:\n",
    "                break\n",
    "            curr = curr.next\n",
    "            result += \" -> \"\n",
    "        \n",
    "        return result"
   ]
  },
  {
   "cell_type": "code",
   "execution_count": 288,
   "id": "a3bc270b-c75a-4ddd-a0b2-adacf3607a37",
   "metadata": {},
   "outputs": [
    {
     "name": "stdout",
     "output_type": "stream",
     "text": [
      "30\n"
     ]
    }
   ],
   "source": [
    "s = Stack()\n",
    "s.push(10)\n",
    "s.push(20)\n",
    "s.push(30)\n",
    "print(s.pop()) # 30\n",
    "print(s.peek()) "
   ]
  },
  {
   "cell_type": "code",
   "execution_count": null,
   "id": "a4d302a0-4fb2-46e6-bf07-5ed07c650ede",
   "metadata": {},
   "outputs": [
    {
     "name": "stdout",
     "output_type": "stream",
     "text": [
      "NO\n"
     ]
    }
   ],
   "source": [
    "valid = \"())\"\n",
    "\n",
    "# continue : 반복문의 다음 바퀴 진행\n",
    "# pass : if, else의 내용 없음을 방지\n",
    "\n",
    "def is_valid(valid):\n",
    "    is_vps = True\n",
    "    \n",
    "    bracket = Stack()\n",
    "    for ps in valid:\n",
    "        if ps == \"(\":\n",
    "            bracket.push(ps)\n",
    "        else:\n",
    "            if bracket.pop() == \"(\":\n",
    "                continue\n",
    "            else:\n",
    "                is_vps = False\n",
    "                break\n",
    "                \n",
    "    if not bracket.is_empty():\n",
    "        is_vps = False\n",
    "    \n",
    "print(\"YES\" if is_vps else \"NO\")\n",
    "\n",
    "T = int(input())\n",
    "for _ in range(T):\n",
    "    valid = input()\n",
    "    is_valid"
   ]
  }
 ],
 "metadata": {
  "kernelspec": {
   "display_name": "Python 3 (ipykernel)",
   "language": "python",
   "name": "python3"
  },
  "language_info": {
   "codemirror_mode": {
    "name": "ipython",
    "version": 3
   },
   "file_extension": ".py",
   "mimetype": "text/x-python",
   "name": "python",
   "nbconvert_exporter": "python",
   "pygments_lexer": "ipython3",
   "version": "3.9.23"
  }
 },
 "nbformat": 4,
 "nbformat_minor": 5
}
