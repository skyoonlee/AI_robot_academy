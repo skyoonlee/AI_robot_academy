{
 "cells": [
  {
   "cell_type": "code",
   "execution_count": 200,
   "id": "955831a7-6518-4b53-9c2e-08f9bc8a0411",
   "metadata": {},
   "outputs": [
    {
     "name": "stdout",
     "output_type": "stream",
     "text": [
      "Requirement already satisfied: numpy in c:\\users\\kccistc\\anaconda3\\envs\\myenv\\lib\\site-packages (2.0.2)\n",
      "Requirement already satisfied: scipy in c:\\users\\kccistc\\anaconda3\\envs\\myenv\\lib\\site-packages (1.13.1)\n",
      "Requirement already satisfied: matplotlib in c:\\users\\kccistc\\anaconda3\\envs\\myenv\\lib\\site-packages (3.9.4)\n",
      "Requirement already satisfied: ipython in c:\\users\\kccistc\\anaconda3\\envs\\myenv\\lib\\site-packages (8.18.1)\n",
      "Requirement already satisfied: scikit-learn in c:\\users\\kccistc\\anaconda3\\envs\\myenv\\lib\\site-packages (1.6.1)\n",
      "Requirement already satisfied: pandas in c:\\users\\kccistc\\anaconda3\\envs\\myenv\\lib\\site-packages (2.3.2)\n",
      "Requirement already satisfied: pillow in c:\\users\\kccistc\\anaconda3\\envs\\myenv\\lib\\site-packages (11.3.0)\n",
      "Requirement already satisfied: imageio in c:\\users\\kccistc\\anaconda3\\envs\\myenv\\lib\\site-packages (2.37.0)\n",
      "Requirement already satisfied: contourpy>=1.0.1 in c:\\users\\kccistc\\anaconda3\\envs\\myenv\\lib\\site-packages (from matplotlib) (1.3.0)\n",
      "Requirement already satisfied: cycler>=0.10 in c:\\users\\kccistc\\anaconda3\\envs\\myenv\\lib\\site-packages (from matplotlib) (0.12.1)\n",
      "Requirement already satisfied: fonttools>=4.22.0 in c:\\users\\kccistc\\anaconda3\\envs\\myenv\\lib\\site-packages (from matplotlib) (4.59.2)\n",
      "Requirement already satisfied: kiwisolver>=1.3.1 in c:\\users\\kccistc\\anaconda3\\envs\\myenv\\lib\\site-packages (from matplotlib) (1.4.7)\n",
      "Requirement already satisfied: packaging>=20.0 in c:\\users\\kccistc\\anaconda3\\envs\\myenv\\lib\\site-packages (from matplotlib) (25.0)\n",
      "Requirement already satisfied: pyparsing>=2.3.1 in c:\\users\\kccistc\\anaconda3\\envs\\myenv\\lib\\site-packages (from matplotlib) (3.2.3)\n",
      "Requirement already satisfied: python-dateutil>=2.7 in c:\\users\\kccistc\\anaconda3\\envs\\myenv\\lib\\site-packages (from matplotlib) (2.9.0.post0)\n",
      "Requirement already satisfied: importlib-resources>=3.2.0 in c:\\users\\kccistc\\anaconda3\\envs\\myenv\\lib\\site-packages (from matplotlib) (6.5.2)\n",
      "Requirement already satisfied: decorator in c:\\users\\kccistc\\anaconda3\\envs\\myenv\\lib\\site-packages (from ipython) (5.2.1)\n",
      "Requirement already satisfied: jedi>=0.16 in c:\\users\\kccistc\\anaconda3\\envs\\myenv\\lib\\site-packages (from ipython) (0.19.2)\n",
      "Requirement already satisfied: matplotlib-inline in c:\\users\\kccistc\\anaconda3\\envs\\myenv\\lib\\site-packages (from ipython) (0.1.7)\n",
      "Requirement already satisfied: prompt-toolkit<3.1.0,>=3.0.41 in c:\\users\\kccistc\\anaconda3\\envs\\myenv\\lib\\site-packages (from ipython) (3.0.52)\n",
      "Requirement already satisfied: pygments>=2.4.0 in c:\\users\\kccistc\\anaconda3\\envs\\myenv\\lib\\site-packages (from ipython) (2.19.2)\n",
      "Requirement already satisfied: stack-data in c:\\users\\kccistc\\anaconda3\\envs\\myenv\\lib\\site-packages (from ipython) (0.6.3)\n",
      "Requirement already satisfied: traitlets>=5 in c:\\users\\kccistc\\anaconda3\\envs\\myenv\\lib\\site-packages (from ipython) (5.14.3)\n",
      "Requirement already satisfied: typing-extensions in c:\\users\\kccistc\\anaconda3\\envs\\myenv\\lib\\site-packages (from ipython) (4.15.0)\n",
      "Requirement already satisfied: exceptiongroup in c:\\users\\kccistc\\anaconda3\\envs\\myenv\\lib\\site-packages (from ipython) (1.3.0)\n",
      "Requirement already satisfied: colorama in c:\\users\\kccistc\\anaconda3\\envs\\myenv\\lib\\site-packages (from ipython) (0.4.6)\n",
      "Requirement already satisfied: wcwidth in c:\\users\\kccistc\\anaconda3\\envs\\myenv\\lib\\site-packages (from prompt-toolkit<3.1.0,>=3.0.41->ipython) (0.2.13)\n",
      "Requirement already satisfied: joblib>=1.2.0 in c:\\users\\kccistc\\anaconda3\\envs\\myenv\\lib\\site-packages (from scikit-learn) (1.5.2)\n",
      "Requirement already satisfied: threadpoolctl>=3.1.0 in c:\\users\\kccistc\\anaconda3\\envs\\myenv\\lib\\site-packages (from scikit-learn) (3.6.0)\n",
      "Requirement already satisfied: pytz>=2020.1 in c:\\users\\kccistc\\anaconda3\\envs\\myenv\\lib\\site-packages (from pandas) (2025.2)\n",
      "Requirement already satisfied: tzdata>=2022.7 in c:\\users\\kccistc\\anaconda3\\envs\\myenv\\lib\\site-packages (from pandas) (2025.2)\n",
      "Requirement already satisfied: zipp>=3.1.0 in c:\\users\\kccistc\\anaconda3\\envs\\myenv\\lib\\site-packages (from importlib-resources>=3.2.0->matplotlib) (3.23.0)\n",
      "Requirement already satisfied: parso<0.9.0,>=0.8.4 in c:\\users\\kccistc\\anaconda3\\envs\\myenv\\lib\\site-packages (from jedi>=0.16->ipython) (0.8.5)\n",
      "Requirement already satisfied: six>=1.5 in c:\\users\\kccistc\\anaconda3\\envs\\myenv\\lib\\site-packages (from python-dateutil>=2.7->matplotlib) (1.17.0)\n",
      "Requirement already satisfied: executing>=1.2.0 in c:\\users\\kccistc\\anaconda3\\envs\\myenv\\lib\\site-packages (from stack-data->ipython) (2.2.1)\n",
      "Requirement already satisfied: asttokens>=2.1.0 in c:\\users\\kccistc\\anaconda3\\envs\\myenv\\lib\\site-packages (from stack-data->ipython) (3.0.0)\n",
      "Requirement already satisfied: pure-eval in c:\\users\\kccistc\\anaconda3\\envs\\myenv\\lib\\site-packages (from stack-data->ipython) (0.2.3)\n"
     ]
    }
   ],
   "source": [
    "!pip install numpy scipy matplotlib ipython scikit-learn pandas pillow imageio"
   ]
  },
  {
   "cell_type": "code",
   "execution_count": 201,
   "id": "9e5d6adb-7d27-4faa-9459-d40d1adf2cc2",
   "metadata": {},
   "outputs": [
    {
     "name": "stdout",
     "output_type": "stream",
     "text": [
      "Jupyter detected...\n",
      "3 channel Terms of Service accepted\n"
     ]
    },
    {
     "name": "stderr",
     "output_type": "stream",
     "text": [
      "\n",
      "PackageNotInstalledError: Package is not installed in prefix.\n",
      "  prefix: C:\\Users\\KCCISTC\\anaconda3\\envs\\myenv\n",
      "  package name: scikit-learn\n",
      "\n",
      "\n"
     ]
    }
   ],
   "source": [
    "! conda update scikit-learn"
   ]
  },
  {
   "cell_type": "code",
   "execution_count": 3,
   "id": "e217591b-c885-4e44-9508-cfb4d721da98",
   "metadata": {},
   "outputs": [
    {
     "data": {
      "text/plain": [
       "'In [3]'"
      ]
     },
     "execution_count": 3,
     "metadata": {},
     "output_type": "execute_result"
    }
   ],
   "source": [
    "import numpy as np"
   ]
  },
  {
   "cell_type": "code",
   "execution_count": 4,
   "id": "3f55ec2c-0568-4452-8010-00eeadeb97fb",
   "metadata": {},
   "outputs": [],
   "source": [
    "# 데이터\n",
    "# Python 자료구조\n",
    "# 리스트, 튜플, 딕셔너리, 세트"
   ]
  },
  {
   "cell_type": "code",
   "execution_count": 11,
   "id": "f6af7f6a-50ff-49d3-8dcf-745531aee890",
   "metadata": {},
   "outputs": [
    {
     "name": "stdout",
     "output_type": "stream",
     "text": [
      "4\n",
      "[4, 5]\n",
      "[1, 2, 3, 4, 5, 6, 7]\n",
      "[1, 2, 3, 4, 500, 6, 7]\n",
      "[1, 2, 3, 4, 7]\n",
      "5\n"
     ]
    }
   ],
   "source": [
    "# 리스트\n",
    "list2 = [2, 3, 4, 5, 6]\n",
    "# 인덱싱 : 특정 위치에 요소 가져오기\n",
    "# 리스트명[인덱스 번호]\n",
    "print(list2[2]) # 3번째 요소 가져오기\n",
    "# 슬라이싱 : 특정 범위의 요소 가져오기\n",
    "print(list2[2 : 4]) # 2 ~ 3\n",
    "\n",
    "# 요소 추가하기 : append(요소), insert(인덱스 번호, 요소)\n",
    "list2.append(7)\n",
    "list2.insert(0, 1)\n",
    "print(list2)\n",
    "list2[4] = 500\n",
    "print(list2)\n",
    "# 요소 삭제하기 del 리스트명[인덱스 번호], 리스트명.remove(요소)\n",
    "del list2[5]\n",
    "list2.remove(500)\n",
    "print(list2)\n",
    "# 리스트 길이 반환\n",
    "print(len(list2))"
   ]
  },
  {
   "cell_type": "code",
   "execution_count": 15,
   "id": "20ec741f-0571-4cc8-b608-7215a4624618",
   "metadata": {},
   "outputs": [
    {
     "name": "stdout",
     "output_type": "stream",
     "text": [
      "4\n",
      "(4, 5)\n",
      "5\n"
     ]
    }
   ],
   "source": [
    "# 튜플\n",
    "# 리스트 대비 추가, 수정, 삭제가 되지 않음\n",
    "tuple2 = (2, 3, 4, 5, 6)\n",
    "print(tuple2[2])\n",
    "print(tuple2[2 : 4])\n",
    "# tuple2[2] = 400 # 재할당 불가\n",
    "print(len(tuple2))\n"
   ]
  },
  {
   "cell_type": "code",
   "execution_count": 30,
   "id": "5f1c3eae-8c9a-465e-9fab-0fcff2d299fe",
   "metadata": {},
   "outputs": [
    {
     "name": "stdout",
     "output_type": "stream",
     "text": [
      "{'이름': '이성균', '나이': 20, 'mbti': 'INTP', 'course': ['python', '프로젝트']}\n",
      "INTP\n",
      "20\n",
      "{'이름': '이성균', '나이': 20, 'mbti': 'INTP', 'course': ['python', '프로젝트'], '점심메뉴': '돈까스'}\n",
      "{'이름': '이성균', '나이': 20, 'mbti': 'INTP', 'course': ['python', '프로젝트'], '점심메뉴': '짬뽕'}\n",
      "{'이름': '이성균', 'mbti': 'INTP', 'course': ['python', '프로젝트'], '점심메뉴': '짬뽕'}\n",
      "['이름', 'mbti', 'course', '점심메뉴']\n",
      "['이성균', 'INTP', ['python', '프로젝트'], '짬뽕']\n",
      "[('이름', '이성균'), ('mbti', 'INTP'), ('course', ['python', '프로젝트']), ('점심메뉴', '짬뽕')]\n",
      "True\n"
     ]
    }
   ],
   "source": [
    "# 딕셔너리\n",
    "# key-value 쌍으로 이루어진 자료구조\n",
    "# {}로 이루어져 있다\n",
    "# API 통신에 사용 된다\n",
    "dic2 = {\n",
    "    \"이름\" : \"이성균\",\n",
    "    \"나이\" : 20,\n",
    "    \"mbti\" : \"INTP\",\n",
    "    \"course\" : [\"python\", \"프로젝트\"]\n",
    "}\n",
    "print(dic2)\n",
    "\n",
    "# key를 통해 value 접근\n",
    "print(dic2[\"mbti\"])\n",
    "print(dic2.get(\"나이\"))\n",
    "\n",
    "# 새로운 key-value 쌍 추가\n",
    "dic2[\"점심메뉴\"] = \"돈까스\"\n",
    "print(dic2)\n",
    "\n",
    "# key를 통해 value 수정\n",
    "dic2[\"점심메뉴\"] = \"짬뽕\"\n",
    "print(dic2)\n",
    "\n",
    "# 딕셔너리 key-value 삭제\n",
    "del dic2[\"나이\"]\n",
    "print(dic2)\n",
    "\n",
    "# 딕셔너리 모든 key 가져오기\n",
    "print(list(dic2.keys()))\n",
    "\n",
    "# 딕셔너리 모든 value 가져오기\n",
    "print(list(dic2.values()))\n",
    "\n",
    "# 딕셔너리 모든 key-value 가져오기\n",
    "print(list(dic2.items()))\n",
    "\n",
    "# 딕셔너리 특정 key 찾기\n",
    "print(\"이름\" in dic2)"
   ]
  },
  {
   "cell_type": "code",
   "execution_count": 37,
   "id": "8815d150-57f5-4347-a5e3-de528132f2a4",
   "metadata": {},
   "outputs": [
    {
     "name": "stdout",
     "output_type": "stream",
     "text": [
      "{1, 2, 3, 4, 5}\n",
      "중복 제거 전 :  [1, 2, 3, 3, 4, 5, 5, 5]\n",
      "중복 제거 후 :  [1, 2, 3, 4, 5]\n",
      "setA : {1, 2, 3, 4, 5}\n",
      "setB : {4, 5, 6, 7, 8}\n",
      "교집합 : {4, 5}\n",
      "합집합 : {1, 2, 3, 4, 5, 6, 7, 8}\n",
      "차집합 : {1, 2, 3}\n"
     ]
    }
   ],
   "source": [
    "# 세트(Set)\n",
    "# 중복을 허용하지 않는 자료구조\n",
    "# 특징\n",
    "# 순서가 없다. : 메모리상에 올라갈 때 주소값이 연속적이지 않다.\n",
    "# {}로 표기하면서 key-value가 없으면 Set\n",
    "# 중복 제거, 교집합, 합집합, 차집합\n",
    "\n",
    "set2 = {1, 2, 3, 3, 4, 5, 5, 5}\n",
    "print(set2)\n",
    "\n",
    "# 중복 제거 용도로 사용\n",
    "list3 = [1, 2, 3, 3, 4, 5, 5, 5]\n",
    "print(\"중복 제거 전 : \", list3)\n",
    "list3 = list(set(list3))\n",
    "print(\"중복 제거 후 : \", list3)\n",
    "\n",
    "set_A = {1, 2, 3, 4, 5}\n",
    "set_B = {4, 5, 6, 7, 8}\n",
    "\n",
    "print(\"setA :\",set_A)\n",
    "print(\"setB :\",set_B)\n",
    "\n",
    "# 교집합 (&)\n",
    "print(\"교집합 :\", set_A & set_B)\n",
    "\n",
    "# 합집합 ( | )\n",
    "print(\"합집합 :\", set_A | set_B)\n",
    "\n",
    "# 차집합 ( - )\n",
    "print(\"차집합 :\", set_A - set_B)"
   ]
  },
  {
   "cell_type": "code",
   "execution_count": 58,
   "id": "46d5465d-321e-412e-84c3-47079218a8e9",
   "metadata": {},
   "outputs": [],
   "source": [
    "# numpy (Numerical Python)\n",
    "# 계산 및 데이터 분석 라이브러리\n",
    "# 다차원배열 (ndarray)\n",
    "# N-dimensional Array : 벡터 연산을 통해 리스트보다 훨씬 빠름\n",
    "# 대량 데이터 기준 100배 이상\n",
    "# 백만개 기준 75배\n",
    "# C언어 기반 Logic, 모든 요소에 대해 동시 연산"
   ]
  },
  {
   "cell_type": "code",
   "execution_count": 61,
   "id": "af987305-b0e4-465e-b880-8bfb9d79bda1",
   "metadata": {},
   "outputs": [
    {
     "name": "stdout",
     "output_type": "stream",
     "text": [
      "걸린 시간 : 0.11077초\n"
     ]
    }
   ],
   "source": [
    "# 눈으로 시간 확인해보자\n",
    "import time\n",
    "list_C = list(range(1000000))\n",
    "list_D = list(range(1000000))\n",
    "\n",
    "list_result = [0] * 1000000\n",
    "\n",
    "list_start = time.time()\n",
    "for i in range(len(list_C)):\n",
    "    list_result = list_C[i] + list_D[i]\n",
    "list_end = time.time()\n",
    "print(f\"걸린 시간 : {list_end - list_start :.5f}초\")"
   ]
  },
  {
   "cell_type": "code",
   "execution_count": 91,
   "id": "b3e3757c-b0a3-47bf-88df-5c7a95898918",
   "metadata": {},
   "outputs": [
    {
     "name": "stdout",
     "output_type": "stream",
     "text": [
      "걸린 시간 : 0.00199초\n"
     ]
    }
   ],
   "source": [
    "arr_C = np.arange(1000000)\n",
    "arr_D = np.arange(1000000)\n",
    "\n",
    "arr_start = time.time()\n",
    "arr_result = arr_C + arr_D\n",
    "arr_end = time.time()\n",
    "print(f\"걸린 시간 : {arr_end - arr_start :.5f}초\")"
   ]
  },
  {
   "cell_type": "code",
   "execution_count": 57,
   "id": "5212aef0-aab6-40ae-96fe-4e3304abd04e",
   "metadata": {},
   "outputs": [
    {
     "name": "stdout",
     "output_type": "stream",
     "text": [
      "[1 2 3 4 5]\n",
      "[[1 2 3]\n",
      " [4 5 6]]\n",
      "(2, 3)\n",
      "2\n",
      "arr2의 요소 타입 :  int64\n",
      "[[0. 0. 0.]\n",
      " [0. 0. 0.]]\n",
      "[[1. 1. 1.]\n",
      " [1. 1. 1.]]\n",
      "[0 1 2 3 4 5 6 7 8 9]\n"
     ]
    }
   ],
   "source": [
    "import numpy as np\n",
    "# as (alias) 별칭 : 해당 라이브러리 다음과 같이 부르겠다\n",
    "# 리스트로부터 ndarray 만들기\n",
    "\n",
    "# ndarray 혹은 배열이라고 부름\n",
    "list4 = [1, 2, 3, 4, 5]\n",
    "arr1 = np.array(list4)\n",
    "print(arr1)\n",
    "\n",
    "# 2차원 배열\n",
    "list5 = [[1, 2, 3], [4, 5, 6]]\n",
    "arr2 = np.array(list5)\n",
    "print(arr2)\n",
    "\n",
    "# 배열의 속성 확인하기\n",
    "# shape : (행(row), 열(column))\n",
    "print(arr2.shape)\n",
    "# ndim : 차원       -------- \n",
    "print(arr2.ndim)\n",
    "# dtype : 배열 요소의 타입\n",
    "print(\"arr2의 요소 타입 : \", arr2.dtype)\n",
    "\n",
    "# 특별한 형태의 배열 형성\n",
    "# 모든 요소가 0인 배열\n",
    "zeros_arr = np.zeros((2, 3)) # 2행 3열로 전부 0\n",
    "print(zeros_arr)\n",
    "\n",
    "# 모든 요소가 1인 배열\n",
    "ones_arr = np.ones((2, 3)) # 2행 3열로 전부 1\n",
    "print(ones_arr)\n",
    "\n",
    "# 특정 범위로 배열 설정\n",
    "range_arr = np.arange(10) # 0 ~ 9까지\n",
    "print(range_arr)\n",
    "\n"
   ]
  },
  {
   "cell_type": "code",
   "execution_count": 113,
   "id": "bbb9a84a-0ce2-4bdd-9aeb-468d331b3127",
   "metadata": {
    "scrolled": true
   },
   "outputs": [
    {
     "name": "stdout",
     "output_type": "stream",
     "text": [
      "[[1 2 3]\n",
      " [4 5 6]\n",
      " [7 8 9]]\n",
      "arr3의 1행 2열 : 2\n",
      "arr3의 2행 2열 ~ 3행 3열 :\n",
      " [[5 6]\n",
      " [8 9]]\n",
      "arr3의 1행 모든 열:  [1 2 3]\n",
      "bool\n",
      "arr3 요소 중 5 이상 :\n",
      " [6 7 8 9]\n",
      "arr3 요소 중 짝수 :\n",
      " [2 4 6 8]\n",
      "배열 덧셈 : \n",
      " [[ 6  8]\n",
      " [10 12]]\n",
      "배열 뺄셈 : \n",
      " [[-4 -4]\n",
      " [-4 -4]]\n",
      "배열 곱셈 : \n",
      " [[ 5 12]\n",
      " [21 32]]\n",
      "배열 나눗셈 : \n",
      " [[0.2        0.33333333]\n",
      " [0.42857143 0.5       ]]\n",
      "배열에 10 더하기: \n",
      " [[11 12]\n",
      " [13 14]]\n"
     ]
    }
   ],
   "source": [
    "# 배열의 인덱싱 및 슬라이싱\n",
    "# 리스트의 인덱싱과 슬라이싱과 유사\n",
    "# 배열에서는 차원별 접근\n",
    "\n",
    "arr3 = np.array([[1, 2, 3],\n",
    "                 [4, 5, 6],\n",
    "                 [7, 8, 9]])\n",
    "print(arr3)\n",
    "\n",
    "# 1) 인덱싱\n",
    "# 1행 2열의 요소 가져오기\n",
    "print(\"arr3의 1행 2열 :\", arr3[0, 1])\n",
    "\n",
    "# 2) 슬라이싱\n",
    "# 2행 2열 ~ 3행 3열\n",
    "print(\"arr3의 2행 2열 ~ 3행 3열 :\\n\",arr3[1 : , 1 : ])\n",
    "# 행만 따졌을 때, 2행 ~ 3행 (인덱스 1부터 인덱스 3 미만)\n",
    "# 열만 따졌을 때, 2열 ~ 3열 (인덱스 1부터 인덱스 3 미만)\n",
    "\n",
    "# 1행의 모든 열\n",
    "print(\"arr3의 1행 모든 열: \", arr3[0, :])\n",
    "# 슬라이싱 시 : 기준 [시작 인덱스 : 끝 인덱스] , 시작 생략 시 처음부터, 끝 생략 시 끝까지\n",
    "# 3) Boolean 인덱싱 (가장 중요)\n",
    "# 특정 조건을 만족하는 요소들만 추출\n",
    "arr3 >= 5 # 해당 결과는 동일한 (행, 열)을 가지는 True, False 논리형 배열\n",
    "print((arr3 > 5).dtype) # 모든 요소가 boolean 타입\n",
    "print(\"arr3 요소 중 5 이상 :\\n\",arr3[arr3 > 5]) # 해당 Boolean 연산 시 True만 가져올 수 있다\n",
    "\n",
    "# Q. arr3의 요소 중 짝수만 출력\n",
    "print(\"arr3 요소 중 짝수 :\\n\",arr3[arr3 % 2 ==  0])\n",
    "\n",
    "# 4) 배열 간 연산\n",
    "arr_A = np.array([[1, 2], [3, 4]])\n",
    "arr_B = np.array([[5, 6], [7, 8]])\n",
    "\n",
    "print(\"배열 덧셈 : \\n\", arr_A + arr_B) # 배열 덧셈\n",
    "print(\"배열 뺄셈 : \\n\", arr_A - arr_B) # 배열 뺄셈\n",
    "print(\"배열 곱셈 : \\n\", arr_A * arr_B) # 배열 곱셈\n",
    "print(\"배열 나눗셈 : \\n\", arr_A / arr_B) # 배열 나눗셈\n",
    "\n",
    "# 스칼라 연산\n",
    "print(\"배열에 10 더하기: \\n\", arr_A + 10)"
   ]
  },
  {
   "cell_type": "code",
   "execution_count": 131,
   "id": "81c5f6c5-8417-4ebb-9f07-dc815566e79f",
   "metadata": {},
   "outputs": [
    {
     "name": "stdout",
     "output_type": "stream",
     "text": [
      "원본 배열 :  [ 0  1  2  3  4  5  6  7  8  9 10 11]\n",
      "3행 4열 :\n",
      " [[ 0  1  2  3]\n",
      " [ 4  5  6  7]\n",
      " [ 8  9 10 11]]\n",
      "[[ 0  1  2  3  4  5]\n",
      " [ 6  7  8  9 10 11]]\n",
      "전체 합계 : \n",
      " 66\n",
      "전체 평균 : \n",
      " 5.5\n",
      "최대값 : \n",
      " 11\n",
      "최소값 : \n",
      " 0\n",
      "각 행의 합계 : [ 6 22 38]\n",
      "랜덤 배열(0 ~ 1) :\n",
      " [[0.03164803 0.71510529 0.55959225]\n",
      " [0.87560199 0.50160227 0.84806442]\n",
      " [0.14281359 0.04213349 0.58722199]]\n",
      "표준정규분포 (0 ~ 1) : \n",
      " [[-2.12749488  0.30056697 -1.10569452]\n",
      " [-0.54032812 -0.9229899  -1.65338841]\n",
      " [ 0.92776215 -0.60377165  1.44484572]]\n"
     ]
    }
   ],
   "source": [
    "# 배열 응용\n",
    "# 형태 변경 reshape()\n",
    "arr4 = np.arange(12) # 0 ~ 11, 1차원 배열\n",
    "print(\"원본 배열 : \",arr4)\n",
    "\n",
    "arr5 = arr4.reshape(3, 4) # 3행 4열로 변경\n",
    "print(\"3행 4열 :\\n\", arr5)\n",
    "\n",
    "np.arange(1, 5).reshape(2, 2)\n",
    "\n",
    "arr6 = arr4.reshape(2, -1) # 모를 때 -1을 쓰자\n",
    "print(arr6)\n",
    "\n",
    "# 기본 통계 함수\n",
    "print(\"전체 합계 : \\n\", arr5.sum())\n",
    "print(\"전체 평균 : \\n\", arr5.mean())\n",
    "print(\"최대값 : \\n\", arr5.max())\n",
    "print(\"최소값 : \\n\", arr5.min())\n",
    "\n",
    "# 축(axis)을 이용한 연산\n",
    "# 각 행의 합계\n",
    "print(\"각 행의 합계 :\", arr5.sum(axis=1)) # axis = 1(행끼리), 0(열끼리)\n",
    "\n",
    "# 난수 생성\n",
    "# 3 x 3 배열을 0 ~ 1 사이에서 생성\n",
    "arr7 = np.random.rand(3, 3)\n",
    "print(\"랜덤 배열(0 ~ 1) :\\n\", arr7)\n",
    "\n",
    "# 3 x 3 배열을 0 ~ 1 사이에서 생성(단, 표준정규분포를 따라라(평균 0, 표준편차 1))\n",
    "arr8 = np.random.randn(3, 3)\n",
    "print(\"표준정규분포 (0 ~ 1) : \\n\", arr8)"
   ]
  },
  {
   "cell_type": "code",
   "execution_count": 137,
   "id": "5fab5d9a-47a8-413b-8898-d7a350c537b1",
   "metadata": {},
   "outputs": [
    {
     "name": "stdin",
     "output_type": "stream",
     "text": [
      "첫 번째 정수 입력 :  \n"
     ]
    },
    {
     "name": "stdout",
     "output_type": "stream",
     "text": [
      "숫자를 입력해주세요\n",
      "프로그램 종료\n"
     ]
    }
   ],
   "source": [
    "# python 에서 예외 처리\n",
    "# Error class\n",
    "# 두 개의 정수를 입력 받아\n",
    "# 두 개의 정수가 첫 번째 정수의 약수이면\n",
    "# \"약수입니다\"\n",
    "# 아니면 \"약수가 아닙니다\"\n",
    "\n",
    "# 예외 처리 try - except\n",
    "try:\n",
    "    num1 = int(input(\"첫 번째 정수 입력 : \"))\n",
    "    num2 = int(input(\"두 번째 정수 입력 : \"))\n",
    "    print(\"약수입니다\" if num1 % num2 == 0 else \"약수가 아닙니다\")\n",
    "except ZeroDivisionError:\n",
    "    print(\"0으로 나눌 수 없습니다.\")\n",
    "except ValueError:\n",
    "    print(\"숫자를 입력해주세요\")\n",
    "except:\n",
    "    print(\"내가 모르는 에러\")\n",
    "finally: # 에러가 발생하든지 하지 않든지 무조건 진행\n",
    "    print(\"프로그램 종료\")"
   ]
  },
  {
   "cell_type": "code",
   "execution_count": 155,
   "id": "e6791cd5-3144-4f7e-bd31-0ac93296297b",
   "metadata": {},
   "outputs": [],
   "source": [
    "# 전송 Data\n",
    "# CSV, XML, JSON\n",
    "\n",
    "# 1) CSV\n",
    "import csv\n",
    "\n",
    "# 이름, 나이, mbti\n",
    "# 이성균, 20, INTP\n",
    "# 수지, 20 , INFP\n",
    "\n",
    "# 우리의 workspace 안에 저장\n",
    "# open(경로, 모드)\n",
    "# 모드 : w(write), r(read), a(파일이 없으면 write, 있으면 덮어쓰기)\n",
    "# 경로는 현재 경로부터 출발\n",
    "file = open(\"member.csv\", \"w\", newline=\"\")\n",
    "writer = csv.writer(file)\n",
    "header = [\"이름\", \"나이\", \"mbti\"]\n",
    "writer.writerow(header)\n",
    "writer.writerow([\"이성균\", 20, \"INTP\"])\n",
    "writer.writerow([\"수지\", 30, \"INFP\"])\n",
    "\n",
    "# 필수, 중요\n",
    "# 통로를 열었으면 닫자\n",
    "# 통로를 열었으면 닫자\n",
    "# 통로를 열었으면 닫자\n",
    "file.close()"
   ]
  },
  {
   "cell_type": "code",
   "execution_count": 156,
   "id": "d372b368-1064-4112-9361-6e96594ecd4c",
   "metadata": {
    "scrolled": true
   },
   "outputs": [
    {
     "name": "stdout",
     "output_type": "stream",
     "text": [
      "['이름', '나이', 'mbti']\n",
      "['이성균', '20', 'INTP']\n",
      "['수지', '30', 'INFP']\n",
      "[{'이름': '이성균', '나이': '20', 'mbti': 'INTP'}, {'이름': '수지', '나이': '30', 'mbti': 'INFP'}]\n",
      "50\n"
     ]
    }
   ],
   "source": [
    "# csv read\n",
    "# close() 사용하지 않는 이슈를 방지하기 위해\n",
    "# with ~open()\n",
    "with open(\"member.csv\", \"r\") as file:\n",
    "    reader = csv.reader(file)\n",
    "    for row in reader:\n",
    "        print(row)\n",
    "dic_list = []\n",
    "with open(\"member.csv\", \"r\") as file:\n",
    "    reader = csv.DictReader(file)\n",
    "    for row in reader:\n",
    "        dic_list.append(row)\n",
    "print(dic_list)\n",
    "\n",
    "# dic_list안에 \"나이\" key를 통해서 모든 나이의 총합\n",
    "age_total = 0\n",
    "for member in dic_list:\n",
    "    age_total += int(member[\"나이\"])\n",
    "print(age_total)"
   ]
  },
  {
   "cell_type": "code",
   "execution_count": 157,
   "id": "fc034b32-09e8-4e9d-bc28-dbb7f675cd38",
   "metadata": {
    "scrolled": true
   },
   "outputs": [
    {
     "name": "stderr",
     "output_type": "stream",
     "text": [
      "  % Total    % Received % Xferd  Average Speed   Time    Time     Time  Current\n",
      "                                 Dload  Upload   Total   Spent    Left  Speed\n",
      "\n",
      "  0     0    0     0    0     0      0      0 --:--:-- --:--:-- --:--:--     0\n",
      "  0     0    0     0    0     0      0      0 --:--:-- --:--:-- --:--:--     0\n",
      "\n",
      "100 44028  100 44028    0     0   375k      0 --:--:-- --:--:-- --:--:--  375k\n"
     ]
    }
   ],
   "source": [
    "!curl -L https://gist.github.com/armgilles/194bcff35001e7eb53a2a8b441e8b2c6/raw/92200bc0a673d5ce2110aaad4544ed6c4010f687/pokemon.csv -o pokemon.csv"
   ]
  },
  {
   "cell_type": "code",
   "execution_count": 169,
   "id": "3bb1b28c-96e5-4831-becf-c14fc3696420",
   "metadata": {},
   "outputs": [
    {
     "name": "stdout",
     "output_type": "stream",
     "text": [
      "1세대 포켓몬 Total 평균 : \n",
      "426.81325301204816\n"
     ]
    }
   ],
   "source": [
    "pokemon_list = []\n",
    "with open(\"pokemon.csv\", \"r\", encoding=\"UTF-8\") as file:\n",
    "    reader = csv.DictReader(file)\n",
    "    for row in reader:\n",
    "        pokemon_list.append(row)\n",
    "# 1세대 포켓몬의 Total의 평균 구해주세요\n",
    "print(\"1세대 포켓몬 Total 평균 : \")\n",
    "\n",
    "total_generation_1 = 0\n",
    "count_generation_1 = 0\n",
    "# 첫 번째 포켓몬이 만약, 1세대라면 Total\n",
    "for i in range(len(pokemon_list)):\n",
    "    if pokemon_list[i][\"Generation\"] == \"1\":\n",
    "        total_generation_1 += int(pokemon_list[i][\"Total\"])\n",
    "        count_generation_1 += 1\n",
    "print(total_generation_1/count_generation_1)"
   ]
  },
  {
   "cell_type": "code",
   "execution_count": 171,
   "id": "dcc0e525-a480-4aed-9654-70977f7dbf52",
   "metadata": {},
   "outputs": [
    {
     "data": {
      "text/plain": [
       "<Response [200]>"
      ]
     },
     "execution_count": 171,
     "metadata": {},
     "output_type": "execute_result"
    }
   ],
   "source": [
    "# XML 재밌는 실습\n",
    "\n",
    "import requests\n",
    "MY_API_KEY = \"7077141e402b34395ff1bda2f711ff5c\"\n",
    "date = \"20250907\"\n",
    "url_movie = f\"https://kobis.or.kr/kobisopenapi/webservice/rest/boxoffice/searchDailyBoxOfficeList.xml?key={MY_API_KEY}&targetDt={date}\"\n",
    "\n",
    "response = requests.get(url_movie)\n",
    "response\n"
   ]
  },
  {
   "cell_type": "code",
   "execution_count": 173,
   "id": "3655cb1b-33de-4efb-92a0-de52383b3ed5",
   "metadata": {},
   "outputs": [
    {
     "data": {
      "text/plain": [
       "'<?xml version=\"1.0\" encoding=\"utf-8\" standalone=\"yes\"?><boxOfficeResult><boxofficeType>일별 박스오피스</boxofficeType><showRange>20250907~20250907</showRange><dailyBoxOfficeList><dailyBoxOffice><rnum>1</rnum><rank>1</rank><rankInten>0</rankInten><rankOldAndNew>OLD</rankOldAndNew><movieCd>20253289</movieCd><movieNm>극장판 귀멸의 칼날: 무한성편</movieNm><openDt>2025-08-22</openDt><salesAmt>1921616300</salesAmt><salesShare>46.8</salesShare><salesInten>-434451800</salesInten><salesChange>-18.4</salesChange><salesAcc>42762691970</salesAcc><audiCnt>179724</audiCnt><audiInten>-39259</audiInten><audiChange>-17.9</audiChange><audiAcc>3957581</audiAcc><scrnCnt>1532</scrnCnt><showCnt>5142</showCnt></dailyBoxOffice><dailyBoxOffice><rnum>2</rnum><rank>2</rank><rankInten>0</rankInten><rankOldAndNew>OLD</rankOldAndNew><movieCd>20256702</movieCd><movieNm>컨저링: 마지막 의식</movieNm><openDt>2025-09-03</openDt><salesAmt>562126020</salesAmt><salesShare>13.7</salesShare><salesInten>-188454210</salesInten><salesChange>-25.1</salesChange><salesAcc>2395918040</salesAcc><audiCnt>54256</audiCnt><audiInten>-17959</audiInten><audiChange>-24.9</audiChange><audiAcc>233111</audiAcc><scrnCnt>897</scrnCnt><showCnt>2105</showCnt></dailyBoxOffice><dailyBoxOffice><rnum>3</rnum><rank>3</rank><rankInten>0</rankInten><rankOldAndNew>OLD</rankOldAndNew><movieCd>20233039</movieCd><movieNm>살인자 리포트</movieNm><openDt>2025-09-05</openDt><salesAmt>522759670</salesAmt><salesShare>12.7</salesShare><salesInten>-71019230</salesInten><salesChange>-12</salesChange><salesAcc>1488933300</salesAcc><audiCnt>53241</audiCnt><audiInten>-7385</audiInten><audiChange>-12.2</audiChange><audiAcc>152738</audiAcc><scrnCnt>770</scrnCnt><showCnt>2439</showCnt></dailyBoxOffice><dailyBoxOffice><rnum>4</rnum><rank>4</rank><rankInten>1</rankInten><rankOldAndNew>OLD</rankOldAndNew><movieCd>20241941</movieCd><movieNm>좀비딸</movieNm><openDt>2025-07-30</openDt><salesAmt>318005730</salesAmt><salesShare>7.7</salesShare><salesInten>-53563640</salesInten><salesChange>-14.4</salesChange><salesAcc>52109883180</salesAcc><audiCnt>32982</audiCnt><audiInten>-5432</audiInten><audiChange>-14.1</audiChange><audiAcc>5498890</audiAcc><scrnCnt>754</scrnCnt><showCnt>1629</showCnt></dailyBoxOffice><dailyBoxOffice><rnum>5</rnum><rank>5</rank><rankInten>-1</rankInten><rankOldAndNew>OLD</rankOldAndNew><movieCd>20254501</movieCd><movieNm>F1 더 무비</movieNm><openDt>2025-06-25</openDt><salesAmt>316834320</salesAmt><salesShare>7.7</salesShare><salesInten>-72752190</salesInten><salesChange>-18.7</salesChange><salesAcc>52675533350</salesAcc><audiCnt>31657</audiCnt><audiInten>-7002</audiInten><audiChange>-18.1</audiChange><audiAcc>4914286</audiAcc><scrnCnt>640</scrnCnt><showCnt>1286</showCnt></dailyBoxOffice><dailyBoxOffice><rnum>6</rnum><rank>6</rank><rankInten>0</rankInten><rankOldAndNew>OLD</rankOldAndNew><movieCd>20256281</movieCd><movieNm>첫사랑 엔딩</movieNm><openDt>2025-08-27</openDt><salesAmt>102632790</salesAmt><salesShare>2.5</salesShare><salesInten>5631370</salesInten><salesChange>5.8</salesChange><salesAcc>1041307600</salesAcc><audiCnt>10512</audiCnt><audiInten>536</audiInten><audiChange>5.4</audiChange><audiAcc>109643</audiAcc><scrnCnt>292</scrnCnt><showCnt>395</showCnt></dailyBoxOffice><dailyBoxOffice><rnum>7</rnum><rank>7</rank><rankInten>1</rankInten><rankOldAndNew>OLD</rankOldAndNew><movieCd>20256741</movieCd><movieNm>아기돼지 3형제: 도넛별 대모험</movieNm><openDt>2025-09-04</openDt><salesAmt>44551800</salesAmt><salesShare>1.1</salesShare><salesInten>4675400</salesInten><salesChange>11.7</salesChange><salesAcc>121950800</salesAcc><audiCnt>5097</audiCnt><audiInten>575</audiInten><audiChange>12.7</audiChange><audiAcc>13657</audiAcc><scrnCnt>271</scrnCnt><showCnt>302</showCnt></dailyBoxOffice><dailyBoxOffice><rnum>8</rnum><rank>8</rank><rankInten>-1</rankInten><rankOldAndNew>OLD</rankOldAndNew><movieCd>20256071</movieCd><movieNm>투게더</movieNm><openDt>2025-09-03</openDt><salesAmt>39782800</salesAmt><salesShare>1.0</salesShare><salesInten>-15372700</salesInten><salesChange>-27.9</salesChange><salesAcc>242510200</salesAcc><audiCnt>4325</audiCnt><audiInten>-1721</audiInten><audiChange>-28.5</audiChange><audiAcc>29036</audiAcc><scrnCnt>215</scrnCnt><showCnt>480</showCnt></dailyBoxOffice><dailyBoxOffice><rnum>9</rnum><rank>9</rank><rankInten>0</rankInten><rankOldAndNew>OLD</rankOldAndNew><movieCd>20256701</movieCd><movieNm>긴키 지방의 어느 장소에 대하여</movieNm><openDt>2025-08-13</openDt><salesAmt>30640330</salesAmt><salesShare>0.7</salesShare><salesInten>-7495670</salesInten><salesChange>-19.7</salesChange><salesAcc>2742780000</salesAcc><audiCnt>2957</audiCnt><audiInten>-731</audiInten><audiChange>-19.8</audiChange><audiAcc>268545</audiAcc><scrnCnt>130</scrnCnt><showCnt>171</showCnt></dailyBoxOffice><dailyBoxOffice><rnum>10</rnum><rank>10</rank><rankInten>0</rankInten><rankOldAndNew>OLD</rankOldAndNew><movieCd>20254275</movieCd><movieNm>킹 오브 킹스</movieNm><openDt>2025-07-16</openDt><salesAmt>19361200</salesAmt><salesShare>0.5</salesShare><salesInten>-4828750</salesInten><salesChange>-20</salesChange><salesAcc>12289462426</salesAcc><audiCnt>1993</audiCnt><audiInten>-538</audiInten><audiChange>-21.3</audiChange><audiAcc>1302743</audiAcc><scrnCnt>85</scrnCnt><showCnt>88</showCnt></dailyBoxOffice></dailyBoxOfficeList></boxOfficeResult>'"
      ]
     },
     "execution_count": 173,
     "metadata": {},
     "output_type": "execute_result"
    }
   ],
   "source": [
    "# 응답 객체를 다루는 3가지 방법\n",
    "# response.text # 문자열\n",
    "# response.content # byte (파일, 이미지)\n",
    "# response.sjon() # json (dictionary)\n",
    "result = response.text\n",
    "result\n"
   ]
  },
  {
   "cell_type": "code",
   "execution_count": 198,
   "id": "292fe20c-ceeb-4759-814e-e7af041a3209",
   "metadata": {},
   "outputs": [
    {
     "name": "stdout",
     "output_type": "stream",
     "text": [
      "1위 : 극장판 귀멸의 칼날: 무한성편 179724명 / 3957581명\n",
      "2위 : 컨저링: 마지막 의식 54256명 / 233111명\n",
      "3위 : 살인자 리포트 53241명 / 152738명\n",
      "4위 : 좀비딸 32982명 / 5498890명\n",
      "5위 : F1 더 무비 31657명 / 4914286명\n",
      "6위 : 첫사랑 엔딩 10512명 / 109643명\n",
      "7위 : 아기돼지 3형제: 도넛별 대모험 5097명 / 13657명\n",
      "8위 : 투게더 4325명 / 29036명\n",
      "9위 : 긴키 지방의 어느 장소에 대하여 2957명 / 268545명\n",
      "10위 : 킹 오브 킹스 1993명 / 1302743명\n"
     ]
    }
   ],
   "source": [
    "import xml.etree.ElementTree as ET\n",
    "root = ET.fromstring(result)\n",
    "# find(\"태그 이름\") -> <태그 이름>내용</태그 이름>\n",
    "# root.findall(\".//movieNm\")[0].text # .// 하위 태그 전부 탐색\n",
    "\n",
    "for movie in root.findall(\".//dailyBoxOffice\"):\n",
    "    # rank, movieNm, audiCnt, audiAcc\n",
    "    rank = movie.find(\"rank\").text\n",
    "    movieNm = movie.find(\"movieNm\").text\n",
    "    audiCnt = movie.find(\"audiCnt\").text\n",
    "    audiAcc = movie.find(\"audiAcc\").text\n",
    "    print(f\"{rank}위 : {movieNm} {audiCnt}명 / {audiAcc}명\")"
   ]
  },
  {
   "cell_type": "code",
   "execution_count": 205,
   "id": "4bf83f13-6368-4d71-a3cc-fd46df725fa6",
   "metadata": {
    "scrolled": true
   },
   "outputs": [
    {
     "data": {
      "text/html": [
       "<div>\n",
       "<style scoped>\n",
       "    .dataframe tbody tr th:only-of-type {\n",
       "        vertical-align: middle;\n",
       "    }\n",
       "\n",
       "    .dataframe tbody tr th {\n",
       "        vertical-align: top;\n",
       "    }\n",
       "\n",
       "    .dataframe thead th {\n",
       "        text-align: right;\n",
       "    }\n",
       "</style>\n",
       "<table border=\"1\" class=\"dataframe\">\n",
       "  <thead>\n",
       "    <tr style=\"text-align: right;\">\n",
       "      <th></th>\n",
       "      <th>Name</th>\n",
       "      <th>Age</th>\n",
       "      <th>MBTI</th>\n",
       "    </tr>\n",
       "  </thead>\n",
       "  <tbody>\n",
       "    <tr>\n",
       "      <th>0</th>\n",
       "      <td>이성균</td>\n",
       "      <td>20</td>\n",
       "      <td>INTP</td>\n",
       "    </tr>\n",
       "    <tr>\n",
       "      <th>1</th>\n",
       "      <td>장원영</td>\n",
       "      <td>21</td>\n",
       "      <td>INFP</td>\n",
       "    </tr>\n",
       "    <tr>\n",
       "      <th>2</th>\n",
       "      <td>카리나</td>\n",
       "      <td>23</td>\n",
       "      <td>ESTP</td>\n",
       "    </tr>\n",
       "    <tr>\n",
       "      <th>3</th>\n",
       "      <td>설윤</td>\n",
       "      <td>25</td>\n",
       "      <td>ISTJ</td>\n",
       "    </tr>\n",
       "  </tbody>\n",
       "</table>\n",
       "</div>"
      ],
      "text/plain": [
       "  Name  Age  MBTI\n",
       "0  이성균   20  INTP\n",
       "1  장원영   21  INFP\n",
       "2  카리나   23  ESTP\n",
       "3   설윤   25  ISTJ"
      ]
     },
     "execution_count": 205,
     "metadata": {},
     "output_type": "execute_result"
    }
   ],
   "source": [
    "# Pandas\n",
    "# 2차원 데이터(테이블 형태)를 다루는 데 특화된 라이브러리\n",
    "# 2차원 데이터 : DataFrame\n",
    "# 1차원 데이터 : Series\n",
    "\n",
    "import pandas as pd\n",
    "\n",
    "s1 = pd.Series([10, 20, 30, 40], index = ['a', 'b', 'c', 'd'])\n",
    "\n",
    "# 인덱스를 따로 설정하지 않는다면, 0부터 차례로 정해진다\n",
    "# pandas의 Series, DataFrame은 보통 그냥 출력\n",
    "s1['c'] # 시리즈의 인덱스 'c' 가져오기\n",
    "\n",
    "# DataFrame 다루기\n",
    "\n",
    "data = {\n",
    "    \"Name\" : [\"이성균\", \"장원영\", \"카리나\", \"설윤\"],\n",
    "    \"Age\" : [20, 21, 23, 25],\n",
    "    \"MBTI\" :[\"INTP\", \"INFP\", \"ESTP\", \"ISTJ\"]\n",
    "}\n",
    "df = pd.DataFrame(data)\n",
    "df"
   ]
  },
  {
   "cell_type": "code",
   "execution_count": 218,
   "id": "2903c64c-08ce-40c4-baf0-fb63cffcc877",
   "metadata": {
    "scrolled": true
   },
   "outputs": [
    {
     "name": "stdout",
     "output_type": "stream",
     "text": [
      "<class 'pandas.core.frame.DataFrame'>\n",
      "RangeIndex: 800 entries, 0 to 799\n",
      "Data columns (total 13 columns):\n",
      " #   Column      Non-Null Count  Dtype \n",
      "---  ------      --------------  ----- \n",
      " 0   #           800 non-null    int64 \n",
      " 1   Name        800 non-null    object\n",
      " 2   Type 1      800 non-null    object\n",
      " 3   Type 2      414 non-null    object\n",
      " 4   Total       800 non-null    int64 \n",
      " 5   HP          800 non-null    int64 \n",
      " 6   Attack      800 non-null    int64 \n",
      " 7   Defense     800 non-null    int64 \n",
      " 8   Sp. Atk     800 non-null    int64 \n",
      " 9   Sp. Def     800 non-null    int64 \n",
      " 10  Speed       800 non-null    int64 \n",
      " 11  Generation  800 non-null    int64 \n",
      " 12  Legendary   800 non-null    bool  \n",
      "dtypes: bool(1), int64(9), object(3)\n",
      "memory usage: 75.9+ KB\n"
     ]
    },
    {
     "data": {
      "text/html": [
       "<div>\n",
       "<style scoped>\n",
       "    .dataframe tbody tr th:only-of-type {\n",
       "        vertical-align: middle;\n",
       "    }\n",
       "\n",
       "    .dataframe tbody tr th {\n",
       "        vertical-align: top;\n",
       "    }\n",
       "\n",
       "    .dataframe thead th {\n",
       "        text-align: right;\n",
       "    }\n",
       "</style>\n",
       "<table border=\"1\" class=\"dataframe\">\n",
       "  <thead>\n",
       "    <tr style=\"text-align: right;\">\n",
       "      <th></th>\n",
       "      <th>#</th>\n",
       "      <th>Name</th>\n",
       "      <th>Type 1</th>\n",
       "      <th>Type 2</th>\n",
       "      <th>Total</th>\n",
       "      <th>HP</th>\n",
       "      <th>Attack</th>\n",
       "      <th>Defense</th>\n",
       "      <th>Sp. Atk</th>\n",
       "      <th>Sp. Def</th>\n",
       "      <th>Speed</th>\n",
       "      <th>Generation</th>\n",
       "      <th>Legendary</th>\n",
       "    </tr>\n",
       "  </thead>\n",
       "  <tbody>\n",
       "    <tr>\n",
       "      <th>116</th>\n",
       "      <td>108</td>\n",
       "      <td>Lickitung</td>\n",
       "      <td>Normal</td>\n",
       "      <td>NaN</td>\n",
       "      <td>385</td>\n",
       "      <td>90</td>\n",
       "      <td>55</td>\n",
       "      <td>75</td>\n",
       "      <td>60</td>\n",
       "      <td>75</td>\n",
       "      <td>30</td>\n",
       "      <td>1</td>\n",
       "      <td>False</td>\n",
       "    </tr>\n",
       "    <tr>\n",
       "      <th>489</th>\n",
       "      <td>441</td>\n",
       "      <td>Chatot</td>\n",
       "      <td>Normal</td>\n",
       "      <td>Flying</td>\n",
       "      <td>411</td>\n",
       "      <td>76</td>\n",
       "      <td>65</td>\n",
       "      <td>45</td>\n",
       "      <td>92</td>\n",
       "      <td>42</td>\n",
       "      <td>91</td>\n",
       "      <td>4</td>\n",
       "      <td>False</td>\n",
       "    </tr>\n",
       "    <tr>\n",
       "      <th>632</th>\n",
       "      <td>571</td>\n",
       "      <td>Zoroark</td>\n",
       "      <td>Dark</td>\n",
       "      <td>NaN</td>\n",
       "      <td>510</td>\n",
       "      <td>60</td>\n",
       "      <td>105</td>\n",
       "      <td>60</td>\n",
       "      <td>120</td>\n",
       "      <td>60</td>\n",
       "      <td>105</td>\n",
       "      <td>5</td>\n",
       "      <td>False</td>\n",
       "    </tr>\n",
       "  </tbody>\n",
       "</table>\n",
       "</div>"
      ],
      "text/plain": [
       "       #       Name  Type 1  Type 2  Total  HP  Attack  Defense  Sp. Atk  \\\n",
       "116  108  Lickitung  Normal     NaN    385  90      55       75       60   \n",
       "489  441     Chatot  Normal  Flying    411  76      65       45       92   \n",
       "632  571    Zoroark    Dark     NaN    510  60     105       60      120   \n",
       "\n",
       "     Sp. Def  Speed  Generation  Legendary  \n",
       "116       75     30           1      False  \n",
       "489       42     91           4      False  \n",
       "632       60    105           5      False  "
      ]
     },
     "execution_count": 218,
     "metadata": {},
     "output_type": "execute_result"
    }
   ],
   "source": [
    "# csv로부터 DataFrame 만들기\n",
    "df_pokemon = pd.read_csv(\"pokemon.csv\", encoding=\"UTF-8\")\n",
    "df_pokemon.head() # 상위 5개 데이터 출력\n",
    "df_pokemon.head(2) # 상위 n개 데이터 출력\n",
    "df_pokemon.tail() # 하위 5개 데이터 출력\n",
    "df_pokemon.tail(2) # 하위 n개 데이터 출력\n",
    "df_pokemon.info() # df의 전반적인 정보\n",
    "df_pokemon.describe() # df의 통계적 정보\n",
    "df_pokemon.dtypes # df의 요소별 타입 정보\n",
    "df_pokemon.sample(3) # df의 요소를 랜덤한 데이터 n개 출력"
   ]
  },
  {
   "cell_type": "code",
   "execution_count": 237,
   "id": "a4fe64d2-05a6-43aa-aa50-89191b498a76",
   "metadata": {},
   "outputs": [
    {
     "data": {
      "text/html": [
       "<div>\n",
       "<style scoped>\n",
       "    .dataframe tbody tr th:only-of-type {\n",
       "        vertical-align: middle;\n",
       "    }\n",
       "\n",
       "    .dataframe tbody tr th {\n",
       "        vertical-align: top;\n",
       "    }\n",
       "\n",
       "    .dataframe thead th {\n",
       "        text-align: right;\n",
       "    }\n",
       "</style>\n",
       "<table border=\"1\" class=\"dataframe\">\n",
       "  <thead>\n",
       "    <tr style=\"text-align: right;\">\n",
       "      <th></th>\n",
       "      <th>Name</th>\n",
       "      <th>Type 1</th>\n",
       "      <th>Type 2</th>\n",
       "      <th>Total</th>\n",
       "      <th>HP</th>\n",
       "      <th>Attack</th>\n",
       "      <th>Defense</th>\n",
       "    </tr>\n",
       "  </thead>\n",
       "  <tbody>\n",
       "    <tr>\n",
       "      <th>2</th>\n",
       "      <td>Venusaur</td>\n",
       "      <td>Grass</td>\n",
       "      <td>Poison</td>\n",
       "      <td>525</td>\n",
       "      <td>80</td>\n",
       "      <td>82</td>\n",
       "      <td>83</td>\n",
       "    </tr>\n",
       "    <tr>\n",
       "      <th>3</th>\n",
       "      <td>VenusaurMega Venusaur</td>\n",
       "      <td>Grass</td>\n",
       "      <td>Poison</td>\n",
       "      <td>625</td>\n",
       "      <td>80</td>\n",
       "      <td>100</td>\n",
       "      <td>123</td>\n",
       "    </tr>\n",
       "    <tr>\n",
       "      <th>4</th>\n",
       "      <td>Charmander</td>\n",
       "      <td>Fire</td>\n",
       "      <td>NaN</td>\n",
       "      <td>309</td>\n",
       "      <td>39</td>\n",
       "      <td>52</td>\n",
       "      <td>43</td>\n",
       "    </tr>\n",
       "    <tr>\n",
       "      <th>5</th>\n",
       "      <td>Charmeleon</td>\n",
       "      <td>Fire</td>\n",
       "      <td>NaN</td>\n",
       "      <td>405</td>\n",
       "      <td>58</td>\n",
       "      <td>64</td>\n",
       "      <td>58</td>\n",
       "    </tr>\n",
       "    <tr>\n",
       "      <th>6</th>\n",
       "      <td>Charizard</td>\n",
       "      <td>Fire</td>\n",
       "      <td>Flying</td>\n",
       "      <td>534</td>\n",
       "      <td>78</td>\n",
       "      <td>84</td>\n",
       "      <td>78</td>\n",
       "    </tr>\n",
       "    <tr>\n",
       "      <th>7</th>\n",
       "      <td>CharizardMega Charizard X</td>\n",
       "      <td>Fire</td>\n",
       "      <td>Dragon</td>\n",
       "      <td>634</td>\n",
       "      <td>78</td>\n",
       "      <td>130</td>\n",
       "      <td>111</td>\n",
       "    </tr>\n",
       "    <tr>\n",
       "      <th>8</th>\n",
       "      <td>CharizardMega Charizard Y</td>\n",
       "      <td>Fire</td>\n",
       "      <td>Flying</td>\n",
       "      <td>634</td>\n",
       "      <td>78</td>\n",
       "      <td>104</td>\n",
       "      <td>78</td>\n",
       "    </tr>\n",
       "    <tr>\n",
       "      <th>9</th>\n",
       "      <td>Squirtle</td>\n",
       "      <td>Water</td>\n",
       "      <td>NaN</td>\n",
       "      <td>314</td>\n",
       "      <td>44</td>\n",
       "      <td>48</td>\n",
       "      <td>65</td>\n",
       "    </tr>\n",
       "  </tbody>\n",
       "</table>\n",
       "</div>"
      ],
      "text/plain": [
       "                        Name Type 1  Type 2  Total  HP  Attack  Defense\n",
       "2                   Venusaur  Grass  Poison    525  80      82       83\n",
       "3      VenusaurMega Venusaur  Grass  Poison    625  80     100      123\n",
       "4                 Charmander   Fire     NaN    309  39      52       43\n",
       "5                 Charmeleon   Fire     NaN    405  58      64       58\n",
       "6                  Charizard   Fire  Flying    534  78      84       78\n",
       "7  CharizardMega Charizard X   Fire  Dragon    634  78     130      111\n",
       "8  CharizardMega Charizard Y   Fire  Flying    634  78     104       78\n",
       "9                   Squirtle  Water     NaN    314  44      48       65"
      ]
     },
     "execution_count": 237,
     "metadata": {},
     "output_type": "execute_result"
    }
   ],
   "source": [
    "# 포켓몬의 df 활용해서\n",
    "# 데이터 가져오기\n",
    "# 해당 열 가져오기 -> Series로 반환\n",
    "# 데이터프레임명[\"컬럼명\"]\n",
    "# 데이터프레임명.컬럼명\n",
    "df_pokemon[\"Name\"]\n",
    "df_pokemon.Name\n",
    "# 해당 행 가져오기\n",
    "# Loc(Location)\n",
    "# 데이터프레임명.loc[인덱스명]\n",
    "df_pokemon.loc[1]\n",
    "# iloc(integer location)\n",
    "# 데이터프레임명.iloc[인덱스번호]\n",
    "df_pokemon.iloc[0]\n",
    "\n",
    "# 행, 열 동시에 접근\n",
    "# 첫 번째 포켓몬의 이름\n",
    "df_pokemon.loc[0, \"Name\"] # 인덱스명 : 0, 컬럼명 : Name\n",
    "df_pokemon.iloc[0, 1] # 인덱스 번호 : 0, 컬럼 인덱스 : 1\n",
    "\n",
    "# 슬라이싱 -> 인덱싱 부분에 : 쓰기\n",
    "# 3번째 포켓몬부터 10번째 포켓몬까지\n",
    "df_pokemon.loc[2 : 9] # 슬라이싱 시 인덱스명이기 때문에 둘 다 포험(both included)\n",
    "df_pokemon.iloc[2 : 10] # 정수형이기 때문에 끝 인덱스 미만\n",
    "\n",
    "df_pokemon.loc[2 : 9, \"Name\" : \"Defense\"] # 3번째 ~ 10번째까지 \"Name\" ~ \"Defense\"\n",
    "df_pokemon.iloc[2 : 10, 1 : 8] # 3번째 ~ 10 (인덱스 11미만) 번째까지 컬럼 인덱스 1 ~ 7\n"
   ]
  },
  {
   "cell_type": "code",
   "execution_count": 303,
   "id": "397643f2-3f4c-4d7c-91ca-ddfb0783ea05",
   "metadata": {},
   "outputs": [
    {
     "data": {
      "text/plain": [
       "np.float64(426.81325301204816)"
      ]
     },
     "execution_count": 303,
     "metadata": {},
     "output_type": "execute_result"
    }
   ],
   "source": [
    "# Boolean Indexing\n",
    "df_pokemon[df_pokemon[\"Total\"] >= 500 ]  #  Total이 500이상인 데이터만 출력\n",
    "df_temp = df_pokemon[(df_pokemon[\"Total\"] >= 500) & (df_pokemon[\"Generation\"] == 1 )]\n",
    "df_temp[\"Total\"].mean()\n",
    "\n",
    "# csv에서 문자열이라 하더라도\n",
    "# df에서는 정수형태로 취급\n",
    "# 문자열 20이 df에서는 정수형 20\n",
    "\n",
    "# 1세대 포켓몬의 평균 Total\n",
    "df_pokemon[df_pokemon[\"Generation\"] == 1][\"Total\"].mean()\n",
    "\n",
    "# 만약, Mega를 뺀다면\n",
    "df_pokemon[(df_pokemon[\"Generation\"]  == 1) & (~df_pokemon[\"Name\"].str.contains(\"Mega\"))][\"Total\"].mean()"
   ]
  },
  {
   "cell_type": "code",
   "execution_count": 260,
   "id": "262353fa-e644-41c5-a172-2a5be8e947b7",
   "metadata": {},
   "outputs": [
    {
     "data": {
      "text/html": [
       "<div>\n",
       "<style scoped>\n",
       "    .dataframe tbody tr th:only-of-type {\n",
       "        vertical-align: middle;\n",
       "    }\n",
       "\n",
       "    .dataframe tbody tr th {\n",
       "        vertical-align: top;\n",
       "    }\n",
       "\n",
       "    .dataframe thead th {\n",
       "        text-align: right;\n",
       "    }\n",
       "</style>\n",
       "<table border=\"1\" class=\"dataframe\">\n",
       "  <thead>\n",
       "    <tr style=\"text-align: right;\">\n",
       "      <th></th>\n",
       "      <th>mean</th>\n",
       "      <th>median</th>\n",
       "    </tr>\n",
       "    <tr>\n",
       "      <th>Generation</th>\n",
       "      <th></th>\n",
       "      <th></th>\n",
       "    </tr>\n",
       "  </thead>\n",
       "  <tbody>\n",
       "    <tr>\n",
       "      <th>1</th>\n",
       "      <td>426.813253</td>\n",
       "      <td>436.5</td>\n",
       "    </tr>\n",
       "    <tr>\n",
       "      <th>2</th>\n",
       "      <td>418.283019</td>\n",
       "      <td>422.5</td>\n",
       "    </tr>\n",
       "    <tr>\n",
       "      <th>3</th>\n",
       "      <td>436.225000</td>\n",
       "      <td>435.0</td>\n",
       "    </tr>\n",
       "    <tr>\n",
       "      <th>4</th>\n",
       "      <td>459.016529</td>\n",
       "      <td>485.0</td>\n",
       "    </tr>\n",
       "    <tr>\n",
       "      <th>5</th>\n",
       "      <td>434.987879</td>\n",
       "      <td>465.0</td>\n",
       "    </tr>\n",
       "    <tr>\n",
       "      <th>6</th>\n",
       "      <td>436.378049</td>\n",
       "      <td>464.0</td>\n",
       "    </tr>\n",
       "  </tbody>\n",
       "</table>\n",
       "</div>"
      ],
      "text/plain": [
       "                  mean  median\n",
       "Generation                    \n",
       "1           426.813253   436.5\n",
       "2           418.283019   422.5\n",
       "3           436.225000   435.0\n",
       "4           459.016529   485.0\n",
       "5           434.987879   465.0\n",
       "6           436.378049   464.0"
      ]
     },
     "execution_count": 260,
     "metadata": {},
     "output_type": "execute_result"
    }
   ],
   "source": [
    "# 그룹 별 통계 수치 확인\n",
    "# 세대 별(1 ~ 6) Total의 평균\n",
    "df_pokemon.groupby(\"Generation\")[\"Total\"].mean()\n",
    "\n",
    "# Type 1별 Total의 평균\n",
    "df_pokemon.groupby(\"Type 1\")[\"Total\"].mean()\n",
    "\n",
    "# 어떤 통계 함수 사용할 수 있는지?\n",
    "df_pokemon.groupby(\"Generation\")[\"Total\"].max() # 최대값\n",
    "df_pokemon.groupby(\"Generation\")[\"Total\"].min() # 최소값\n",
    "df_pokemon.groupby(\"Generation\")[\"Total\"].median() # 중앙값\n",
    "df_pokemon.groupby(\"Generation\")[\"Total\"].sum() # 총합\n",
    "df_pokemon.groupby(\"Generation\")[\"Total\"].count() # 카운트\n",
    "\n",
    "# 세대 별 Total 의 평균치와, 중앙값 동시에 출력\n",
    "df_pokemon.groupby(\"Generation\")[\"Total\"].agg([\"mean\", \"median\"])\n",
    "\n"
   ]
  },
  {
   "cell_type": "code",
   "execution_count": 261,
   "id": "dc762734-06a4-4014-98ed-7003b3bf9099",
   "metadata": {},
   "outputs": [
    {
     "name": "stderr",
     "output_type": "stream",
     "text": [
      "  % Total    % Received % Xferd  Average Speed   Time    Time     Time  Current\n",
      "                                 Dload  Upload   Total   Spent    Left  Speed\n",
      "\n",
      "  0     0    0     0    0     0      0      0 --:--:-- --:--:-- --:--:--     0\n",
      "  0     0    0     0    0     0      0      0 --:--:-- --:--:-- --:--:--     0\n",
      "\n",
      " 31 60302   31 19292    0     0  43697      0  0:00:01 --:--:--  0:00:01 43697\n",
      "100 60302  100 60302    0     0   125k      0 --:--:-- --:--:-- --:--:-- 1380k\n"
     ]
    }
   ],
   "source": [
    "# 타이타닉 데이터\n",
    "!curl -L https://github.com/datasciencedojo/datasets/raw/refs/heads/master/titanic.csv -o titanic.csv\n"
   ]
  },
  {
   "cell_type": "code",
   "execution_count": 269,
   "id": "9d01b012-6a51-47c4-bc9b-185a11a3ba3c",
   "metadata": {},
   "outputs": [
    {
     "name": "stdout",
     "output_type": "stream",
     "text": [
      "<class 'pandas.core.frame.DataFrame'>\n",
      "RangeIndex: 891 entries, 0 to 890\n",
      "Data columns (total 12 columns):\n",
      " #   Column       Non-Null Count  Dtype  \n",
      "---  ------       --------------  -----  \n",
      " 0   PassengerId  891 non-null    int64  \n",
      " 1   Survived     891 non-null    int64  \n",
      " 2   Pclass       891 non-null    int64  \n",
      " 3   Name         891 non-null    object \n",
      " 4   Sex          891 non-null    object \n",
      " 5   Age          714 non-null    float64\n",
      " 6   SibSp        891 non-null    int64  \n",
      " 7   Parch        891 non-null    int64  \n",
      " 8   Ticket       891 non-null    object \n",
      " 9   Fare         891 non-null    float64\n",
      " 10  Cabin        204 non-null    object \n",
      " 11  Embarked     889 non-null    object \n",
      "dtypes: float64(2), int64(5), object(5)\n",
      "memory usage: 83.7+ KB\n"
     ]
    },
    {
     "data": {
      "text/html": [
       "<div>\n",
       "<style scoped>\n",
       "    .dataframe tbody tr th:only-of-type {\n",
       "        vertical-align: middle;\n",
       "    }\n",
       "\n",
       "    .dataframe tbody tr th {\n",
       "        vertical-align: top;\n",
       "    }\n",
       "\n",
       "    .dataframe thead th {\n",
       "        text-align: right;\n",
       "    }\n",
       "</style>\n",
       "<table border=\"1\" class=\"dataframe\">\n",
       "  <thead>\n",
       "    <tr style=\"text-align: right;\">\n",
       "      <th></th>\n",
       "      <th>PassengerId</th>\n",
       "      <th>Survived</th>\n",
       "      <th>Pclass</th>\n",
       "      <th>Name</th>\n",
       "      <th>Sex</th>\n",
       "      <th>Age</th>\n",
       "      <th>SibSp</th>\n",
       "      <th>Parch</th>\n",
       "      <th>Ticket</th>\n",
       "      <th>Fare</th>\n",
       "      <th>Cabin</th>\n",
       "      <th>Embarked</th>\n",
       "    </tr>\n",
       "  </thead>\n",
       "  <tbody>\n",
       "    <tr>\n",
       "      <th>637</th>\n",
       "      <td>638</td>\n",
       "      <td>0</td>\n",
       "      <td>2</td>\n",
       "      <td>Collyer, Mr. Harvey</td>\n",
       "      <td>male</td>\n",
       "      <td>31.0</td>\n",
       "      <td>1</td>\n",
       "      <td>1</td>\n",
       "      <td>C.A. 31921</td>\n",
       "      <td>26.25</td>\n",
       "      <td>NaN</td>\n",
       "      <td>S</td>\n",
       "    </tr>\n",
       "  </tbody>\n",
       "</table>\n",
       "</div>"
      ],
      "text/plain": [
       "     PassengerId  Survived  Pclass                 Name   Sex   Age  SibSp  \\\n",
       "637          638         0       2  Collyer, Mr. Harvey  male  31.0      1   \n",
       "\n",
       "     Parch      Ticket   Fare Cabin Embarked  \n",
       "637      1  C.A. 31921  26.25   NaN        S  "
      ]
     },
     "execution_count": 269,
     "metadata": {},
     "output_type": "execute_result"
    }
   ],
   "source": [
    "df_titanic = pd.read_csv(\"titanic.csv\")\n",
    "df_titanic.info()\n",
    "df_titanic.sample()"
   ]
  },
  {
   "cell_type": "code",
   "execution_count": 281,
   "id": "77400ff9-8e62-4a38-9c4e-abafeffd608f",
   "metadata": {},
   "outputs": [
    {
     "data": {
      "text/plain": [
       "np.int64(342)"
      ]
     },
     "execution_count": 281,
     "metadata": {},
     "output_type": "execute_result"
    }
   ],
   "source": [
    "# 탑승객 중 생존한 사람의 수\n",
    "# 데이터를 Table형태로 다룰 때\n",
    "# 각각의 column은 후보 key라는 개념을 갖는다\n",
    "# 타이타닉의 10번째 승객과 20번째 승객이 다른 Data임을 나타내는 column이 필요\n",
    "# PassengerId는 titanic data를 구분하기 위한 대표 column(primary key)이기 때문에\n",
    "# 모든 data가 가지고 있다(즉, 결측치가 없다.)\n",
    "df_titanic[df_titanic[\"Survived\"] == 1][\"PassengerId\"].count()\n",
    "\n",
    "# 5175만명의 국민\n",
    "# 각각을 구분하는 column\n",
    "# 5175만명의 정보 중 중복되지 않는 정보들 찾기 어려움\n",
    "# 그렇다면 우리가 부여 -> 주민등록번호\n",
    "\n",
    "# robot 과정의 사람들 data -> 중복 x -> 대표 column -> primary key(pk)\n",
    "# 대표 column이 될 가능성이 있는 column들을 후보 key라고 부른다.\n",
    "# 이름 나이 MBTI \n",
    "# 이성균 30 INTP\n",
    "# 25명\n",
    "\n"
   ]
  },
  {
   "cell_type": "code",
   "execution_count": 322,
   "id": "575cbf0c-94b9-4be3-b621-9e82cbd93412",
   "metadata": {},
   "outputs": [
    {
     "name": "stdout",
     "output_type": "stream",
     "text": [
      "남성의 수 : 577\n",
      "여성의 수 : 314\n",
      "생존자 수 : 342\n",
      "사망자 수 : 549\n",
      "남성이면서 생존한 수 : 109\n",
      "여성이면서 생존한 수 : 233\n",
      "남성이면서 사망한 수 : 468\n",
      "여성이면서 사망한 수 : 81\n"
     ]
    }
   ],
   "source": [
    "# 1) 탑생극 중 남성의 수 (Sex == \"male\")\n",
    "# 2) 탑생극 중 여성의 수 (Sex == \"female\")\n",
    "# 3) 생존자 수 (Survived == 1)\n",
    "# 4) 사망자 수 (Survived == 0)\n",
    "# 5) 남성 + 생존\n",
    "# 6) 여성 + 생존\n",
    "# 7) 남성 + 사망\n",
    "# 8) 여성 + 사망\n",
    "\n",
    "print(f\"\"\"남성의 수 : {df_titanic[df_titanic[\"Sex\"] == \"male\"][\"PassengerId\"].count()}\"\"\")\n",
    "print(f\"\"\"여성의 수 : {df_titanic[df_titanic[\"Sex\"] == \"female\"][\"PassengerId\"].count()}\"\"\")\n",
    "print(f\"\"\"생존자 수 : {df_titanic[df_titanic[\"Survived\"] == 1][\"PassengerId\"].count()}\"\"\")\n",
    "print(f\"\"\"사망자 수 : {df_titanic[df_titanic[\"Survived\"] == 0][\"PassengerId\"].count()}\"\"\")\n",
    "print(f\"\"\"남성이면서 생존한 수 : {df_titanic[(df_titanic[\"Survived\"] == 1) & (df_titanic[\"Sex\"] == \"male\")][\"PassengerId\"].count()}\"\"\")\n",
    "print(f\"\"\"여성이면서 생존한 수 : {df_titanic[(df_titanic[\"Survived\"] == 1) & (df_titanic[\"Sex\"] == \"female\")][\"PassengerId\"].count()}\"\"\")\n",
    "print(f\"\"\"남성이면서 사망한 수 : {df_titanic[(df_titanic[\"Survived\"] == 0) & (df_titanic[\"Sex\"] == \"male\")][\"PassengerId\"].count()}\"\"\")\n",
    "print(f\"\"\"여성이면서 사망한 수 : {df_titanic[(df_titanic[\"Survived\"] == 0) & (df_titanic[\"Sex\"] == \"female\")][\"PassengerId\"].count()}\"\"\")\n",
    "\n"
   ]
  },
  {
   "cell_type": "code",
   "execution_count": 329,
   "id": "fcb5683e-c115-4363-a251-715168378f7f",
   "metadata": {},
   "outputs": [
    {
     "data": {
      "text/html": [
       "<div>\n",
       "<style scoped>\n",
       "    .dataframe tbody tr th:only-of-type {\n",
       "        vertical-align: middle;\n",
       "    }\n",
       "\n",
       "    .dataframe tbody tr th {\n",
       "        vertical-align: top;\n",
       "    }\n",
       "\n",
       "    .dataframe thead th {\n",
       "        text-align: right;\n",
       "    }\n",
       "</style>\n",
       "<table border=\"1\" class=\"dataframe\">\n",
       "  <thead>\n",
       "    <tr style=\"text-align: right;\">\n",
       "      <th></th>\n",
       "      <th>count</th>\n",
       "      <th>sum</th>\n",
       "    </tr>\n",
       "    <tr>\n",
       "      <th>Sex</th>\n",
       "      <th></th>\n",
       "      <th></th>\n",
       "    </tr>\n",
       "  </thead>\n",
       "  <tbody>\n",
       "    <tr>\n",
       "      <th>female</th>\n",
       "      <td>314</td>\n",
       "      <td>233</td>\n",
       "    </tr>\n",
       "    <tr>\n",
       "      <th>male</th>\n",
       "      <td>577</td>\n",
       "      <td>109</td>\n",
       "    </tr>\n",
       "  </tbody>\n",
       "</table>\n",
       "</div>"
      ],
      "text/plain": [
       "        count  sum\n",
       "Sex               \n",
       "female    314  233\n",
       "male      577  109"
      ]
     },
     "execution_count": 329,
     "metadata": {},
     "output_type": "execute_result"
    }
   ],
   "source": [
    "# groupby()\n",
    "# 성별별 생존 column(생존1, 사망0)\n",
    "# count, sum\n",
    "df_titanic.groupby(\"Sex\")[\"Survived\"].agg([\"count\", \"sum\"])"
   ]
  },
  {
   "cell_type": "code",
   "execution_count": 335,
   "id": "f04a681d-9d89-434d-a3e5-309bbb250125",
   "metadata": {
    "scrolled": true
   },
   "outputs": [
    {
     "data": {
      "text/html": [
       "<div>\n",
       "<style scoped>\n",
       "    .dataframe tbody tr th:only-of-type {\n",
       "        vertical-align: middle;\n",
       "    }\n",
       "\n",
       "    .dataframe tbody tr th {\n",
       "        vertical-align: top;\n",
       "    }\n",
       "\n",
       "    .dataframe thead th {\n",
       "        text-align: right;\n",
       "    }\n",
       "</style>\n",
       "<table border=\"1\" class=\"dataframe\">\n",
       "  <thead>\n",
       "    <tr style=\"text-align: right;\">\n",
       "      <th></th>\n",
       "      <th>count</th>\n",
       "      <th>sum</th>\n",
       "      <th>mean</th>\n",
       "    </tr>\n",
       "    <tr>\n",
       "      <th>Pclass</th>\n",
       "      <th></th>\n",
       "      <th></th>\n",
       "      <th></th>\n",
       "    </tr>\n",
       "  </thead>\n",
       "  <tbody>\n",
       "    <tr>\n",
       "      <th>1</th>\n",
       "      <td>216</td>\n",
       "      <td>136</td>\n",
       "      <td>0.629630</td>\n",
       "    </tr>\n",
       "    <tr>\n",
       "      <th>2</th>\n",
       "      <td>184</td>\n",
       "      <td>87</td>\n",
       "      <td>0.472826</td>\n",
       "    </tr>\n",
       "    <tr>\n",
       "      <th>3</th>\n",
       "      <td>491</td>\n",
       "      <td>119</td>\n",
       "      <td>0.242363</td>\n",
       "    </tr>\n",
       "  </tbody>\n",
       "</table>\n",
       "</div>"
      ],
      "text/plain": [
       "        count  sum      mean\n",
       "Pclass                      \n",
       "1         216  136  0.629630\n",
       "2         184   87  0.472826\n",
       "3         491  119  0.242363"
      ]
     },
     "execution_count": 335,
     "metadata": {},
     "output_type": "execute_result"
    }
   ],
   "source": [
    "# Pclass 객실등급\n",
    "# 객실등급별 총 인원, 생존자 수 확인\n",
    "df_titanic.groupby(\"Pclass\")[\"Survived\"].agg([\"count\",\"sum\",\"mean\"])"
   ]
  },
  {
   "cell_type": "code",
   "execution_count": 339,
   "id": "082143c5-3b78-4cbc-8fed-d649ed4c8735",
   "metadata": {},
   "outputs": [
    {
     "data": {
      "text/plain": [
       "Pclass\n",
       "3    491\n",
       "1    216\n",
       "2    184\n",
       "Name: count, dtype: int64"
      ]
     },
     "execution_count": 339,
     "metadata": {},
     "output_type": "execute_result"
    }
   ],
   "source": [
    "# 남성의 수, 여성의 수\n",
    "# 해당하는 column별 data 개수\n",
    "df_titanic[\"Sex\"].value_counts()\n",
    "\n",
    "# 생존, 사망\n",
    "df_titanic[\"Survived\"].value_counts()\n",
    "\n",
    "# 객실 등급별 인원\n",
    "df_titanic[\"Pclass\"].value_counts()"
   ]
  },
  {
   "cell_type": "code",
   "execution_count": 342,
   "id": "6d811637-55fd-4064-83c6-e338a2be0eab",
   "metadata": {},
   "outputs": [
    {
     "data": {
      "text/html": [
       "<div>\n",
       "<style scoped>\n",
       "    .dataframe tbody tr th:only-of-type {\n",
       "        vertical-align: middle;\n",
       "    }\n",
       "\n",
       "    .dataframe tbody tr th {\n",
       "        vertical-align: top;\n",
       "    }\n",
       "\n",
       "    .dataframe thead th {\n",
       "        text-align: right;\n",
       "    }\n",
       "</style>\n",
       "<table border=\"1\" class=\"dataframe\">\n",
       "  <thead>\n",
       "    <tr style=\"text-align: right;\">\n",
       "      <th></th>\n",
       "      <th>PassengerId</th>\n",
       "      <th>Survived</th>\n",
       "      <th>Pclass</th>\n",
       "      <th>Name</th>\n",
       "      <th>Sex</th>\n",
       "      <th>Age</th>\n",
       "    </tr>\n",
       "  </thead>\n",
       "  <tbody>\n",
       "    <tr>\n",
       "      <th>0</th>\n",
       "      <td>1</td>\n",
       "      <td>0</td>\n",
       "      <td>3</td>\n",
       "      <td>Braund, Mr. Owen Harris</td>\n",
       "      <td>male</td>\n",
       "      <td>22.0</td>\n",
       "    </tr>\n",
       "    <tr>\n",
       "      <th>1</th>\n",
       "      <td>2</td>\n",
       "      <td>1</td>\n",
       "      <td>1</td>\n",
       "      <td>Cumings, Mrs. John Bradley (Florence Briggs Th...</td>\n",
       "      <td>female</td>\n",
       "      <td>38.0</td>\n",
       "    </tr>\n",
       "    <tr>\n",
       "      <th>2</th>\n",
       "      <td>3</td>\n",
       "      <td>1</td>\n",
       "      <td>3</td>\n",
       "      <td>Heikkinen, Miss. Laina</td>\n",
       "      <td>female</td>\n",
       "      <td>26.0</td>\n",
       "    </tr>\n",
       "    <tr>\n",
       "      <th>3</th>\n",
       "      <td>4</td>\n",
       "      <td>1</td>\n",
       "      <td>1</td>\n",
       "      <td>Futrelle, Mrs. Jacques Heath (Lily May Peel)</td>\n",
       "      <td>female</td>\n",
       "      <td>35.0</td>\n",
       "    </tr>\n",
       "    <tr>\n",
       "      <th>4</th>\n",
       "      <td>5</td>\n",
       "      <td>0</td>\n",
       "      <td>3</td>\n",
       "      <td>Allen, Mr. William Henry</td>\n",
       "      <td>male</td>\n",
       "      <td>35.0</td>\n",
       "    </tr>\n",
       "    <tr>\n",
       "      <th>...</th>\n",
       "      <td>...</td>\n",
       "      <td>...</td>\n",
       "      <td>...</td>\n",
       "      <td>...</td>\n",
       "      <td>...</td>\n",
       "      <td>...</td>\n",
       "    </tr>\n",
       "    <tr>\n",
       "      <th>886</th>\n",
       "      <td>887</td>\n",
       "      <td>0</td>\n",
       "      <td>2</td>\n",
       "      <td>Montvila, Rev. Juozas</td>\n",
       "      <td>male</td>\n",
       "      <td>27.0</td>\n",
       "    </tr>\n",
       "    <tr>\n",
       "      <th>887</th>\n",
       "      <td>888</td>\n",
       "      <td>1</td>\n",
       "      <td>1</td>\n",
       "      <td>Graham, Miss. Margaret Edith</td>\n",
       "      <td>female</td>\n",
       "      <td>19.0</td>\n",
       "    </tr>\n",
       "    <tr>\n",
       "      <th>888</th>\n",
       "      <td>889</td>\n",
       "      <td>0</td>\n",
       "      <td>3</td>\n",
       "      <td>Johnston, Miss. Catherine Helen \"Carrie\"</td>\n",
       "      <td>female</td>\n",
       "      <td>NaN</td>\n",
       "    </tr>\n",
       "    <tr>\n",
       "      <th>889</th>\n",
       "      <td>890</td>\n",
       "      <td>1</td>\n",
       "      <td>1</td>\n",
       "      <td>Behr, Mr. Karl Howell</td>\n",
       "      <td>male</td>\n",
       "      <td>26.0</td>\n",
       "    </tr>\n",
       "    <tr>\n",
       "      <th>890</th>\n",
       "      <td>891</td>\n",
       "      <td>0</td>\n",
       "      <td>3</td>\n",
       "      <td>Dooley, Mr. Patrick</td>\n",
       "      <td>male</td>\n",
       "      <td>32.0</td>\n",
       "    </tr>\n",
       "  </tbody>\n",
       "</table>\n",
       "<p>891 rows × 6 columns</p>\n",
       "</div>"
      ],
      "text/plain": [
       "     PassengerId  Survived  Pclass  \\\n",
       "0              1         0       3   \n",
       "1              2         1       1   \n",
       "2              3         1       3   \n",
       "3              4         1       1   \n",
       "4              5         0       3   \n",
       "..           ...       ...     ...   \n",
       "886          887         0       2   \n",
       "887          888         1       1   \n",
       "888          889         0       3   \n",
       "889          890         1       1   \n",
       "890          891         0       3   \n",
       "\n",
       "                                                  Name     Sex   Age  \n",
       "0                              Braund, Mr. Owen Harris    male  22.0  \n",
       "1    Cumings, Mrs. John Bradley (Florence Briggs Th...  female  38.0  \n",
       "2                               Heikkinen, Miss. Laina  female  26.0  \n",
       "3         Futrelle, Mrs. Jacques Heath (Lily May Peel)  female  35.0  \n",
       "4                             Allen, Mr. William Henry    male  35.0  \n",
       "..                                                 ...     ...   ...  \n",
       "886                              Montvila, Rev. Juozas    male  27.0  \n",
       "887                       Graham, Miss. Margaret Edith  female  19.0  \n",
       "888           Johnston, Miss. Catherine Helen \"Carrie\"  female   NaN  \n",
       "889                              Behr, Mr. Karl Howell    male  26.0  \n",
       "890                                Dooley, Mr. Patrick    male  32.0  \n",
       "\n",
       "[891 rows x 6 columns]"
      ]
     },
     "execution_count": 342,
     "metadata": {},
     "output_type": "execute_result"
    }
   ],
   "source": [
    "# 통계적인 데이터는 문자열 나오지 않는다\n",
    "# 타이타닉의 male, female을 1, 0으로 변환 적용\n",
    "\n",
    "# 필요 없는 column 지우고 가자\n",
    "# 데이터프레임명.drop\n",
    "\n",
    "df_titanic.drop(columns = [\"SibSp\", \"Parch\", \"Ticket\", \"Fare\", \"Cabin\", \"Embarked\"], inplace=True)\n",
    "df_titanic\n"
   ]
  },
  {
   "cell_type": "code",
   "execution_count": 348,
   "id": "834f0615-151e-4d26-9762-afb76f374dfe",
   "metadata": {},
   "outputs": [
    {
     "data": {
      "text/html": [
       "<div>\n",
       "<style scoped>\n",
       "    .dataframe tbody tr th:only-of-type {\n",
       "        vertical-align: middle;\n",
       "    }\n",
       "\n",
       "    .dataframe tbody tr th {\n",
       "        vertical-align: top;\n",
       "    }\n",
       "\n",
       "    .dataframe thead th {\n",
       "        text-align: right;\n",
       "    }\n",
       "</style>\n",
       "<table border=\"1\" class=\"dataframe\">\n",
       "  <thead>\n",
       "    <tr style=\"text-align: right;\">\n",
       "      <th></th>\n",
       "      <th>PassengerId</th>\n",
       "      <th>Survived</th>\n",
       "      <th>Pclass</th>\n",
       "      <th>Name</th>\n",
       "      <th>Sex</th>\n",
       "      <th>Age</th>\n",
       "      <th>Male</th>\n",
       "    </tr>\n",
       "  </thead>\n",
       "  <tbody>\n",
       "    <tr>\n",
       "      <th>0</th>\n",
       "      <td>1</td>\n",
       "      <td>0</td>\n",
       "      <td>3</td>\n",
       "      <td>Braund, Mr. Owen Harris</td>\n",
       "      <td>male</td>\n",
       "      <td>22.0</td>\n",
       "      <td>1</td>\n",
       "    </tr>\n",
       "    <tr>\n",
       "      <th>1</th>\n",
       "      <td>2</td>\n",
       "      <td>1</td>\n",
       "      <td>1</td>\n",
       "      <td>Cumings, Mrs. John Bradley (Florence Briggs Th...</td>\n",
       "      <td>female</td>\n",
       "      <td>38.0</td>\n",
       "      <td>0</td>\n",
       "    </tr>\n",
       "    <tr>\n",
       "      <th>2</th>\n",
       "      <td>3</td>\n",
       "      <td>1</td>\n",
       "      <td>3</td>\n",
       "      <td>Heikkinen, Miss. Laina</td>\n",
       "      <td>female</td>\n",
       "      <td>26.0</td>\n",
       "      <td>0</td>\n",
       "    </tr>\n",
       "    <tr>\n",
       "      <th>3</th>\n",
       "      <td>4</td>\n",
       "      <td>1</td>\n",
       "      <td>1</td>\n",
       "      <td>Futrelle, Mrs. Jacques Heath (Lily May Peel)</td>\n",
       "      <td>female</td>\n",
       "      <td>35.0</td>\n",
       "      <td>0</td>\n",
       "    </tr>\n",
       "    <tr>\n",
       "      <th>4</th>\n",
       "      <td>5</td>\n",
       "      <td>0</td>\n",
       "      <td>3</td>\n",
       "      <td>Allen, Mr. William Henry</td>\n",
       "      <td>male</td>\n",
       "      <td>35.0</td>\n",
       "      <td>1</td>\n",
       "    </tr>\n",
       "    <tr>\n",
       "      <th>...</th>\n",
       "      <td>...</td>\n",
       "      <td>...</td>\n",
       "      <td>...</td>\n",
       "      <td>...</td>\n",
       "      <td>...</td>\n",
       "      <td>...</td>\n",
       "      <td>...</td>\n",
       "    </tr>\n",
       "    <tr>\n",
       "      <th>886</th>\n",
       "      <td>887</td>\n",
       "      <td>0</td>\n",
       "      <td>2</td>\n",
       "      <td>Montvila, Rev. Juozas</td>\n",
       "      <td>male</td>\n",
       "      <td>27.0</td>\n",
       "      <td>1</td>\n",
       "    </tr>\n",
       "    <tr>\n",
       "      <th>887</th>\n",
       "      <td>888</td>\n",
       "      <td>1</td>\n",
       "      <td>1</td>\n",
       "      <td>Graham, Miss. Margaret Edith</td>\n",
       "      <td>female</td>\n",
       "      <td>19.0</td>\n",
       "      <td>0</td>\n",
       "    </tr>\n",
       "    <tr>\n",
       "      <th>888</th>\n",
       "      <td>889</td>\n",
       "      <td>0</td>\n",
       "      <td>3</td>\n",
       "      <td>Johnston, Miss. Catherine Helen \"Carrie\"</td>\n",
       "      <td>female</td>\n",
       "      <td>NaN</td>\n",
       "      <td>0</td>\n",
       "    </tr>\n",
       "    <tr>\n",
       "      <th>889</th>\n",
       "      <td>890</td>\n",
       "      <td>1</td>\n",
       "      <td>1</td>\n",
       "      <td>Behr, Mr. Karl Howell</td>\n",
       "      <td>male</td>\n",
       "      <td>26.0</td>\n",
       "      <td>1</td>\n",
       "    </tr>\n",
       "    <tr>\n",
       "      <th>890</th>\n",
       "      <td>891</td>\n",
       "      <td>0</td>\n",
       "      <td>3</td>\n",
       "      <td>Dooley, Mr. Patrick</td>\n",
       "      <td>male</td>\n",
       "      <td>32.0</td>\n",
       "      <td>1</td>\n",
       "    </tr>\n",
       "  </tbody>\n",
       "</table>\n",
       "<p>891 rows × 7 columns</p>\n",
       "</div>"
      ],
      "text/plain": [
       "     PassengerId  Survived  Pclass  \\\n",
       "0              1         0       3   \n",
       "1              2         1       1   \n",
       "2              3         1       3   \n",
       "3              4         1       1   \n",
       "4              5         0       3   \n",
       "..           ...       ...     ...   \n",
       "886          887         0       2   \n",
       "887          888         1       1   \n",
       "888          889         0       3   \n",
       "889          890         1       1   \n",
       "890          891         0       3   \n",
       "\n",
       "                                                  Name     Sex   Age  Male  \n",
       "0                              Braund, Mr. Owen Harris    male  22.0     1  \n",
       "1    Cumings, Mrs. John Bradley (Florence Briggs Th...  female  38.0     0  \n",
       "2                               Heikkinen, Miss. Laina  female  26.0     0  \n",
       "3         Futrelle, Mrs. Jacques Heath (Lily May Peel)  female  35.0     0  \n",
       "4                             Allen, Mr. William Henry    male  35.0     1  \n",
       "..                                                 ...     ...   ...   ...  \n",
       "886                              Montvila, Rev. Juozas    male  27.0     1  \n",
       "887                       Graham, Miss. Margaret Edith  female  19.0     0  \n",
       "888           Johnston, Miss. Catherine Helen \"Carrie\"  female   NaN     0  \n",
       "889                              Behr, Mr. Karl Howell    male  26.0     1  \n",
       "890                                Dooley, Mr. Patrick    male  32.0     1  \n",
       "\n",
       "[891 rows x 7 columns]"
      ]
     },
     "execution_count": 348,
     "metadata": {},
     "output_type": "execute_result"
    }
   ],
   "source": [
    "def is_male(sex):\n",
    "    if sex == \"male\":\n",
    "        return 1\n",
    "    else:\n",
    "        return 0\n",
    "df_titanic[\"Male\"] = df_titanic[\"Sex\"].apply(is_male)\n",
    "df_titanic"
   ]
  },
  {
   "cell_type": "code",
   "execution_count": 352,
   "id": "4cf8a514-4dac-4595-8ff1-b1f969f8b852",
   "metadata": {},
   "outputs": [
    {
     "name": "stdout",
     "output_type": "stream",
     "text": [
      "30\n"
     ]
    },
    {
     "data": {
      "text/plain": [
       "300"
      ]
     },
     "execution_count": 352,
     "metadata": {},
     "output_type": "execute_result"
    }
   ],
   "source": [
    "# Python에서\n",
    "# 함수 정의(메모리에 올라감) -> 사용\n",
    "# 메모리에 올라가는 함수가 지속적으로 사용하지 않고\n",
    "# 일회성으로 사용되는 함수\n",
    "# 만들자마자 쓰고 버리면 어때\n",
    "# Lambda Expression (람다 표현식)\n",
    "def add(num1, num2):\n",
    "    return num1 + num2\n",
    "print(add(10, 20))\n",
    "\n",
    "# (함수명(매개변수) : 리턴값)(전달인자)\n",
    "(lambda num1, num2 : num1 + num2)(100, 200)"
   ]
  },
  {
   "cell_type": "code",
   "execution_count": 360,
   "id": "a42f50cb-6133-4ed3-a46b-185f99b561b0",
   "metadata": {},
   "outputs": [
    {
     "data": {
      "text/html": [
       "<div>\n",
       "<style scoped>\n",
       "    .dataframe tbody tr th:only-of-type {\n",
       "        vertical-align: middle;\n",
       "    }\n",
       "\n",
       "    .dataframe tbody tr th {\n",
       "        vertical-align: top;\n",
       "    }\n",
       "\n",
       "    .dataframe thead th {\n",
       "        text-align: right;\n",
       "    }\n",
       "</style>\n",
       "<table border=\"1\" class=\"dataframe\">\n",
       "  <thead>\n",
       "    <tr style=\"text-align: right;\">\n",
       "      <th></th>\n",
       "      <th>Survived</th>\n",
       "      <th>Age</th>\n",
       "      <th>Male</th>\n",
       "      <th>Female</th>\n",
       "    </tr>\n",
       "  </thead>\n",
       "  <tbody>\n",
       "    <tr>\n",
       "      <th>Survived</th>\n",
       "      <td>1.000000</td>\n",
       "      <td>-0.077221</td>\n",
       "      <td>-0.543351</td>\n",
       "      <td>0.543351</td>\n",
       "    </tr>\n",
       "    <tr>\n",
       "      <th>Age</th>\n",
       "      <td>-0.077221</td>\n",
       "      <td>1.000000</td>\n",
       "      <td>0.093254</td>\n",
       "      <td>-0.093254</td>\n",
       "    </tr>\n",
       "    <tr>\n",
       "      <th>Male</th>\n",
       "      <td>-0.543351</td>\n",
       "      <td>0.093254</td>\n",
       "      <td>1.000000</td>\n",
       "      <td>-1.000000</td>\n",
       "    </tr>\n",
       "    <tr>\n",
       "      <th>Female</th>\n",
       "      <td>0.543351</td>\n",
       "      <td>-0.093254</td>\n",
       "      <td>-1.000000</td>\n",
       "      <td>1.000000</td>\n",
       "    </tr>\n",
       "  </tbody>\n",
       "</table>\n",
       "</div>"
      ],
      "text/plain": [
       "          Survived       Age      Male    Female\n",
       "Survived  1.000000 -0.077221 -0.543351  0.543351\n",
       "Age      -0.077221  1.000000  0.093254 -0.093254\n",
       "Male     -0.543351  0.093254  1.000000 -1.000000\n",
       "Female    0.543351 -0.093254 -1.000000  1.000000"
      ]
     },
     "execution_count": 360,
     "metadata": {},
     "output_type": "execute_result"
    }
   ],
   "source": [
    "df_titanic[\"Female\"] = df_titanic[\"Sex\"].apply(lambda x : 1 if x == \"female\" else 0)\n",
    "df_titanic.describe()\n",
    "\n",
    "# correlation (상관분석)\n",
    "df_titanic[[\"Survived\", \"Age\", \"Male\", \"Female\"]].corr()\n",
    "\n",
    "# 비가 오면 우산 판매량이 늘어난다\n",
    "# 여름이 되면 빙그레 주가가 올라간다\n",
    "# +1에 가까울수록 상관관계가 높다\n",
    "# +0.7이상이면 강한 상관관계가 있다\n",
    "# +0.7 ~ 0.4 상관관계가 있다.\n",
    "\n",
    "# -1에 가까울수록 음의 상관관계가 있다.\n",
    "# -0.7이하이면 강한 음의 상관관계가 있다."
   ]
  },
  {
   "cell_type": "code",
   "execution_count": 364,
   "id": "84987854-40d9-41d1-9bf2-6d639d06a054",
   "metadata": {},
   "outputs": [
    {
     "data": {
      "text/html": [
       "<div>\n",
       "<style scoped>\n",
       "    .dataframe tbody tr th:only-of-type {\n",
       "        vertical-align: middle;\n",
       "    }\n",
       "\n",
       "    .dataframe tbody tr th {\n",
       "        vertical-align: top;\n",
       "    }\n",
       "\n",
       "    .dataframe thead th {\n",
       "        text-align: right;\n",
       "    }\n",
       "</style>\n",
       "<table border=\"1\" class=\"dataframe\">\n",
       "  <thead>\n",
       "    <tr style=\"text-align: right;\">\n",
       "      <th></th>\n",
       "      <th>Total</th>\n",
       "      <th>Generation</th>\n",
       "      <th>Legend</th>\n",
       "    </tr>\n",
       "  </thead>\n",
       "  <tbody>\n",
       "    <tr>\n",
       "      <th>Total</th>\n",
       "      <td>1.000000</td>\n",
       "      <td>0.048384</td>\n",
       "      <td>0.501758</td>\n",
       "    </tr>\n",
       "    <tr>\n",
       "      <th>Generation</th>\n",
       "      <td>0.048384</td>\n",
       "      <td>1.000000</td>\n",
       "      <td>0.079794</td>\n",
       "    </tr>\n",
       "    <tr>\n",
       "      <th>Legend</th>\n",
       "      <td>0.501758</td>\n",
       "      <td>0.079794</td>\n",
       "      <td>1.000000</td>\n",
       "    </tr>\n",
       "  </tbody>\n",
       "</table>\n",
       "</div>"
      ],
      "text/plain": [
       "               Total  Generation    Legend\n",
       "Total       1.000000    0.048384  0.501758\n",
       "Generation  0.048384    1.000000  0.079794\n",
       "Legend      0.501758    0.079794  1.000000"
      ]
     },
     "execution_count": 364,
     "metadata": {},
     "output_type": "execute_result"
    }
   ],
   "source": [
    "df_pokemon[\"Legend\"] = df_pokemon[\"Legendary\"].apply(lambda x : 1 if x else 0)\n",
    "df_pokemon[[\"Total\", \"Generation\", \"Legend\"]].corr()"
   ]
  },
  {
   "cell_type": "code",
   "execution_count": 376,
   "id": "d87cced2-3b3b-45d1-8a7a-bbea101656c8",
   "metadata": {},
   "outputs": [
    {
     "name": "stdout",
     "output_type": "stream",
     "text": [
      "원본 :  ['솔의 눈', '데자와', '닥터페퍼', 'ZICO']\n",
      "복사본 :  ['솔의 눈', '데자와', '닥터페퍼', 'ZICO']\n",
      "복사본 :  ['솔의 눈', '실론티', '닥터페퍼', 'ZICO']\n",
      "원본 : ['솔의 눈', '실론티', '닥터페퍼', 'ZICO']\n",
      "원본 : ['솔의 눈', '실론티', '닥터페퍼', 'ZICO']\n",
      "복사본2 : ['솔의 눈', '실론티', '닥터페퍼', 'ZICO']\n",
      "복사본2 : ['솔의 눈', '실론티', '닥터페퍼', '아침햇살']\n",
      "원본 : ['솔의 눈', '실론티', '닥터페퍼', 'ZICO']\n"
     ]
    }
   ],
   "source": [
    "list_drink = [\"솔의 눈\", \"데자와\", \"닥터페퍼\",\"ZICO\"]\n",
    "print(\"원본 : \", list_drink) # 원본\n",
    "\n",
    "list_copy = list_drink # 얕은 복사 (주소만 복사)\n",
    "print(\"복사본 : \", list_copy)\n",
    "list_copy[1] = \"실론티\"\n",
    "print(\"복사본 : \",list_copy)\n",
    "print(\"원본 :\", list_drink)\n",
    "\n",
    "list_copy2 = list_drink.copy() # 깊은 복사 (주소 따로, 값 복사)\n",
    "# copy2 내용이 변경되더라도 원본에 영향 X\n",
    "print(\"원본 :\", list_drink)\n",
    "print(\"복사본2 :\", list_copy2)\n",
    "list_copy2[3] = \"아침햇살\"\n",
    "print(\"복사본2 :\", list_copy2)\n",
    "print(\"원본 :\", list_drink)"
   ]
  },
  {
   "cell_type": "code",
   "execution_count": 379,
   "id": "bc2fa2ee-4f59-412b-9905-4933e06fd7c2",
   "metadata": {},
   "outputs": [],
   "source": [
    "df_tt2 = df_titanic.copy()\n",
    "\n",
    "\n",
    "\n",
    "# 이상치, 결측치 내일"
   ]
  },
  {
   "cell_type": "code",
   "execution_count": 396,
   "id": "64e5cc98-909b-4a65-ae85-24dd2b83c8ef",
   "metadata": {},
   "outputs": [
    {
     "data": {
      "image/png": "[encoded data removed]",
      "text/plain": [
       "<Figure size 300x200 with 1 Axes>"
      ]
     },
     "metadata": {},
     "output_type": "display_data"
    }
   ],
   "source": [
    "# 시각화 (Visualization)\n",
    "# matplotlib\n",
    "import matplotlib.pyplot as plt\n",
    "\n",
    "# 선 그래프(line-plot)\n",
    "plt.figure(figsize=(3,2)) # 크기 정하기\n",
    "x = [1, 2, 3, 4, 5]\n",
    "y = [10, 20, 30, 35, 40]\n",
    "\n",
    "\n",
    "plt.xlabel(\"study time(hour)\")\n",
    "plt.ylabel(\"python score\")\n",
    "plt.title(\"python score by study time\")\n",
    "plt.grid(True)\n",
    "plt.plot(x, y, marker=\"o\", color=\"hotpink\", linestyle = \"--\")\n",
    "plt.show()"
   ]
  },
  {
   "cell_type": "code",
   "execution_count": 399,
   "id": "0f5bfc31-607c-4180-aea1-bc4786dc3355",
   "metadata": {},
   "outputs": [
    {
     "data": {
      "image/png": "[encoded data removed]",
      "text/plain": [
       "<Figure size 300x200 with 1 Axes>"
      ]
     },
     "metadata": {},
     "output_type": "display_data"
    }
   ],
   "source": [
    "# 막대 그래프 (Bar Plot)\n",
    "categories = [\"A\", \"B\", \"C\", \"D\"]\n",
    "values = [15, 22, 30, 18]\n",
    "\n",
    "plt.figure(figsize=(3, 2))\n",
    "plt.bar(categories, values)\n",
    "plt.show()"
   ]
  },
  {
   "cell_type": "code",
   "execution_count": 406,
   "id": "6758036c-803d-4d34-959d-e549a9b52c4a",
   "metadata": {},
   "outputs": [
    {
     "data": {
      "image/png": "[encoded data removed]",
      "text/plain": [
       "<Figure size 300x200 with 1 Axes>"
      ]
     },
     "metadata": {},
     "output_type": "display_data"
    }
   ],
   "source": [
    "# 포켓몬 세대별 Total 평균\n",
    "x_pokemon = df_pokemon[\"Generation\"].unique()\n",
    "x_pokemon\n",
    "y_pokemon = df_pokemon.groupby(\"Generation\")[\"Total\"].mean()\n",
    "plt.figure(figsize=(3,2))\n",
    "plt.bar(x_pokemon,y_pokemon)\n",
    "plt.show()"
   ]
  },
  {
   "cell_type": "code",
   "execution_count": 418,
   "id": "749d3446-53e7-4cd6-b3a7-ad1404839f73",
   "metadata": {
    "scrolled": true
   },
   "outputs": [
    {
     "data": {
      "image/png": "[encoded data removed]",
      "text/plain": [
       "<Figure size 1400x600 with 1 Axes>"
      ]
     },
     "metadata": {},
     "output_type": "display_data"
    }
   ],
   "source": [
    "# 포켓몬 Type 1별 Total 평균을 막대 그래프(Bar Plot)으로 표현\n",
    "x1_pokemon = df_pokemon[\"Type 1\"].unique()\n",
    "y1_pokemon = df_pokemon.groupby(\"Type 1\")[\"Total\"].mean()\n",
    "plt.figure(figsize=(14,6))\n",
    "plt.bar(x1_pokemon,y1_pokemon)\n",
    "plt.show()"
   ]
  },
  {
   "cell_type": "code",
   "execution_count": 430,
   "id": "0e406f90-6b6b-493a-b631-c62e5386e2aa",
   "metadata": {},
   "outputs": [
    {
     "data": {
      "image/png": "[encoded data removed]",
      "text/plain": [
       "<Figure size 600x600 with 1 Axes>"
      ]
     },
     "metadata": {},
     "output_type": "display_data"
    }
   ],
   "source": [
    "# 파이 차트(Pie Chart)\n",
    "legend_count = df_pokemon[\"Legend\"].value_counts()\n",
    "plt.figure(figsize=(6,6))\n",
    "plt.pie(legend_count, labels=legend_count.index, autopct=\"%.1f\", startangle = 90)\n",
    "plt.show()\n"
   ]
  },
  {
   "cell_type": "code",
   "execution_count": 445,
   "id": "25e2f3e1-ffd7-4855-a09a-fb11acee3a17",
   "metadata": {},
   "outputs": [
    {
     "data": {
      "image/png": "[encoded data removed]",
      "text/plain": [
       "<Figure size 800x800 with 1 Axes>"
      ]
     },
     "metadata": {},
     "output_type": "display_data"
    }
   ],
   "source": [
    "# 산점도 (Scatter Plot)\n",
    "\n",
    "# 키, 몸무게 데이터 (가상)\n",
    "np.random.seed(41) # 재현성을 위해 시드 고정\n",
    "height = np.random.normal(172, 12,100) # 평균 172, 표준편차 12, 100개 데이터\n",
    "weight = height - 110 + np.random.normal(0, 5, 100)\n",
    "\n",
    "plt.figure(figsize=(8,8))\n",
    "plt.xlabel(\"height (cm)\")\n",
    "plt.ylabel(\"weight (kg)\")\n",
    "plt.scatter(height, weight, c=weight, s=50, alpha = 0.7)\n",
    "plt.show()\n"
   ]
  },
  {
   "cell_type": "code",
   "execution_count": 454,
   "id": "c1a32ab7-9c33-46dc-9061-862a18a9a628",
   "metadata": {},
   "outputs": [
    {
     "data": {
      "image/png": "[encoded data removed]",
      "text/plain": [
       "<Figure size 1500x800 with 1 Axes>"
      ]
     },
     "metadata": {},
     "output_type": "display_data"
    }
   ],
   "source": [
    "# 히스토그램 (Histogram)\n",
    "data2 = np.random.randn(1000) #정규분포를 따르는 데이터 1000개\n",
    "plt.figure(figsize=(15,8))\n",
    "plt.hist(data2, edgecolor=\"black\")\n",
    "plt.show()"
   ]
  },
  {
   "cell_type": "code",
   "execution_count": 457,
   "id": "50121a5f-708c-44ff-ad12-44619a1795e0",
   "metadata": {},
   "outputs": [
    {
     "data": {
      "text/plain": [
       "(array([  9.,  22.,  64., 166., 188., 222., 186.,  94.,  34.,  15.]),\n",
       " array([-3.04303572, -2.45862626, -1.8742168 , -1.28980734, -0.70539788,\n",
       "        -0.12098842,  0.46342103,  1.04783049,  1.63223995,  2.21664941,\n",
       "         2.80105887]),\n",
       " <BarContainer object of 10 artists>)"
      ]
     },
     "execution_count": 457,
     "metadata": {},
     "output_type": "execute_result"
    },
    {
     "data": {
      "image/png": "[encoded data removed]",
      "text/plain": [
       "<Figure size 800x600 with 4 Axes>"
      ]
     },
     "metadata": {},
     "output_type": "display_data"
    }
   ],
   "source": [
    "# plt.show()\n",
    "# 여러개의 plot을 보고 싶을 때\n",
    "# subplot\n",
    "fig, axes = plt.subplots(2, 2, figsize=(8,6))\n",
    "\n",
    "axes[0, 0].bar(x1_pokemon,y1_pokemon)\n",
    "axes[0, 1].pie(legend_count)\n",
    "axes[1, 0].scatter(height, weight)\n",
    "axes[1, 1].hist(data2)"
   ]
  }
 ],
 "metadata": {
  "kernelspec": {
   "display_name": "Python 3 (ipykernel)",
   "language": "python",
   "name": "python3"
  },
  "language_info": {
   "codemirror_mode": {
    "name": "ipython",
    "version": 3
   },
   "file_extension": ".py",
   "mimetype": "text/x-python",
   "name": "python",
   "nbconvert_exporter": "python",
   "pygments_lexer": "ipython3",
   "version": "3.9.23"
  }
 },
 "nbformat": 4,
 "nbformat_minor": 5
}
